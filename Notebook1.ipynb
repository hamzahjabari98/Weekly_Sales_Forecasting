{
 "cells": [
  {
   "cell_type": "markdown",
   "metadata": {},
   "source": [
    "# Importing Libraries"
   ]
  },
  {
   "cell_type": "code",
   "execution_count": 1,
   "metadata": {},
   "outputs": [],
   "source": [
    "import pandas as pd\n",
    "import numpy as np\n",
    "from statsmodels.stats.weightstats import ztest\n",
    "from sklearn.preprocessing import LabelEncoder, MinMaxScaler, StandardScaler, OrdinalEncoder\n",
    "from sklearn.model_selection import train_test_split, GridSearchCV, learning_curve, KFold, cross_val_score\n",
    "from sklearn.feature_selection import RFE, SelectKBest, mutual_info_regression, SelectFromModel\n",
    "from scipy.stats import zscore\n",
    "from sklearn.ensemble import StackingRegressor, VotingRegressor, RandomForestRegressor, BaggingRegressor\n",
    "from xgboost import XGBRegressor\n",
    "from catboost import CatBoostRegressor\n",
    "import lightgbm as lgb\n",
    "from sklearn.tree import DecisionTreeRegressor\n",
    "from pandas.plotting import scatter_matrix\n",
    "import plotly.express as px\n",
    "import seaborn as sns\n",
    "import matplotlib.pyplot as plt\n",
    "import plotly.graph_objects as go\n",
    "from plotly.subplots import make_subplots\n",
    "import os\n",
    "import plotly.io as pio\n",
    "from sklearn.metrics import mean_absolute_error\n",
    "from sklearn.inspection import permutation_importance\n"
   ]
  },
  {
   "cell_type": "markdown",
   "metadata": {},
   "source": [
    "# Reading & Merging & Preprocessing "
   ]
  },
  {
   "cell_type": "code",
   "execution_count": 2,
   "metadata": {},
   "outputs": [],
   "source": [
    "class DataLoadMergePreprocess:\n",
    "    def __init__(self, features_path='features.csv', stores_path='stores.csv', train_path='train.csv'):\n",
    "        self.features_path = features_path\n",
    "        self.stores_path = stores_path\n",
    "        self.train_path = train_path\n",
    "        self.df = pd.DataFrame()\n",
    "\n",
    "    def load_merge_data(self):\n",
    "        \"\"\"\n",
    "        Load and merge data from features, stores, and train CSV files into one dataframe.\n",
    "        \"\"\"\n",
    "        # Load data from CSV files\n",
    "        self.features = pd.read_csv(self.features_path)\n",
    "        self.stores = pd.read_csv(self.stores_path)\n",
    "        self.train = pd.read_csv(self.train_path)\n",
    "\n",
    "        # Fill missing values in the 'MarkDown' columns with zeros\n",
    "        MarkDown_column = ['MarkDown1', 'MarkDown2', 'MarkDown3', 'MarkDown4', 'MarkDown5']\n",
    "        for column in MarkDown_column:\n",
    "            median_value = self.features[column].median()\n",
    "            self.features[column] = self.features[column].fillna(median_value)\n",
    "        \n",
    "        # Fill missing values in 'CPI' and 'Unemployment' columns with the last recorded non-null value\n",
    "        other = ['CPI', 'Unemployment']\n",
    "        for column in other:\n",
    "            self.features[column] = self.features[column].fillna(method='ffill')\n",
    "\n",
    "        # Merge the train, stores, and features dataframes based on common columns\n",
    "        train_stores = pd.merge(self.train, self.stores, on='Store')\n",
    "        self.df = pd.merge(train_stores, self.features, on=['Store', 'Date', 'IsHoliday'])\n",
    "\n",
    "    def preprocess(self, holiday_columns=True):\n",
    "\n",
    "        \"\"\"\n",
    "        Applying data transformation to the data along with applying the holiday function that adds new columns representing each holiday.\n",
    "        \"\"\"\n",
    "        if self.df is None:\n",
    "            raise Exception(\"Data has not been loaded and merged yet.\")\n",
    "        # Stripping whitespace from column names\n",
    "        self.df.columns = self.df.columns.str.strip()\n",
    "\n",
    "        # Transforming the date column into datetime and extracting all the needed features from the date column \n",
    "        self.df['Date'] = pd.to_datetime(self.df['Date']) \n",
    "        self.df['Week'] = self.df['Date'].dt.isocalendar().week.astype(int)\n",
    "        self.df['Month'] = self.df['Date'].dt.month\n",
    "        self.df['Year'] = self.df['Date'].dt.year\n",
    "        # self.df.drop(columns=['Date'], axis=1, inplace=True)\n",
    "\n",
    "        # Transforming the Temperature column from K to C \n",
    "        self.df['Temperature'] = (self.df['Temperature'] - 32) * 5/9\n",
    "        \n",
    "        # Taking the absolute value of the target column \n",
    "        self.df['Weekly_Sales'] = self.df['Weekly_Sales'].abs()\n",
    "\n",
    "        if holiday_columns:\n",
    "            # Extracting holiday names from IsHoliday column \n",
    "            self.df = self.add_holiday_columns(self.df)\n",
    "\n",
    "    def encoding(self, df, bool_col=['IsHoliday', 'Super_Bowl', 'Labour_Day', 'Thanksgiving_Day', 'Christmas'], \n",
    "                    cat_col='Type', bool_enc_type='numeric', cat_enc_type='numeric'):\n",
    "\n",
    "        \"\"\"\n",
    "        Giving the user multiple ways to encode the boolean column along with the categorical columns.\n",
    "        \"\"\"\n",
    "        if self.df is None:\n",
    "            raise Exception(\"Data has not been loaded and merged yet.\")\n",
    "\n",
    "        if bool_enc_type == 'numeric':\n",
    "            df[bool_col] = np.where(df[bool_col] == True, 1, 0)\n",
    "        elif bool_enc_type == 'onehotencode':\n",
    "            df = pd.get_dummies(df, columns=[bool_col])\n",
    "        elif bool_enc_type == 'labelencode':\n",
    "            le = LabelEncoder()\n",
    "            df[bool_col] = le.fit_transform(df[bool_col])\n",
    "        else:\n",
    "            raise ValueError(\"Invalid boolean encoding type. Please choose 'numeric', 'onehotencode', or 'labelencode'.\")\n",
    "\n",
    "        if cat_enc_type == 'numeric':\n",
    "            df[cat_col] = np.where(df[cat_col] == 'A', 3, np.where(df[cat_col] == 'B', 2, 1))\n",
    "        elif cat_enc_type == 'onehotencode':\n",
    "            df = pd.get_dummies(df, columns=[cat_col])\n",
    "        elif cat_enc_type == 'ordinalencode':\n",
    "            oe = OrdinalEncoder()\n",
    "            df[cat_col] = oe.fit_transform(df[cat_col])\n",
    "        else:\n",
    "            raise ValueError(\"Invalid categorical encoding type. Please choose 'numeric', 'onehotencode' or 'ordinalencode'.\")\n",
    "\n",
    "        return df\n",
    "\n",
    "    def outlier_treatment(self, df):\n",
    "\n",
    "        \"\"\"\n",
    "        Detecting the outliers in numerical columns and teating them by repalcing the values, \n",
    "        when the value is higher than the upper whisker it will be replaced by the upper whisker, \n",
    "        and when its lower than the lower whisker it would be replaced with the lower whisker.\n",
    "        \"\"\"\n",
    "        whisker_multiplier = 1.5\n",
    "        col_num = ['Size','Temperature', 'Fuel_Price', 'MarkDown1', 'MarkDown2', 'MarkDown3','MarkDown4', 'MarkDown5', 'CPI', 'Unemployment',]\n",
    "        for column in col_num:\n",
    "            Q1 = df[column].quantile(0.25)\n",
    "            Q3 = df[column].quantile(0.75)\n",
    "            IQR = Q3 - Q1\n",
    "            lower_whisker = Q1 - whisker_multiplier * IQR\n",
    "            upper_whisker = Q3 + whisker_multiplier * IQR\n",
    "\n",
    "            df[column] = np.where(df[column] < lower_whisker, lower_whisker, df[column])\n",
    "            df[column] = np.where(df[column] > upper_whisker, upper_whisker, df[column])\n",
    "\n",
    "        return df\n",
    "\n",
    "    def add_holiday_columns(self, df):\n",
    "\n",
    "        \"\"\"\n",
    "        Adding Columns per each holiday to the data\n",
    "        \"\"\"\n",
    "        if self.df is None:\n",
    "            raise Exception(\"Data has not been loaded and merged yet.\")\n",
    "        \n",
    "        # Extracting a column for each holiday that exist in IsHoliday column \n",
    "        Super_Bowl = pd.to_datetime([\"2010-02-12\", \"2011-02-11\", \"2012-02-10\", \"2013-02-08\"])\n",
    "        Labour_Day = pd.to_datetime([\"2010-09-10\", \"2011-09-09\", \"2012-09-07\", ])\n",
    "        Thanksgiving_Day = pd.to_datetime([\"2010-11-26\", \"2011-11-25\", '2012-11-23'])\n",
    "        Christmas = pd.to_datetime([\"2010-12-31\", \"2011-12-30\", '2012-12-28'])\n",
    "        df[\"Super_Bowl\"] = df[\"Date\"].isin(Super_Bowl)\n",
    "        df[\"Labour_Day\"] = df[\"Date\"].isin(Labour_Day)\n",
    "        df[\"Thanksgiving_Day\"] = df[\"Date\"].isin(Thanksgiving_Day)\n",
    "        df[\"Christmas\"] = df[\"Date\"].isin(Christmas)\n",
    "        return df\n",
    "    \n",
    "    def split_scale(self, df, scale=True, scaling_method='standard', year_train_start=2010, year_train_end=2012, year_test=2012):\n",
    "\n",
    "        \"\"\"\n",
    "        Returning the data in splitted and scaled form along with the scaler to scale the new test set \n",
    "        \"\"\"\n",
    "        \n",
    "        df.sort_values(by='Date', ascending=True, inplace=True)\n",
    "        df.set_index('Date', inplace=True)\n",
    "\n",
    "        X_train = df[(df['Year']>=year_train_start) & (df['Year']<year_train_end)].drop('Weekly_Sales', axis=1)\n",
    "        y_train = df[(df['Year']>=year_train_start) & (df['Year']<year_train_end)]['Weekly_Sales']\n",
    "\n",
    "        X_test = df[df['Year']==year_test].drop('Weekly_Sales', axis=1)\n",
    "        y_test = df[df['Year']==year_test]['Weekly_Sales']\n",
    "\n",
    "        if scale:\n",
    "            num_col=['Size','Temperature', 'Fuel_Price', 'MarkDown1', 'MarkDown2', \n",
    "                                'MarkDown3', 'MarkDown4', 'MarkDown5','CPI','Unemployment']\n",
    "            \n",
    "            if scaling_method == 'minmax':\n",
    "                scaler = MinMaxScaler()\n",
    "            elif scaling_method == 'standard':\n",
    "                scaler = StandardScaler()\n",
    "            else:\n",
    "                raise ValueError(\"Invalid scaling method. Please choose 'minmax' or 'standard'.\")\n",
    "            \n",
    "            X_train[num_col] = scaler.fit_transform(X_train[num_col])\n",
    "            X_test[num_col] = scaler.transform(X_test[num_col])\n",
    "        \n",
    "        return df.drop('Weekly_Sales', axis=1), df['Weekly_Sales'], X_train, X_test, y_train, y_test, scaler\n",
    "        \n",
    "    def new_test_data(self, scaler):\n",
    "\n",
    "        \"\"\"\n",
    "        Doing all the preprocessing and transformation steps on the test data that do not have target column\n",
    "        \"\"\"\n",
    "        features = pd.read_csv('features.csv')\n",
    "        stores = pd.read_csv('stores.csv')\n",
    "        test = pd.read_csv('test.csv')\n",
    "        \n",
    "        # Fill missing values in the 'MarkDown' columns with zeros\n",
    "        MarkDown_column = ['MarkDown1', 'MarkDown2', 'MarkDown3', 'MarkDown4', 'MarkDown5']\n",
    "        for column in MarkDown_column:\n",
    "            median_value = features[column].median()\n",
    "            features[column] = features[column].fillna(median_value)\n",
    "        \n",
    "        # Fill missing values in 'CPI' and 'Unemployment' columns with the last recorded non-null value\n",
    "        other = ['CPI', 'Unemployment']\n",
    "        for column in other:\n",
    "            features[column] = features[column].fillna(method='ffill')\n",
    "\n",
    "        # Merge the train, stores, and features dataframes based on common columns\n",
    "        test_stores = pd.merge(test, stores, on='Store')\n",
    "        df = pd.merge(test_stores, features, on=['Store', 'Date', 'IsHoliday'])\n",
    "        df.columns = df.columns.str.strip()\n",
    "\n",
    "        # Transforming the date column into datetime and extracting all the needed features from the date column \n",
    "        df['Date'] = pd.to_datetime(df['Date']) \n",
    "        df['Week'] = df['Date'].dt.isocalendar().week.astype(int)\n",
    "        df['Month'] = df['Date'].dt.month\n",
    "        df['Year'] = df['Date'].dt.year\n",
    "        # self.df.drop(columns=['Date'], axis=1, inplace=True)\n",
    "\n",
    "        # Transforming the Temperature column from K to C \n",
    "        df['Temperature'] = (df['Temperature'] - 32) * 5/9\n",
    "        Super_Bowl = pd.to_datetime([\"2010-02-12\", \"2011-02-11\", \"2012-02-10\", \"2013-02-08\"])\n",
    "        Labour_Day = pd.to_datetime([\"2010-09-10\", \"2011-09-09\", \"2012-09-07\", ])\n",
    "        Thanksgiving_Day = pd.to_datetime([\"2010-11-26\", \"2011-11-25\", '2012-11-23'])\n",
    "        Christmas = pd.to_datetime([\"2010-12-31\", \"2011-12-30\", '2012-12-28'])\n",
    "        df[\"Super_Bowl\"] = df[\"Date\"].isin(Super_Bowl)\n",
    "        df[\"Labour_Day\"] = df[\"Date\"].isin(Labour_Day)\n",
    "        df[\"Thanksgiving_Day\"] = df[\"Date\"].isin(Thanksgiving_Day)\n",
    "        df[\"Christmas\"] = df[\"Date\"].isin(Christmas)\n",
    "\n",
    "        whisker_multiplier = 1.5\n",
    "        col_num = ['Size','Temperature', 'Fuel_Price', 'MarkDown1', 'MarkDown2', 'MarkDown3','MarkDown4', 'MarkDown5', 'CPI', 'Unemployment']\n",
    "        for column in col_num:\n",
    "            Q1 = df[column].quantile(0.25)\n",
    "            Q3 = df[column].quantile(0.75)\n",
    "            IQR = Q3 - Q1\n",
    "            lower_whisker = Q1 - whisker_multiplier * IQR\n",
    "            upper_whisker = Q3 + whisker_multiplier * IQR\n",
    "\n",
    "            df[column] = np.where(df[column] < lower_whisker, lower_whisker, df[column])\n",
    "            df[column] = np.where(df[column] > upper_whisker, upper_whisker, df[column])\n",
    "\n",
    "        df.sort_values(by='Date', ascending=True, inplace=True)\n",
    "        df.set_index('Date', inplace=True)\n",
    "\n",
    "        num_col=['Size','Temperature', 'Fuel_Price', 'MarkDown1', 'MarkDown2', \n",
    "                                'MarkDown3', 'MarkDown4', 'MarkDown5','CPI','Unemployment']\n",
    "        \n",
    "        df[num_col] = scaler.transform(df[num_col])\n",
    "\n",
    "        bool_col=['IsHoliday', 'Super_Bowl', 'Labour_Day', 'Thanksgiving_Day', 'Christmas']\n",
    "        df[bool_col] = np.where(df[bool_col] == True, 1, 0)\n",
    "        \n",
    "        cat_col='Type'\n",
    "        \n",
    "        df[cat_col] = np.where(df[cat_col] == 'A', 3, np.where(df[cat_col] == 'B', 2, 1))\n",
    "        \n",
    "        return df\n"
   ]
  },
  {
   "cell_type": "code",
   "execution_count": 3,
   "metadata": {},
   "outputs": [],
   "source": [
    "# Creating an object to load and process the data \n",
    "data_processor = DataLoadMergePreprocess()\n",
    "data_processor.load_merge_data()\n",
    "data_processor.preprocess()\n",
    "df = data_processor.df\n"
   ]
  },
  {
   "cell_type": "code",
   "execution_count": 4,
   "metadata": {},
   "outputs": [
    {
     "data": {
      "text/html": [
       "<div>\n",
       "<style scoped>\n",
       "    .dataframe tbody tr th:only-of-type {\n",
       "        vertical-align: middle;\n",
       "    }\n",
       "\n",
       "    .dataframe tbody tr th {\n",
       "        vertical-align: top;\n",
       "    }\n",
       "\n",
       "    .dataframe thead th {\n",
       "        text-align: right;\n",
       "    }\n",
       "</style>\n",
       "<table border=\"1\" class=\"dataframe\">\n",
       "  <thead>\n",
       "    <tr style=\"text-align: right;\">\n",
       "      <th></th>\n",
       "      <th>Store</th>\n",
       "      <th>Dept</th>\n",
       "      <th>Date</th>\n",
       "      <th>Weekly_Sales</th>\n",
       "      <th>IsHoliday</th>\n",
       "      <th>Type</th>\n",
       "      <th>Size</th>\n",
       "      <th>Temperature</th>\n",
       "      <th>Fuel_Price</th>\n",
       "      <th>MarkDown1</th>\n",
       "      <th>...</th>\n",
       "      <th>MarkDown5</th>\n",
       "      <th>CPI</th>\n",
       "      <th>Unemployment</th>\n",
       "      <th>Week</th>\n",
       "      <th>Month</th>\n",
       "      <th>Year</th>\n",
       "      <th>Super_Bowl</th>\n",
       "      <th>Labour_Day</th>\n",
       "      <th>Thanksgiving_Day</th>\n",
       "      <th>Christmas</th>\n",
       "    </tr>\n",
       "  </thead>\n",
       "  <tbody>\n",
       "    <tr>\n",
       "      <th>0</th>\n",
       "      <td>1</td>\n",
       "      <td>1</td>\n",
       "      <td>2010-02-05</td>\n",
       "      <td>24924.50</td>\n",
       "      <td>False</td>\n",
       "      <td>A</td>\n",
       "      <td>151315</td>\n",
       "      <td>5.727778</td>\n",
       "      <td>2.572</td>\n",
       "      <td>4743.58</td>\n",
       "      <td>...</td>\n",
       "      <td>2727.135</td>\n",
       "      <td>211.096358</td>\n",
       "      <td>8.106</td>\n",
       "      <td>5</td>\n",
       "      <td>2</td>\n",
       "      <td>2010</td>\n",
       "      <td>False</td>\n",
       "      <td>False</td>\n",
       "      <td>False</td>\n",
       "      <td>False</td>\n",
       "    </tr>\n",
       "    <tr>\n",
       "      <th>1</th>\n",
       "      <td>1</td>\n",
       "      <td>2</td>\n",
       "      <td>2010-02-05</td>\n",
       "      <td>50605.27</td>\n",
       "      <td>False</td>\n",
       "      <td>A</td>\n",
       "      <td>151315</td>\n",
       "      <td>5.727778</td>\n",
       "      <td>2.572</td>\n",
       "      <td>4743.58</td>\n",
       "      <td>...</td>\n",
       "      <td>2727.135</td>\n",
       "      <td>211.096358</td>\n",
       "      <td>8.106</td>\n",
       "      <td>5</td>\n",
       "      <td>2</td>\n",
       "      <td>2010</td>\n",
       "      <td>False</td>\n",
       "      <td>False</td>\n",
       "      <td>False</td>\n",
       "      <td>False</td>\n",
       "    </tr>\n",
       "    <tr>\n",
       "      <th>2</th>\n",
       "      <td>1</td>\n",
       "      <td>3</td>\n",
       "      <td>2010-02-05</td>\n",
       "      <td>13740.12</td>\n",
       "      <td>False</td>\n",
       "      <td>A</td>\n",
       "      <td>151315</td>\n",
       "      <td>5.727778</td>\n",
       "      <td>2.572</td>\n",
       "      <td>4743.58</td>\n",
       "      <td>...</td>\n",
       "      <td>2727.135</td>\n",
       "      <td>211.096358</td>\n",
       "      <td>8.106</td>\n",
       "      <td>5</td>\n",
       "      <td>2</td>\n",
       "      <td>2010</td>\n",
       "      <td>False</td>\n",
       "      <td>False</td>\n",
       "      <td>False</td>\n",
       "      <td>False</td>\n",
       "    </tr>\n",
       "    <tr>\n",
       "      <th>3</th>\n",
       "      <td>1</td>\n",
       "      <td>4</td>\n",
       "      <td>2010-02-05</td>\n",
       "      <td>39954.04</td>\n",
       "      <td>False</td>\n",
       "      <td>A</td>\n",
       "      <td>151315</td>\n",
       "      <td>5.727778</td>\n",
       "      <td>2.572</td>\n",
       "      <td>4743.58</td>\n",
       "      <td>...</td>\n",
       "      <td>2727.135</td>\n",
       "      <td>211.096358</td>\n",
       "      <td>8.106</td>\n",
       "      <td>5</td>\n",
       "      <td>2</td>\n",
       "      <td>2010</td>\n",
       "      <td>False</td>\n",
       "      <td>False</td>\n",
       "      <td>False</td>\n",
       "      <td>False</td>\n",
       "    </tr>\n",
       "    <tr>\n",
       "      <th>4</th>\n",
       "      <td>1</td>\n",
       "      <td>5</td>\n",
       "      <td>2010-02-05</td>\n",
       "      <td>32229.38</td>\n",
       "      <td>False</td>\n",
       "      <td>A</td>\n",
       "      <td>151315</td>\n",
       "      <td>5.727778</td>\n",
       "      <td>2.572</td>\n",
       "      <td>4743.58</td>\n",
       "      <td>...</td>\n",
       "      <td>2727.135</td>\n",
       "      <td>211.096358</td>\n",
       "      <td>8.106</td>\n",
       "      <td>5</td>\n",
       "      <td>2</td>\n",
       "      <td>2010</td>\n",
       "      <td>False</td>\n",
       "      <td>False</td>\n",
       "      <td>False</td>\n",
       "      <td>False</td>\n",
       "    </tr>\n",
       "  </tbody>\n",
       "</table>\n",
       "<p>5 rows × 23 columns</p>\n",
       "</div>"
      ],
      "text/plain": [
       "   Store  Dept       Date  Weekly_Sales  IsHoliday Type    Size  Temperature  \\\n",
       "0      1     1 2010-02-05      24924.50      False    A  151315     5.727778   \n",
       "1      1     2 2010-02-05      50605.27      False    A  151315     5.727778   \n",
       "2      1     3 2010-02-05      13740.12      False    A  151315     5.727778   \n",
       "3      1     4 2010-02-05      39954.04      False    A  151315     5.727778   \n",
       "4      1     5 2010-02-05      32229.38      False    A  151315     5.727778   \n",
       "\n",
       "   Fuel_Price  MarkDown1  ...  MarkDown5         CPI  Unemployment  Week  \\\n",
       "0       2.572    4743.58  ...   2727.135  211.096358         8.106     5   \n",
       "1       2.572    4743.58  ...   2727.135  211.096358         8.106     5   \n",
       "2       2.572    4743.58  ...   2727.135  211.096358         8.106     5   \n",
       "3       2.572    4743.58  ...   2727.135  211.096358         8.106     5   \n",
       "4       2.572    4743.58  ...   2727.135  211.096358         8.106     5   \n",
       "\n",
       "   Month  Year  Super_Bowl  Labour_Day  Thanksgiving_Day  Christmas  \n",
       "0      2  2010       False       False             False      False  \n",
       "1      2  2010       False       False             False      False  \n",
       "2      2  2010       False       False             False      False  \n",
       "3      2  2010       False       False             False      False  \n",
       "4      2  2010       False       False             False      False  \n",
       "\n",
       "[5 rows x 23 columns]"
      ]
     },
     "execution_count": 4,
     "metadata": {},
     "output_type": "execute_result"
    }
   ],
   "source": [
    "df.head()"
   ]
  },
  {
   "cell_type": "code",
   "execution_count": 5,
   "metadata": {},
   "outputs": [
    {
     "data": {
      "text/html": [
       "<div>\n",
       "<style scoped>\n",
       "    .dataframe tbody tr th:only-of-type {\n",
       "        vertical-align: middle;\n",
       "    }\n",
       "\n",
       "    .dataframe tbody tr th {\n",
       "        vertical-align: top;\n",
       "    }\n",
       "\n",
       "    .dataframe thead th {\n",
       "        text-align: right;\n",
       "    }\n",
       "</style>\n",
       "<table border=\"1\" class=\"dataframe\">\n",
       "  <thead>\n",
       "    <tr style=\"text-align: right;\">\n",
       "      <th></th>\n",
       "      <th>Store</th>\n",
       "      <th>Dept</th>\n",
       "      <th>Date</th>\n",
       "      <th>Weekly_Sales</th>\n",
       "      <th>IsHoliday</th>\n",
       "      <th>Type</th>\n",
       "      <th>Size</th>\n",
       "      <th>Temperature</th>\n",
       "      <th>Fuel_Price</th>\n",
       "      <th>MarkDown1</th>\n",
       "      <th>...</th>\n",
       "      <th>MarkDown5</th>\n",
       "      <th>CPI</th>\n",
       "      <th>Unemployment</th>\n",
       "      <th>Week</th>\n",
       "      <th>Month</th>\n",
       "      <th>Year</th>\n",
       "      <th>Super_Bowl</th>\n",
       "      <th>Labour_Day</th>\n",
       "      <th>Thanksgiving_Day</th>\n",
       "      <th>Christmas</th>\n",
       "    </tr>\n",
       "  </thead>\n",
       "  <tbody>\n",
       "    <tr>\n",
       "      <th>421565</th>\n",
       "      <td>45</td>\n",
       "      <td>93</td>\n",
       "      <td>2012-10-26</td>\n",
       "      <td>2487.80</td>\n",
       "      <td>False</td>\n",
       "      <td>B</td>\n",
       "      <td>118221</td>\n",
       "      <td>14.916667</td>\n",
       "      <td>3.882</td>\n",
       "      <td>4018.91</td>\n",
       "      <td>...</td>\n",
       "      <td>858.33</td>\n",
       "      <td>192.308899</td>\n",
       "      <td>8.667</td>\n",
       "      <td>43</td>\n",
       "      <td>10</td>\n",
       "      <td>2012</td>\n",
       "      <td>False</td>\n",
       "      <td>False</td>\n",
       "      <td>False</td>\n",
       "      <td>False</td>\n",
       "    </tr>\n",
       "    <tr>\n",
       "      <th>421566</th>\n",
       "      <td>45</td>\n",
       "      <td>94</td>\n",
       "      <td>2012-10-26</td>\n",
       "      <td>5203.31</td>\n",
       "      <td>False</td>\n",
       "      <td>B</td>\n",
       "      <td>118221</td>\n",
       "      <td>14.916667</td>\n",
       "      <td>3.882</td>\n",
       "      <td>4018.91</td>\n",
       "      <td>...</td>\n",
       "      <td>858.33</td>\n",
       "      <td>192.308899</td>\n",
       "      <td>8.667</td>\n",
       "      <td>43</td>\n",
       "      <td>10</td>\n",
       "      <td>2012</td>\n",
       "      <td>False</td>\n",
       "      <td>False</td>\n",
       "      <td>False</td>\n",
       "      <td>False</td>\n",
       "    </tr>\n",
       "    <tr>\n",
       "      <th>421567</th>\n",
       "      <td>45</td>\n",
       "      <td>95</td>\n",
       "      <td>2012-10-26</td>\n",
       "      <td>56017.47</td>\n",
       "      <td>False</td>\n",
       "      <td>B</td>\n",
       "      <td>118221</td>\n",
       "      <td>14.916667</td>\n",
       "      <td>3.882</td>\n",
       "      <td>4018.91</td>\n",
       "      <td>...</td>\n",
       "      <td>858.33</td>\n",
       "      <td>192.308899</td>\n",
       "      <td>8.667</td>\n",
       "      <td>43</td>\n",
       "      <td>10</td>\n",
       "      <td>2012</td>\n",
       "      <td>False</td>\n",
       "      <td>False</td>\n",
       "      <td>False</td>\n",
       "      <td>False</td>\n",
       "    </tr>\n",
       "    <tr>\n",
       "      <th>421568</th>\n",
       "      <td>45</td>\n",
       "      <td>97</td>\n",
       "      <td>2012-10-26</td>\n",
       "      <td>6817.48</td>\n",
       "      <td>False</td>\n",
       "      <td>B</td>\n",
       "      <td>118221</td>\n",
       "      <td>14.916667</td>\n",
       "      <td>3.882</td>\n",
       "      <td>4018.91</td>\n",
       "      <td>...</td>\n",
       "      <td>858.33</td>\n",
       "      <td>192.308899</td>\n",
       "      <td>8.667</td>\n",
       "      <td>43</td>\n",
       "      <td>10</td>\n",
       "      <td>2012</td>\n",
       "      <td>False</td>\n",
       "      <td>False</td>\n",
       "      <td>False</td>\n",
       "      <td>False</td>\n",
       "    </tr>\n",
       "    <tr>\n",
       "      <th>421569</th>\n",
       "      <td>45</td>\n",
       "      <td>98</td>\n",
       "      <td>2012-10-26</td>\n",
       "      <td>1076.80</td>\n",
       "      <td>False</td>\n",
       "      <td>B</td>\n",
       "      <td>118221</td>\n",
       "      <td>14.916667</td>\n",
       "      <td>3.882</td>\n",
       "      <td>4018.91</td>\n",
       "      <td>...</td>\n",
       "      <td>858.33</td>\n",
       "      <td>192.308899</td>\n",
       "      <td>8.667</td>\n",
       "      <td>43</td>\n",
       "      <td>10</td>\n",
       "      <td>2012</td>\n",
       "      <td>False</td>\n",
       "      <td>False</td>\n",
       "      <td>False</td>\n",
       "      <td>False</td>\n",
       "    </tr>\n",
       "  </tbody>\n",
       "</table>\n",
       "<p>5 rows × 23 columns</p>\n",
       "</div>"
      ],
      "text/plain": [
       "        Store  Dept       Date  Weekly_Sales  IsHoliday Type    Size  \\\n",
       "421565     45    93 2012-10-26       2487.80      False    B  118221   \n",
       "421566     45    94 2012-10-26       5203.31      False    B  118221   \n",
       "421567     45    95 2012-10-26      56017.47      False    B  118221   \n",
       "421568     45    97 2012-10-26       6817.48      False    B  118221   \n",
       "421569     45    98 2012-10-26       1076.80      False    B  118221   \n",
       "\n",
       "        Temperature  Fuel_Price  MarkDown1  ...  MarkDown5         CPI  \\\n",
       "421565    14.916667       3.882    4018.91  ...     858.33  192.308899   \n",
       "421566    14.916667       3.882    4018.91  ...     858.33  192.308899   \n",
       "421567    14.916667       3.882    4018.91  ...     858.33  192.308899   \n",
       "421568    14.916667       3.882    4018.91  ...     858.33  192.308899   \n",
       "421569    14.916667       3.882    4018.91  ...     858.33  192.308899   \n",
       "\n",
       "        Unemployment  Week  Month  Year  Super_Bowl  Labour_Day  \\\n",
       "421565         8.667    43     10  2012       False       False   \n",
       "421566         8.667    43     10  2012       False       False   \n",
       "421567         8.667    43     10  2012       False       False   \n",
       "421568         8.667    43     10  2012       False       False   \n",
       "421569         8.667    43     10  2012       False       False   \n",
       "\n",
       "        Thanksgiving_Day  Christmas  \n",
       "421565             False      False  \n",
       "421566             False      False  \n",
       "421567             False      False  \n",
       "421568             False      False  \n",
       "421569             False      False  \n",
       "\n",
       "[5 rows x 23 columns]"
      ]
     },
     "execution_count": 5,
     "metadata": {},
     "output_type": "execute_result"
    }
   ],
   "source": [
    "df.tail()"
   ]
  },
  {
   "attachments": {},
   "cell_type": "markdown",
   "metadata": {},
   "source": [
    "### Data Explorering"
   ]
  },
  {
   "attachments": {},
   "cell_type": "markdown",
   "metadata": {},
   "source": [
    "Converting the date column to datetime and extracting all the relavent information"
   ]
  },
  {
   "cell_type": "code",
   "execution_count": null,
   "metadata": {},
   "outputs": [],
   "source": [
    "sales_drop = df.groupby(['Year', 'Month'])['Weekly_Sales'].mean().reset_index()"
   ]
  },
  {
   "attachments": {},
   "cell_type": "markdown",
   "metadata": {},
   "source": [
    "The mean of weekly sales is generally consistent across the months, except for January and the months following November and December, where the sales show a significant drop."
   ]
  },
  {
   "cell_type": "code",
   "execution_count": null,
   "metadata": {},
   "outputs": [],
   "source": [
    "sales_drop.head()"
   ]
  },
  {
   "cell_type": "code",
   "execution_count": null,
   "metadata": {},
   "outputs": [],
   "source": [
    "sales_precent_drop = (1 - sales_drop[sales_drop['Month']==1]['Weekly_Sales'].mean() / sales_drop[sales_drop['Month']==12]['Weekly_Sales'].mean())* 100\n",
    "print(f'The precentage of sales drop in December 2010 and January 2011 is: {round(sales_precent_drop, 1)} %')"
   ]
  },
  {
   "cell_type": "code",
   "execution_count": null,
   "metadata": {},
   "outputs": [],
   "source": [
    "def save_plot_as_image(fig, file_name, file_path, width=None, height=None):\n",
    "    \"\"\"\n",
    "    Save a Plotly figure as an image at the specified file path.\n",
    "\n",
    "    Args:\n",
    "        fig (plotly.graph_objs.Figure): The Plotly figure to save.\n",
    "        file_name (str): The name of the image file.\n",
    "        file_path (str): The path where the image file should be saved.\n",
    "    \"\"\"\n",
    "    # Create the folder if it doesn't exist\n",
    "    os.makedirs(file_path, exist_ok=True)\n",
    "\n",
    "    # Save the figure as an image\n",
    "    file_name_with_extension = f\"{file_name}.png\"\n",
    "    file_path_with_extension = os.path.join(file_path, file_name_with_extension)\n",
    "    pio.write_image(fig, file_path_with_extension, format=\"png\", scale=5, width=width, height=height)\n"
   ]
  },
  {
   "attachments": {},
   "cell_type": "markdown",
   "metadata": {},
   "source": [
    "# Data Analysis "
   ]
  },
  {
   "cell_type": "code",
   "execution_count": null,
   "metadata": {},
   "outputs": [],
   "source": [
    "Store_vs_WeeklySale = df.groupby(['Store']).agg({'Weekly_Sales': 'mean'}).reset_index()\n",
    "\n",
    "Store_vs_WeeklySale['Group'] = pd.cut(Store_vs_WeeklySale['Weekly_Sales'], \n",
    "                                      bins=[0, 5000, 10000, 15000, 20000, 25000, 30000],\n",
    "                                      labels=['0 - 5000', '5000 - 10000', '10000 - 15000',\n",
    "                                              '15000 - 20000', '20000 - 25000', '25000 - 30000'])\n",
    "\n",
    "Store_vs_WeeklySale = Store_vs_WeeklySale.groupby(['Group'])['Weekly_Sales'].agg('count').reset_index()\n",
    "\n",
    "# Average_Weekly_Sales_By_Store_fig = px.bar(Store_vs_WeeklySale, x='Store', y='Weekly_Sales',\n",
    "#                                            title='Average Weekly Sale by Store')\n",
    "\n",
    "# Average_Weekly_Sales_By_Store_fig.update_layout(\n",
    "#     xaxis_title=\"Store\", yaxis_title=\"Average Weekly Sale\")\n",
    "\n",
    "# Average_Weekly_Sales_By_Store_fig.show()\n",
    "# save_plot_as_image(Average_Weekly_Sales_By_Store_fig,\n",
    "#                    'Average_Weekly_Sales_By_Store_fig.png', 'figures/', width=1200, height=600)\n",
    "\n"
   ]
  },
  {
   "cell_type": "code",
   "execution_count": null,
   "metadata": {},
   "outputs": [],
   "source": [
    "fig = px.bar(Store_vs_WeeklySale, x = 'Group', y='Weekly_Sales', title= 'Average Weekly Sales by Stores Groups', width=800, height=600)\n",
    "fig.update_layout(\n",
    "    xaxis_title=\"Groups of Store based on Average Weekly Sale\", yaxis_title=\"Count of Stores\")\n",
    "fig.show()"
   ]
  },
  {
   "cell_type": "code",
   "execution_count": null,
   "metadata": {},
   "outputs": [],
   "source": [
    "store_sale = df.groupby(['Month', 'Store'])['Weekly_Sales'].agg(\n",
    "    ['mean', 'count', 'sum']).reset_index()\n",
    "heatmap_data = store_sale.pivot(\"Store\", \"Month\", \"mean\")\n",
    "\n",
    "Average_Weekly_Sales_By_Store_month_fig = go.Figure(data=go.Heatmap(\n",
    "    z=heatmap_data.values,\n",
    "    x=heatmap_data.columns,\n",
    "    y=heatmap_data.index,\n",
    "    colorscale=\"YlGnBu\",\n",
    "    hovertemplate='Store: %{y}<br>Month: %{x}<br>Average Weekly Sales: %{z}<extra></extra>',\n",
    "    # Round the values in the cells\n",
    "    text=np.round(heatmap_data.values, decimals=1),\n",
    "    zmid=sum(heatmap_data.min()) / 2  \n",
    "))\n",
    "\n",
    "Average_Weekly_Sales_By_Store_month_fig.update_layout(\n",
    "    title=\"Average Sales for Store by Month\",\n",
    "    xaxis_title=\"Month\",\n",
    "    yaxis_title=\"Store\"\n",
    ")\n",
    "\n",
    "Average_Weekly_Sales_By_Store_month_fig.update_layout(\n",
    "    autosize=False,\n",
    "    width=900,\n",
    "    height=900\n",
    ")\n",
    "\n",
    "Average_Weekly_Sales_By_Store_month_fig.update_layout(\n",
    "    annotations=[\n",
    "        go.layout.Annotation(\n",
    "            x=month,\n",
    "            y=store,\n",
    "            text=str(value),\n",
    "            showarrow=False,\n",
    "            font=dict(color='black')\n",
    "        )\n",
    "        for month in heatmap_data.columns\n",
    "        for store in heatmap_data.index\n",
    "        for value in [np.round(heatmap_data.loc[store, month], decimals=1)]\n",
    "    ]\n",
    ")\n",
    "\n",
    "Average_Weekly_Sales_By_Store_month_fig.show()\n",
    "\n",
    "# save_plot_as_image(Average_Weekly_Sales_By_Store_month_fig,\n",
    "#                    'Average_Weekly_Sales_By_Store_month_fig.png', 'figures/', width=900, height=900)\n"
   ]
  },
  {
   "attachments": {},
   "cell_type": "markdown",
   "metadata": {},
   "source": [
    "### Department vs Average Weekly Sales"
   ]
  },
  {
   "cell_type": "code",
   "execution_count": null,
   "metadata": {},
   "outputs": [],
   "source": [
    "\n",
    "store_sale = df.groupby(['Month', 'Dept'])['Weekly_Sales'].agg(\n",
    "    ['mean', 'count', 'sum']).reset_index()\n",
    "heatmap_data = store_sale.pivot(\"Dept\", \"Month\", \"mean\")\n",
    "\n",
    "heatmap_data_filled = heatmap_data.fillna(0)\n",
    "\n",
    "rounded_heatmap_data = heatmap_data_filled.round(1)\n",
    "\n",
    "Average_Weekly_Sales_By_Dept_month_fig = go.Figure(data=go.Heatmap(\n",
    "    z=heatmap_data_filled.values,\n",
    "    x=heatmap_data_filled.columns,\n",
    "    y=heatmap_data_filled.index,\n",
    "    colorscale=\"YlGnBu\",\n",
    "    hovertemplate='Dept: %{y}<br>Month: %{x}<br>Average Weekly Sales: %{z}<extra></extra>',\n",
    "    text=np.round(rounded_heatmap_data.values, decimals=1),\n",
    "    zmid=np.mean(rounded_heatmap_data.min())  \n",
    "))\n",
    "\n",
    "Average_Weekly_Sales_By_Dept_month_fig.update_layout(\n",
    "    title=\"Average Sales for Department by Month\",\n",
    "    xaxis_title=\"Month\",\n",
    "    yaxis_title=\"Dept\"\n",
    ")\n",
    "\n",
    "Average_Weekly_Sales_By_Dept_month_fig.update_xaxes(tickangle=45)\n",
    "\n",
    "Average_Weekly_Sales_By_Dept_month_fig.update_layout(\n",
    "    autosize=False,\n",
    "    width=1200,\n",
    "    height=1200\n",
    ")\n",
    "\n",
    "Average_Weekly_Sales_By_Dept_month_fig.update_layout(\n",
    "    annotations=[\n",
    "        go.layout.Annotation(\n",
    "            x=month,\n",
    "            y=dept,\n",
    "            text=str(value),\n",
    "            showarrow=False,\n",
    "            font=dict(color='black')\n",
    "        )\n",
    "        for month in rounded_heatmap_data.columns\n",
    "        for dept in rounded_heatmap_data.index\n",
    "        for value in [rounded_heatmap_data.loc[dept, month]]\n",
    "    ]\n",
    ")\n",
    "\n",
    "Average_Weekly_Sales_By_Dept_month_fig.show()\n",
    "\n",
    "# save_plot_as_image(Average_Weekly_Sales_By_Dept_month_fig,\n",
    "#                    'Average_Weekly_Sales_By_Dept_month_fig.png', 'figures/', width=1400, height=1500)\n"
   ]
  },
  {
   "cell_type": "code",
   "execution_count": null,
   "metadata": {},
   "outputs": [],
   "source": [
    "Store_size_vs_WeeklySale = df.groupby(['Store', 'Size'])[\n",
    "    'Weekly_Sales'].mean().reset_index()\n",
    "\n",
    "Average_Weekly_Sales_Store_Size = px.bar(Store_size_vs_WeeklySale,\n",
    "                                         x='Store', y='Weekly_Sales', color='Size', title=\"Average Weekly Sales by Store and Size of Store \")\n",
    "Average_Weekly_Sales_Store_Size.show()\n",
    "\n",
    "# save_plot_as_image(Average_Weekly_Sales_Store_Size,\n",
    "#                    'Average_Weekly_Sales_Store_Size.png', 'figures/', width=1200, height=600)"
   ]
  },
  {
   "cell_type": "markdown",
   "metadata": {},
   "source": [
    "## Fuel Price, Temperature, CPI, Unemployment Vs Weekly Sales"
   ]
  },
  {
   "cell_type": "code",
   "execution_count": null,
   "metadata": {},
   "outputs": [],
   "source": [
    "Fuel_Price_vs_WeeklySale = df.groupby(['Fuel_Price'])[\n",
    "    'Weekly_Sales'].mean().reset_index()\n",
    "\n",
    "Average_Weekly_Sales_Fuel_Price = px.line(Fuel_Price_vs_WeeklySale,\n",
    "                                             x='Fuel_Price', y='Weekly_Sales', title=\"Average Weekly Sales by Fuel Price\")\n",
    "Average_Weekly_Sales_Fuel_Price.show()\n",
    "\n",
    "# save_plot_as_image(Average_Weekly_Sales_Fuel_Price,\n",
    "#                    'Average_Weekly_Sales_Fuel_Price.png', 'figures/', width=1200, height=600)\n"
   ]
  },
  {
   "cell_type": "code",
   "execution_count": null,
   "metadata": {},
   "outputs": [],
   "source": [
    "\n",
    "temp_vs_WeeklySale = df.groupby(['Temperature'])[\n",
    "    'Weekly_Sales'].mean().reset_index()\n",
    "\n",
    "Average_Weekly_Sales_Temp = px.line(temp_vs_WeeklySale,\n",
    "                                       x='Temperature', y='Weekly_Sales', title=\"Average Weekly Sales by Temperature\", height=600, width=1200)\n",
    "Average_Weekly_Sales_Temp.show()\n",
    "\n",
    "# save_plot_as_image(Average_Weekly_Sales_Temp,\n",
    "#                    'Average_Weekly_Sales_Temp', 'figures/', width=1200, height=600)\n"
   ]
  },
  {
   "cell_type": "code",
   "execution_count": null,
   "metadata": {},
   "outputs": [],
   "source": [
    "cpi_vs_WeeklySale = df.groupby(['CPI'])['Weekly_Sales'].mean().reset_index()\n",
    "# Year = 2010\n",
    "Average_Weekly_Sales_cpi = px.line(cpi_vs_WeeklySale,\n",
    "                                      x='CPI', y='Weekly_Sales', title=\"Average Weekly Sales by Consumer Price Index (CPI)\",\n",
    "                                      width=1200, height=600)\n",
    "Average_Weekly_Sales_cpi.show()\n",
    "\n",
    "# save_plot_as_image(Average_Weekly_Sales_cpi,\n",
    "#                    'Average_Weekly_Sales_cpi.png', 'figures/', width=1200, height=600)\n"
   ]
  },
  {
   "cell_type": "code",
   "execution_count": null,
   "metadata": {},
   "outputs": [],
   "source": [
    "unemp_vs_WeeklySale = df.groupby(['Unemployment'])[\n",
    "    'Weekly_Sales'].mean().reset_index()\n",
    "\n",
    "Average_Weekly_Sales_unem = px.line(unemp_vs_WeeklySale,\n",
    "                                       x='Unemployment', y='Weekly_Sales', title=\"Average Weekly Sales by Unemployment rate\", width=1000, height=600)\n",
    "Average_Weekly_Sales_unem.show()\n",
    "\n",
    "# save_plot_as_image(Average_Weekly_Sales_unem,\n",
    "#                    'average_weekly_sales_unem', 'figures/', width=1200, height=600)\n",
    "\n"
   ]
  },
  {
   "cell_type": "markdown",
   "metadata": {},
   "source": [
    "## IsHoliday Vs Weekly Sales"
   ]
  },
  {
   "cell_type": "code",
   "execution_count": null,
   "metadata": {},
   "outputs": [],
   "source": [
    "\n",
    "holiday_vs_WeeklySale = df.groupby(\n",
    "    ['IsHoliday'])['Weekly_Sales'].mean().reset_index()\n",
    "    \n",
    "Average_Weekly_Sales_holiday = px.bar(holiday_vs_WeeklySale,\n",
    "                                      x='IsHoliday', y='Weekly_Sales', title=\"Average Weekly Sales by Holiday\", height=400, width=700)\n",
    "Average_Weekly_Sales_holiday.show()\n",
    "\n",
    "# save_plot_as_image(Average_Weekly_Sales_holiday,\n",
    "#                    'Average_Weekly_Sales_holiday.png', 'figures/', width=900, height=600)\n",
    "\n"
   ]
  },
  {
   "cell_type": "code",
   "execution_count": null,
   "metadata": {},
   "outputs": [],
   "source": [
    "store_holiday_vs_WeeklySale = df.groupby(['Month', 'IsHoliday'])[\n",
    "    'Weekly_Sales'].mean().reset_index()\n",
    "\n",
    "Average_Weekly_Sales_Store_holiday = px.bar(store_holiday_vs_WeeklySale,\n",
    "                                            x='Month', y='Weekly_Sales', color='IsHoliday', title=\"Average Weekly Sales by Store and Month\",\n",
    "                                            color_discrete_map={True: 'darkblue', False: 'rgb(136, 204, 238)'}, barmode='group')\n",
    "Average_Weekly_Sales_Store_holiday.show()\n",
    "# save_plot_as_image(Average_Weekly_Sales_Store_holiday,\n",
    "#                    'Average_Weekly_Sales_month_holiday.png', 'figures/', width=1200, height=600)\n"
   ]
  },
  {
   "cell_type": "code",
   "execution_count": null,
   "metadata": {},
   "outputs": [],
   "source": [
    "\n",
    "store_holiday_vs_WeeklySale = df.groupby(['Store', 'IsHoliday'])[\n",
    "    'Weekly_Sales'].mean().reset_index()\n",
    "\n",
    "store_holiday_vs_WeeklySale['Group'] = pd.cut(store_holiday_vs_WeeklySale['Weekly_Sales'], \n",
    "                                      bins=[0, 5000, 10000, 15000, 20000, 25000, 35000],\n",
    "                                      labels=['0 - 5000', '5000 - 10000', '10000 - 15000',\n",
    "                                              '15000 - 20000', '20000 - 25000', '25000 - 35000'])\n",
    "\n",
    "store_holiday_vs_WeeklySale = store_holiday_vs_WeeklySale.groupby(['Group', 'IsHoliday'])['Weekly_Sales'].agg('count').reset_index()\n",
    "\n",
    "\n",
    "Average_Weekly_Sales_Store_holiday = px.bar(store_holiday_vs_WeeklySale,\n",
    "                                            x='Group', y='Weekly_Sales', color='IsHoliday', title=\"Groups of Store based on Average Weekly Sale and Holiday\",\n",
    "                                            color_discrete_map={True: 'darkblue', False: 'rgb(136, 204, 238)'}, barmode='group')\n",
    "Average_Weekly_Sales_Store_holiday.update_layout(\n",
    "    xaxis_title=\"Groups of Store based on Average Weekly Sale\", yaxis_title=\"Count of Stores\")\n",
    "Average_Weekly_Sales_Store_holiday.show()\n",
    "# save_plot_as_image(Average_Weekly_Sales_Store_holiday,\n",
    "#                    'Average_Weekly_Sales_Store_holiday.png', 'figures/', width=1200, height=600)\n",
    "\n"
   ]
  },
  {
   "cell_type": "code",
   "execution_count": null,
   "metadata": {},
   "outputs": [],
   "source": [
    "\n",
    "# Presidents Day\n",
    "Super_Bowl = df.groupby(['Super_Bowl', 'Type'])[\n",
    "    'Weekly_Sales'].mean().reset_index()\n",
    "\n",
    "# Labour Day\n",
    "Labour_Day = df.groupby(['Labour_Day', 'Type'])[\n",
    "    'Weekly_Sales'].mean().reset_index()\n",
    "\n",
    "# Thanksgiving Day\n",
    "Thanksgiving_Day = df.groupby(['Thanksgiving_Day', 'Type'])[\n",
    "    'Weekly_Sales'].mean().reset_index()\n",
    "\n",
    "# New Year's Eve\n",
    "Christmas = df.groupby(['Christmas', 'Type'])[\n",
    "    'Weekly_Sales'].mean().reset_index()\n",
    "\n",
    "Average_Weekly_Sales_Holidays_Type = make_subplots(rows=2, cols=2, subplot_titles=[\n",
    "                                                   'Super Bowl', 'Labour Day', 'Thanksgiving Day', \"Christmas\"])\n",
    "\n",
    "Average_Weekly_Sales_Holidays_Type.add_trace(\n",
    "    go.Bar(name='Holiday', x=Super_Bowl[Super_Bowl['Super_Bowl'] == True]['Type'],\n",
    "           y=Super_Bowl[Super_Bowl['Super_Bowl'] == True]['Weekly_Sales'],\n",
    "           text=['Holiday' for _ in Super_Bowl[Super_Bowl['Super_Bowl'] == True]['Type']],\n",
    "           textposition='auto',\n",
    "           textfont=dict(size=13)),\n",
    "    row=1, col=1\n",
    ")\n",
    "\n",
    "Average_Weekly_Sales_Holidays_Type.add_trace(\n",
    "    go.Bar(name='Non-Holiday', x=Super_Bowl[Super_Bowl['Super_Bowl'] == False]['Type'],\n",
    "           y=Super_Bowl[Super_Bowl['Super_Bowl'] == False]['Weekly_Sales'],\n",
    "           text=[\n",
    "               'Non-Holiday' for _ in Super_Bowl[Super_Bowl['Super_Bowl'] == False]['Type']],\n",
    "           textposition='auto',\n",
    "           textfont=dict(size=13)),\n",
    "    row=1, col=1\n",
    ")\n",
    "\n",
    "Average_Weekly_Sales_Holidays_Type.add_trace(\n",
    "    go.Bar(name='Holiday', x=Labour_Day[Labour_Day['Labour_Day'] == True]['Type'],\n",
    "           y=Labour_Day[Labour_Day['Labour_Day'] == True]['Weekly_Sales'],\n",
    "           text=['Holiday' for _ in Labour_Day[Labour_Day['Labour_Day'] == True]['Type']],\n",
    "           textposition='auto',\n",
    "           textfont=dict(size=13)),\n",
    "    row=1, col=2\n",
    ")\n",
    "\n",
    "Average_Weekly_Sales_Holidays_Type.add_trace(\n",
    "    go.Bar(name='Non-Holiday', x=Labour_Day[Labour_Day['Labour_Day'] == False]['Type'],\n",
    "           y=Labour_Day[Labour_Day['Labour_Day'] == False]['Weekly_Sales'],\n",
    "           text=[\n",
    "               'Non-Holiday' for _ in Labour_Day[Labour_Day['Labour_Day'] == False]['Type']],\n",
    "           textposition='auto',\n",
    "           textfont=dict(size=13)),\n",
    "    row=1, col=2\n",
    ")\n",
    "\n",
    "Average_Weekly_Sales_Holidays_Type.add_trace(\n",
    "    go.Bar(name='Holiday', x=Thanksgiving_Day[Thanksgiving_Day['Thanksgiving_Day'] == True]['Type'],\n",
    "           y=Thanksgiving_Day[Thanksgiving_Day['Thanksgiving_Day']\n",
    "                              == True]['Weekly_Sales'],\n",
    "           text=[\n",
    "               'Holiday' for _ in Thanksgiving_Day[Thanksgiving_Day['Thanksgiving_Day'] == True]['Type']],\n",
    "           textposition='auto',\n",
    "           textfont=dict(size=13)),\n",
    "    row=2, col=1\n",
    ")\n",
    "\n",
    "Average_Weekly_Sales_Holidays_Type.add_trace(\n",
    "    go.Bar(name='Non-Holiday', x=Thanksgiving_Day[Thanksgiving_Day['Thanksgiving_Day'] == False]['Type'],\n",
    "           y=Thanksgiving_Day[Thanksgiving_Day['Thanksgiving_Day']\n",
    "                              == False]['Weekly_Sales'],\n",
    "           text=['Non-Holiday' for _ in Thanksgiving_Day[Thanksgiving_Day['Thanksgiving_Day'] == False]['Type']],\n",
    "           textposition='auto',\n",
    "           textfont=dict(size=13)),\n",
    "    row=2, col=1\n",
    ")\n",
    "\n",
    "Average_Weekly_Sales_Holidays_Type.add_trace(\n",
    "    go.Bar(name='Holiday', x=Christmas[Christmas['Christmas'] == True]['Type'],\n",
    "           y=Christmas[Christmas['Christmas'] == True]['Weekly_Sales'],\n",
    "           text=['Holiday' for _ in Christmas[Christmas['Christmas'] == True]['Type']],\n",
    "           textposition='auto',\n",
    "           textfont=dict(size=13)),\n",
    "    row=2, col=2\n",
    ")\n",
    "\n",
    "Average_Weekly_Sales_Holidays_Type.add_trace(\n",
    "    go.Bar(name='Non-Holiday', x=Christmas[Christmas['Christmas'] == False]['Type'],\n",
    "           y=Christmas[Christmas['Christmas'] == False]['Weekly_Sales'],\n",
    "           text=[\n",
    "               'Non-Holiday' for _ in Christmas[Christmas['Christmas'] == False]['Type']],\n",
    "           textposition='auto',\n",
    "           textfont=dict(size=13)),\n",
    "    row=2, col=2\n",
    ")\n",
    "\n",
    "Average_Weekly_Sales_Holidays_Type.update_layout(\n",
    "    height=800, width=1000, title_text=\"Holiday Sales\", showlegend=False,\n",
    "    xaxis=dict(title='Type'),\n",
    "    yaxis=dict(title='Average Weekly Sales'),\n",
    "    xaxis2=dict(title='Type'),\n",
    "    yaxis2=dict(title='Average Weekly Sales'),\n",
    "    xaxis3=dict(title='Type'),\n",
    "    yaxis3=dict(title='Average Weekly Sales'),\n",
    "    xaxis4=dict(title='Type'),\n",
    "    yaxis4=dict(title='Average Weekly Sales'),\n",
    "    margin=dict(t=80, b=40, l=40, r=40),\n",
    ")\n",
    "\n",
    "Average_Weekly_Sales_Holidays_Type.show()\n",
    "# save_plot_as_image(Average_Weekly_Sales_Holidays_Type,\n",
    "#                    'Average_Weekly_Sales_Holidays_Type.png', 'figures/', width=1200, height=1000)\n"
   ]
  },
  {
   "cell_type": "code",
   "execution_count": null,
   "metadata": {},
   "outputs": [],
   "source": [
    "\n",
    "tmp_Super_Bowl_holiday = df.groupby(['Dept', 'Super_Bowl'])[\n",
    "    'Weekly_Sales'].agg(['mean', 'sum']).reset_index()\n",
    "tmp_Super_Bowl_holiday.columns = [\n",
    "    'Dept', 'Super_Bowl', 'Weekly_Sales_Mean', 'Weekly_Sales_Sum']\n",
    "\n",
    "tmp_Super_Bowl_holiday['Group'] = pd.cut(tmp_Super_Bowl_holiday['Weekly_Sales_Mean'], \n",
    "                                      bins=[0, 20000, 40000, 60000, 80000],\n",
    "                                      labels=['0 - 20000', '20000 - 40000', '40000 - 60000',\n",
    "                                              '60000 - 80000'])\n",
    "\n",
    "tmp_Super_Bowl_holiday = tmp_Super_Bowl_holiday.groupby(['Group', 'Super_Bowl'])['Weekly_Sales_Mean'].agg('count').reset_index()\n",
    "\n",
    "\n",
    "Super_Bowl_dept_fig = px.bar(tmp_Super_Bowl_holiday, x='Group', y='Weekly_Sales_Mean', color='Super_Bowl', barmode='group',\n",
    "                             color_discrete_map={True: 'darkblue', False: 'rgb(136, 204, 238)'})\n",
    "\n",
    "Super_Bowl_dept_fig.update_layout(\n",
    "    title='Super Bowl Holiday - Department Weekly Sales Mean')\n",
    "Super_Bowl_dept_fig.show()\n",
    "\n",
    "tmp_labour_day_holiday = df.groupby(['Dept', 'Labour_Day'])[\n",
    "    'Weekly_Sales'].agg(['mean', 'sum']).reset_index()\n",
    "tmp_labour_day_holiday.columns = [\n",
    "    'Dept', 'Labour_Day', 'Weekly_Sales_Mean', 'Weekly_Sales_Sum']\n",
    "\n",
    "tmp_labour_day_holiday['Group'] = pd.cut(tmp_labour_day_holiday['Weekly_Sales_Mean'], \n",
    "                                      bins=[0, 20000, 40000, 60000, 80000],\n",
    "                                      labels=['0 - 20000', '20000 - 40000', '40000 - 60000',\n",
    "                                              '60000 - 80000'])\n",
    "\n",
    "tmp_labour_day_holiday = tmp_labour_day_holiday.groupby(['Group', 'Labour_Day'])['Weekly_Sales_Mean'].agg('count').reset_index()\n",
    "\n",
    "labour_day_dept_fig = px.bar(tmp_labour_day_holiday, x='Group', y='Weekly_Sales_Mean', color='Labour_Day', barmode='group',\n",
    "                             color_discrete_map={True: 'darkblue', False: 'rgb(136, 204, 238)'})\n",
    "labour_day_dept_fig.update_layout(\n",
    "    title='Labour Day - Department Weekly Sales Mean')\n",
    "labour_day_dept_fig.show()\n",
    "\n",
    "tmp_thanksgiving_day_holiday = df.groupby(['Dept', 'Thanksgiving_Day'])[\n",
    "    'Weekly_Sales'].agg(['mean', 'sum']).reset_index()\n",
    "tmp_thanksgiving_day_holiday.columns = [\n",
    "    'Dept', 'Thanksgiving_Day', 'Weekly_Sales_Mean', 'Weekly_Sales_Sum']\n",
    "\n",
    "tmp_thanksgiving_day_holiday['Group'] = pd.cut(tmp_thanksgiving_day_holiday['Weekly_Sales_Mean'], \n",
    "                                      bins=[0, 20000, 40000, 60000, 80000],\n",
    "                                      labels=['0 - 20000', '20000 - 40000', '40000 - 60000',\n",
    "                                              '60000 - 80000'])\n",
    "\n",
    "tmp_thanksgiving_day_holiday = tmp_thanksgiving_day_holiday.groupby(['Group', 'Thanksgiving_Day'])['Weekly_Sales_Mean'].agg('count').reset_index()\n",
    "\n",
    "\n",
    "thanksgiving_day_dept_fig = px.bar(tmp_thanksgiving_day_holiday, x='Group', y='Weekly_Sales_Mean', color='Thanksgiving_Day', barmode='group',\n",
    "                                   color_discrete_map={True: 'darkblue', False: 'rgb(136, 204, 238)'})\n",
    "thanksgiving_day_dept_fig.update_layout(\n",
    "    title='Thanksgiving Day - Department Weekly Sales Mean')\n",
    "thanksgiving_day_dept_fig.show()\n",
    "\n",
    "\n",
    "tmp_Christmas_holiday = df.groupby(['Dept', 'Christmas'])[\n",
    "    'Weekly_Sales'].agg(['mean', 'sum']).reset_index()\n",
    "tmp_Christmas_holiday.columns = [\n",
    "    'Dept', 'Christmas', 'Weekly_Sales_Mean', 'Weekly_Sales_Sum']\n",
    "\n",
    "tmp_Christmas_holiday['Group'] = pd.cut(tmp_Christmas_holiday['Weekly_Sales_Mean'], \n",
    "                                      bins=[0, 20000, 40000, 60000, 80000],\n",
    "                                      labels=['0 - 20000', '20000 - 40000', '40000 - 60000',\n",
    "                                              '60000 - 80000'])\n",
    "\n",
    "tmp_Christmas_holiday = tmp_Christmas_holiday.groupby(['Group', 'Christmas'])['Weekly_Sales_Mean'].agg('count').reset_index()\n",
    "\n",
    "Christmas_dept_fig = px.bar(tmp_Christmas_holiday, x='Group', y='Weekly_Sales_Mean', color='Christmas', barmode='group',\n",
    "                            color_discrete_map={True: 'darkblue', False: 'rgb(136, 204, 238)'})\n",
    "Christmas_dept_fig.update_layout(\n",
    "    title='Christmas - Department Weekly Sales Mean')\n",
    "Christmas_dept_fig.show()\n",
    "\n",
    "\n",
    "# save_plot_as_image(Super_Bowl_dept_fig,\n",
    "#                    'Super_Bowl_dept_fig.png', 'figures/', width=1200, height=600)\n",
    "\n",
    "# save_plot_as_image(labour_day_dept_fig,\n",
    "#                    'labour_dept_fig.png', 'figures/', width=1200, height=600)\n",
    "\n",
    "# save_plot_as_image(thanksgiving_day_dept_fig,\n",
    "#                    'thanksgiving_dept_fig.png', 'figures/', width=1200, height=600)\n",
    "\n",
    "# save_plot_as_image(Christmas_dept_fig,\n",
    "#                    'Christmas_dept_fig.png', 'figures/', width=1200, height=600)\n"
   ]
  },
  {
   "cell_type": "code",
   "execution_count": null,
   "metadata": {},
   "outputs": [],
   "source": [
    "\n",
    "tmp_Super_Bowl_holiday = df.groupby(['Store', 'Super_Bowl'])[\n",
    "    'Weekly_Sales'].agg(['mean', 'sum']).reset_index()\n",
    "tmp_Super_Bowl_holiday.columns = [\n",
    "    'Store', 'Super_Bowl', 'Weekly_Sales_Mean', 'Weekly_Sales_Sum']\n",
    "\n",
    "tmp_Super_Bowl_holiday['Group'] = pd.cut(tmp_Super_Bowl_holiday['Weekly_Sales_Mean'], \n",
    "                                      bins=[0, 5000, 10000, 15000, 20000, 25000, 35000],\n",
    "                                      labels=['0 - 5000', '5000 - 10000', '10000 - 15000',\n",
    "                                              '15000 - 20000', '20000 - 25000', '25000 - 35000'])\n",
    "\n",
    "tmp_Super_Bowl_holiday = tmp_Super_Bowl_holiday.groupby(['Group', 'Super_Bowl'])['Weekly_Sales_Mean'].agg('count').reset_index()\n",
    "\n",
    "Super_Bowl_holiday_store = px.bar(tmp_Super_Bowl_holiday, x='Group', y='Weekly_Sales_Mean', color='Super_Bowl', barmode='group',\n",
    "                                  color_discrete_map={True: 'darkblue', False: 'rgb(136, 204, 238)'}, title='Super Bowl Holiday - Store Weekly Sales Mean')\n",
    "Super_Bowl_holiday_store.show()\n",
    "\n",
    "tmp_labour_day_holiday = df.groupby(['Store', 'Labour_Day'])[\n",
    "    'Weekly_Sales'].agg(['mean', 'sum']).reset_index()\n",
    "tmp_labour_day_holiday.columns = [\n",
    "    'Store', 'Labour_Day', 'Weekly_Sales_Mean', 'Weekly_Sales_Sum']\n",
    "\n",
    "tmp_labour_day_holiday['Group'] = pd.cut(tmp_labour_day_holiday['Weekly_Sales_Mean'], \n",
    "                                      bins=[0, 5000, 10000, 15000, 20000, 25000, 35000],\n",
    "                                      labels=['0 - 5000', '5000 - 10000', '10000 - 15000',\n",
    "                                              '15000 - 20000', '20000 - 25000', '25000 - 35000'])\n",
    "\n",
    "tmp_labour_day_holiday = tmp_labour_day_holiday.groupby(['Group', 'Labour_Day'])['Weekly_Sales_Mean'].agg('count').reset_index()\n",
    "\n",
    "labour_day_holiday_store = px.bar(tmp_labour_day_holiday, x='Group', y='Weekly_Sales_Mean', color='Labour_Day', barmode='group',\n",
    "                                  color_discrete_map={True: 'darkblue', False: 'rgb(136, 204, 238)'}, title='Labour Day - Store Weekly Sales Mean')\n",
    "labour_day_holiday_store.show()\n",
    "\n",
    "tmp_thanksgiving_day_holiday = df.groupby(['Store', 'Thanksgiving_Day'])[\n",
    "    'Weekly_Sales'].agg(['mean', 'sum']).reset_index()\n",
    "tmp_thanksgiving_day_holiday.columns = [\n",
    "    'Store', 'Thanksgiving_Day', 'Weekly_Sales_Mean', 'Weekly_Sales_Sum']\n",
    "\n",
    "tmp_thanksgiving_day_holiday['Group'] = pd.cut(tmp_thanksgiving_day_holiday['Weekly_Sales_Mean'], \n",
    "                                      bins=[0, 5000, 10000, 15000, 20000, 25000, 35000],\n",
    "                                      labels=['0 - 5000', '5000 - 10000', '10000 - 15000',\n",
    "                                              '15000 - 20000', '20000 - 25000', '25000 - 35000'])\n",
    "\n",
    "tmp_thanksgiving_day_holiday = tmp_thanksgiving_day_holiday.groupby(['Group', 'Thanksgiving_Day'])['Weekly_Sales_Mean'].agg('count').reset_index()\n",
    "\n",
    "thanksgiving_day_holiday_store = px.bar(tmp_thanksgiving_day_holiday, x='Group', y='Weekly_Sales_Mean', color='Thanksgiving_Day', barmode='group',\n",
    "                                        color_discrete_map={True: 'darkblue', False: 'rgb(136, 204, 238)'}, title='Thanksgiving Day - Store Weekly Sales Mean')\n",
    "thanksgiving_day_holiday_store.show()\n",
    "\n",
    "tmp_Christmas_holiday = df.groupby(['Store', 'Christmas'])[\n",
    "    'Weekly_Sales'].agg(['mean', 'sum']).reset_index()\n",
    "tmp_Christmas_holiday.columns = [\n",
    "    'Store', 'Christmas', 'Weekly_Sales_Mean', 'Weekly_Sales_Sum']\n",
    "\n",
    "tmp_Christmas_holiday['Group'] = pd.cut(tmp_Christmas_holiday['Weekly_Sales_Mean'], \n",
    "                                      bins=[0, 5000, 10000, 15000, 20000, 25000, 35000],\n",
    "                                      labels=['0 - 5000', '5000 - 10000', '10000 - 15000',\n",
    "                                              '15000 - 20000', '20000 - 25000', '25000 - 35000'])\n",
    "\n",
    "tmp_Christmas_holiday = tmp_Christmas_holiday.groupby(['Group', 'Christmas'])['Weekly_Sales_Mean'].agg('count').reset_index()\n",
    "\n",
    "Christmas_holiday_store = px.bar(tmp_Christmas_holiday, x='Group', y='Weekly_Sales_Mean', color='Christmas', barmode='group',\n",
    "                                 color_discrete_map={True: 'darkblue', False: 'rgb(136, 204, 238)'}, title=\"Christmas - Store Weekly Sales Mean\")\n",
    "Christmas_holiday_store.show()\n",
    "\n",
    "\n",
    "# save_plot_as_image(Super_Bowl_holiday_store,\n",
    "#                    'Super_Bowl_holiday_store.png', 'figures/', width=1200, height=600)\n",
    "\n",
    "# save_plot_as_image(labour_day_holiday_store,\n",
    "#                    'labour_day_holiday_store.png', 'figures/', width=1200, height=600)\n",
    "\n",
    "# save_plot_as_image(thanksgiving_day_holiday_store,\n",
    "#                    'thanksgiving_day_holiday_store.png', 'figures/', width=1200, height=600)\n",
    "\n",
    "# save_plot_as_image(Christmas_holiday_store,\n",
    "#                    'Christmas_holiday_store.png', 'figures/', width=1200, height=600)\n"
   ]
  },
  {
   "cell_type": "code",
   "execution_count": null,
   "metadata": {},
   "outputs": [],
   "source": [
    "tmp_Super_Bowl_holiday = df.groupby(['Super_Bowl'])['Weekly_Sales'].agg([\n",
    "    'mean', 'sum']).reset_index()\n",
    "tmp_Super_Bowl_holiday.columns = [\n",
    "    'Super_Bowl', 'Weekly_Sales_Mean', 'Weekly_Sales_Sum']\n",
    "\n",
    "\n",
    "tmp_labour_day_holiday = df.groupby(['Labour_Day'])['Weekly_Sales'].agg([\n",
    "    'mean', 'sum']).reset_index()\n",
    "tmp_labour_day_holiday.columns = [\n",
    "    'Labour_Day', 'Weekly_Sales_Mean', 'Weekly_Sales_Sum']\n",
    "\n",
    "\n",
    "tmp_thanksgiving_day_holiday = df.groupby(['Thanksgiving_Day'])[\n",
    "    'Weekly_Sales'].agg(['mean', 'sum']).reset_index()\n",
    "tmp_thanksgiving_day_holiday.columns = [\n",
    "    'Thanksgiving_Day', 'Weekly_Sales_Mean', 'Weekly_Sales_Sum']\n",
    "\n",
    "\n",
    "\n",
    "tmp_Christmas_holiday = df.groupby(['Christmas'])[\n",
    "    'Weekly_Sales'].agg(['mean', 'sum']).reset_index()\n",
    "tmp_Christmas_holiday.columns = [\n",
    "    'Christmas', 'Weekly_Sales_Mean', 'Weekly_Sales_Sum']\n",
    "\n",
    "\n",
    "holidays_weekly_sales = make_subplots(rows=2, cols=2, subplot_titles=[\n",
    "    'Super Bowl', 'Labour Day', 'Thanksgiving Day', 'Christmas'])\n",
    "\n",
    "# Add the bar plots to the subplots\n",
    "holidays_weekly_sales.add_trace(go.Bar(x=tmp_Super_Bowl_holiday['Super_Bowl'], y=tmp_Super_Bowl_holiday['Weekly_Sales_Mean'],\n",
    "                                       marker_color=[\n",
    "    'darkblue' if val else 'rgb(136, 204, 238)' for val in tmp_Super_Bowl_holiday['Super_Bowl']],\n",
    "    name='Weekly Sales Mean'), row=1, col=1)\n",
    "holidays_weekly_sales.add_trace(go.Bar(x=tmp_labour_day_holiday['Labour_Day'], y=tmp_labour_day_holiday['Weekly_Sales_Mean'],\n",
    "                                       marker_color=[\n",
    "    'darkblue' if val else 'rgb(136, 204, 238)' for val in tmp_labour_day_holiday['Labour_Day']],\n",
    "    name='Weekly Sales Mean'), row=1, col=2)\n",
    "holidays_weekly_sales.add_trace(go.Bar(x=tmp_thanksgiving_day_holiday['Thanksgiving_Day'], y=tmp_thanksgiving_day_holiday['Weekly_Sales_Mean'],\n",
    "                                       marker_color=[\n",
    "    'darkblue' if val else 'rgb(136, 204, 238)' for val in tmp_thanksgiving_day_holiday['Thanksgiving_Day']],\n",
    "    name='Weekly Sales Mean'), row=2, col=1)\n",
    "holidays_weekly_sales.add_trace(go.Bar(x=tmp_Christmas_holiday['Christmas'], y=tmp_Christmas_holiday['Weekly_Sales_Mean'],\n",
    "                                       marker_color=[\n",
    "    'darkblue' if val else 'rgb(136, 204, 238)' for val in tmp_Christmas_holiday['Christmas']],\n",
    "    name='Weekly Sales Mean'), row=2, col=2)\n",
    "\n",
    "holidays_weekly_sales.update_layout(showlegend=False, height=800,\n",
    "                                    width=800, title='Holiday Sales')\n",
    "\n",
    "holidays_weekly_sales.show()\n",
    "# save_plot_as_image(holidays_weekly_sales,\n",
    "#                    'holidays_weekly_sales.png', 'figures/', width=600, height=600)\n"
   ]
  },
  {
   "cell_type": "code",
   "execution_count": null,
   "metadata": {},
   "outputs": [],
   "source": [
    "\n",
    "tmp_Super_Bowl_holiday = df.groupby(['Month', 'Super_Bowl'])[\n",
    "    'Weekly_Sales'].agg(['mean', 'sum']).reset_index()\n",
    "tmp_Super_Bowl_holiday.columns = [\n",
    "    'Month', 'Super_Bowl', 'Weekly_Sales_Mean', 'Weekly_Sales_Sum']\n",
    "\n",
    "\n",
    "\n",
    "tmp_labour_day_holiday = df.groupby(['Month', 'Labour_Day'])[\n",
    "    'Weekly_Sales'].agg(['mean', 'sum']).reset_index()\n",
    "tmp_labour_day_holiday.columns = [\n",
    "    'Month', 'Labour_Day', 'Weekly_Sales_Mean', 'Weekly_Sales_Sum']\n",
    "\n",
    "\n",
    "\n",
    "tmp_thanksgiving_day_holiday = df.groupby(['Month', 'Thanksgiving_Day'])[\n",
    "    'Weekly_Sales'].agg(['mean', 'sum']).reset_index()\n",
    "tmp_thanksgiving_day_holiday.columns = [\n",
    "    'Month', 'Thanksgiving_Day', 'Weekly_Sales_Mean', 'Weekly_Sales_Sum']\n",
    "\n",
    "tmp_Christmas_holiday = df.groupby(['Month', 'Christmas'])[\n",
    "    'Weekly_Sales'].agg(['mean', 'sum']).reset_index()\n",
    "tmp_Christmas_holiday.columns = [\n",
    "    'Month', 'Christmas', 'Weekly_Sales_Mean', 'Weekly_Sales_Sum']\n",
    "\n",
    "\n",
    "holidays_weekly_sales_month = make_subplots(rows=2, cols=2, subplot_titles=[\n",
    "    'Super Bowl', 'Labour Day', 'Thanksgiving Day', 'Christmas'], shared_yaxes=True)\n",
    "\n",
    "holidays_weekly_sales_month.add_trace(go.Bar(x=tmp_Super_Bowl_holiday['Month'], y=tmp_Super_Bowl_holiday['Weekly_Sales_Mean'],\n",
    "                                             marker_color=tmp_Super_Bowl_holiday['Super_Bowl'].map(\n",
    "    {True: 'darkblue', False: 'rgb(136, 204, 238)'}),\n",
    "    name='Weekly Sales Mean'), row=1, col=1)\n",
    "holidays_weekly_sales_month.add_trace(go.Bar(x=tmp_labour_day_holiday['Month'], y=tmp_labour_day_holiday['Weekly_Sales_Mean'],\n",
    "                                             marker_color=tmp_labour_day_holiday['Labour_Day'].map(\n",
    "    {True: 'darkblue', False: 'rgb(136, 204, 238)'}),\n",
    "    name='Weekly Sales Mean'), row=1, col=2)\n",
    "holidays_weekly_sales_month.add_trace(go.Bar(x=tmp_thanksgiving_day_holiday['Month'], y=tmp_thanksgiving_day_holiday['Weekly_Sales_Mean'],\n",
    "                                             marker_color=tmp_thanksgiving_day_holiday['Thanksgiving_Day'].map(\n",
    "    {True: 'darkblue', False: 'rgb(136, 204, 238)'}),\n",
    "    name='Weekly Sales Mean'), row=2, col=1)\n",
    "holidays_weekly_sales_month.add_trace(go.Bar(x=tmp_Christmas_holiday['Month'], y=tmp_Christmas_holiday['Weekly_Sales_Mean'],\n",
    "                                             marker_color=tmp_Christmas_holiday['Christmas'].map(\n",
    "    {True: 'darkblue', False: 'rgb(136, 204, 238)'}),\n",
    "    name='Weekly Sales Mean'), row=2, col=2)\n",
    "\n",
    "holidays_weekly_sales_month.update_layout(showlegend=False, height=800, width=1000,\n",
    "                                          title='Holiday Sales - Monthly Weekly Sales Mean')\n",
    "\n",
    "holidays_weekly_sales_month.update_traces(base='group', row=1, col=1)\n",
    "holidays_weekly_sales_month.update_traces(base='group', row=1, col=2)\n",
    "holidays_weekly_sales_month.update_traces(base='group', row=2, col=1)\n",
    "holidays_weekly_sales_month.update_traces(base='group', row=2, col=2)\n",
    "\n",
    "holidays_weekly_sales_month.show()\n",
    "\n",
    "# save_plot_as_image(holidays_weekly_sales_month,\n",
    "#                    'holidays_weekly_sales_month.png', 'figures/', width=1000, height=1000)\n",
    "\n",
    "\n"
   ]
  },
  {
   "cell_type": "markdown",
   "metadata": {},
   "source": [
    "## Type Vs Weekly Sales"
   ]
  },
  {
   "cell_type": "code",
   "execution_count": null,
   "metadata": {},
   "outputs": [],
   "source": [
    "store_type_vs_WeeklySale = df.groupby(['Type'])['Weekly_Sales'].agg([\n",
    "    'sum', 'mean']).reset_index()\n",
    "\n",
    "Average_Weekly_Sales_Type = px.pie(store_type_vs_WeeklySale, values='mean', names='Type',\n",
    "                                   title='Average Weekly Sales by Type of Store', color='Type',\n",
    "                                   color_discrete_map={'A': 'darkblue',\n",
    "                                                       'B': 'royalblue',\n",
    "                                                       'C': 'rgb(136, 204, 238)'}, height=500, width=500)\n",
    "\n",
    "Average_Weekly_Sales_Type.update_traces(\n",
    "    textposition='inside', textinfo='label+percent') \n",
    "\n",
    "Average_Weekly_Sales_Type.show()\n",
    "# save_plot_as_image(Average_Weekly_Sales_Type,\n",
    "#                    'Average_Weekly_Sales_Type.png', 'figures/', width=600, height=400)\n"
   ]
  },
  {
   "cell_type": "code",
   "execution_count": null,
   "metadata": {},
   "outputs": [],
   "source": [
    "\n",
    "store_type_vs_WeeklySale = df.groupby(['Store', 'Type'])[\n",
    "    'Weekly_Sales'].mean().reset_index()\n",
    "\n",
    "\n",
    "Average_Weekly_Sales_Store_Type = px.bar(store_type_vs_WeeklySale,\n",
    "                                         x='Store', y='Weekly_Sales', color='Type',\n",
    "                                         title=\"Average Weekly Sales by Store and Type\",\n",
    "                                         color_discrete_map={'A': 'darkblue',\n",
    "                                                             'B': 'royalblue',\n",
    "                                                             'C': 'rgb(136, 204, 238)'})\n",
    "Average_Weekly_Sales_Store_Type.show()\n",
    "# save_plot_as_image(Average_Weekly_Sales_Store_Type,\n",
    "#                    'Average_Weekly_Sales_Store_Type.png', 'figures/', width=1200, height=600)\n",
    "\n"
   ]
  },
  {
   "cell_type": "markdown",
   "metadata": {},
   "source": [
    "# Correlation"
   ]
  },
  {
   "cell_type": "code",
   "execution_count": null,
   "metadata": {},
   "outputs": [],
   "source": [
    "def plot_correlation_heatmap(df, type='pearson'): # method{‘pearson’, ‘kendall’, ‘spearman’}\n",
    "    if type == 'pearson':\n",
    "        correlation_matrix = df.corr(method=type)\n",
    "    elif type == 'kendall':\n",
    "        correlation_matrix = df.corr(method=type)\n",
    "    elif type == 'spearman':\n",
    "        correlation_matrix = df.corr(method=type)\n",
    "    else:\n",
    "        raise ValueError(\"Invalid method of correlation. Please choose 'pearson', 'kendall' or 'spearman'.\")\n",
    "\n",
    "    fig = go.Figure(data=go.Heatmap(\n",
    "        z=correlation_matrix.values,\n",
    "        x=correlation_matrix.columns,\n",
    "        y=correlation_matrix.columns,\n",
    "        colorscale='RdBu',\n",
    "        colorbar=dict(title='Correlation')\n",
    "    ))\n",
    "\n",
    "    for i, x in enumerate(correlation_matrix.columns):\n",
    "        for j, y in enumerate(correlation_matrix.columns):\n",
    "            fig.add_annotation(\n",
    "                x=x, y=y,\n",
    "                text=f'{correlation_matrix.values[i][j]:.2f}',\n",
    "                showarrow=False,\n",
    "                font=dict(color='white' if abs(\n",
    "                    correlation_matrix.values[i][j]) > 0.5 else 'black')\n",
    "            )\n",
    "\n",
    "    fig.update_layout(\n",
    "        title=f'Correlation with method {type}',\n",
    "        xaxis_title='Feature X',\n",
    "        yaxis_title='Feature Y',\n",
    "        font=dict(size=12),\n",
    "        width=1200,  \n",
    "        height=1000  \n",
    "    )\n",
    "\n",
    "    pio.show(fig)\n",
    "    return fig\n",
    "\n",
    "for t in ['pearson', 'kendall', 'spearman']:\n",
    "    corr_matrix = plot_correlation_heatmap(df, type=t)\n",
    "\n",
    "# save_plot_as_image(corr_matrix,\n",
    "#                    'corr_matrix.png', 'figures/', width=1300, height=800)"
   ]
  },
  {
   "attachments": {},
   "cell_type": "markdown",
   "metadata": {},
   "source": [
    "# Hypothesis Generation\n",
    "\n",
    "Hypothesis1: Mean weekly sales during high fuel prices vs. low fuel prices\n",
    "\n",
    "Null Hypothesis: The mean weekly sales during periods of high fuel prices are not significantly different from the mean weekly sales during periods of low fuel prices.\n",
    "Alternative Hypothesis: The mean weekly sales during periods of high fuel prices are significantly different from the mean weekly sales during periods of low fuel prices.\n",
    "\n",
    "Hypothesis2: Mean weekly sales during high CPI vs. low CPI\n",
    "\n",
    "Null Hypothesis: The mean weekly sales during periods of high CPI are not significantly different from the mean weekly sales during periods of low CPI.\n",
    "Alternative Hypothesis: The mean weekly sales during periods of high CPI are significantly different from the mean weekly sales during periods of low CPI.\n",
    "\n",
    "Hypothesis3:Mean weekly sales during high unemployment rates vs. low unemployment rates\n",
    "\n",
    "Null Hypothesis: The mean weekly sales during periods of high unemployment rates are not significantly different from the mean weekly sales during periods of low unemployment rates.\n",
    "Alternative Hypothesis: The mean weekly sales during periods of high unemployment rates are significantly different from the mean weekly sales during periods of low unemployment rates.\n",
    "\n",
    "Hypothesis4:Mean weekly sales for small-sized stores vs. large-sized stores\n",
    "\n",
    "Null Hypothesis: The mean weekly sales for stores with a size less than or equal to the mean store size are not significantly different from the mean weekly sales for stores with a size greater than the mean store size.\n",
    "Alternative Hypothesis: The mean weekly sales for stores with a size less than or equal to the mean store size are significantly different from the mean weekly sales for stores with a size greater than the mean store size.\n",
    "\n",
    "Hypothesis5: Mean weekly sales during high temperatures vs. low temperatures\n",
    "\n",
    "Null Hypothesis: The mean weekly sales during periods of high temperatures are not significantly different from the mean weekly sales during periods of low temperatures.\n",
    "Alternative Hypothesis: The mean weekly sales during periods of high temperatures are significantly different from the mean weekly sales during periods of low temperatures.\n",
    "\n",
    "Hypothesis6: Mean weekly sales for Type A store vs. Mean weekly sales for Type B store\n",
    "\n",
    "Null Hypothesis (H0): The mean weekly sales for Type A stores are not significantly different from the mean weekly sales for Type B stores.\n",
    "Alternative Hypothesis (H1): The mean weekly sales for Type A stores are significantly different from the mean weekly sales for Type B stores."
   ]
  },
  {
   "cell_type": "code",
   "execution_count": null,
   "metadata": {},
   "outputs": [],
   "source": [
    "\n",
    "high_fuel_sales = df[df['Fuel_Price'] >\n",
    "                     df['Fuel_Price'].mean()]['Weekly_Sales']\n",
    "low_fuel_sales = df[df['Fuel_Price'] < df['Fuel_Price'].mean()]['Weekly_Sales']\n",
    "\n",
    "z_statistic, p_value = ztest(high_fuel_sales, low_fuel_sales)\n",
    "print(z_statistic, p_value)\n",
    "alpha = 0.05  # significance level\n",
    "\n",
    "if p_value < alpha:\n",
    "    print(\"Reject null hypothesis: The mean weekly sales during periods of high fuel prices are significantly different from the mean weekly sales during periods of low fuel prices.\")\n",
    "else:\n",
    "    print(\"Fail to reject null hypothesis: There is no significant evidence to suggest that the mean weekly sales during periods of high fuel prices are different from the mean weekly sales during periods of low fuel prices.\")\n"
   ]
  },
  {
   "cell_type": "code",
   "execution_count": null,
   "metadata": {},
   "outputs": [],
   "source": [
    "high_cpi_sales = df[df['CPI'] > df['CPI'].mean()]['Weekly_Sales']\n",
    "low_cpi_sales = df[df['CPI'] < df['CPI'].mean()]['Weekly_Sales']\n",
    "\n",
    "z_statistic, p_value = ztest(high_cpi_sales, low_cpi_sales)\n",
    "print(z_statistic, p_value)\n",
    "alpha = 0.05  # significance level\n",
    "\n",
    "if p_value < alpha:\n",
    "    print(\"Reject null hypothesis: The mean weekly sales during periods of high CPI are significantly different from the mean weekly sales during periods of low CPI.\")\n",
    "else:\n",
    "    print(\"Fail to reject null hypothesis: There is no significant evidence to suggest that the mean weekly sales during periods of high CPI are different from the mean weekly sales during periods of low CPI.\")\n"
   ]
  },
  {
   "cell_type": "code",
   "execution_count": null,
   "metadata": {},
   "outputs": [],
   "source": [
    "high_unemployment_sales = df[df['Unemployment']\n",
    "                             > df['Unemployment'].mean()]['Weekly_Sales']\n",
    "low_unemployment_sales = df[df['Unemployment']\n",
    "                            < df['Unemployment'].mean()]['Weekly_Sales']\n",
    "\n",
    "z_statistic, p_value = ztest(high_unemployment_sales, low_unemployment_sales)\n",
    "\n",
    "alpha = 0.05  # significance level\n",
    "print(z_statistic, p_value)\n",
    "if p_value < alpha:\n",
    "    print(\"Reject null hypothesis: The mean weekly sales during periods of high unemployment rates are significantly different from the mean weekly sales during periods of low unemployment rates.\")\n",
    "else:\n",
    "    print(\"Fail to reject null hypothesis: There is no significant evidence to suggest that the mean weekly sales during periods of high unemployment rates are different from the mean weekly sales during periods of low unemployment rates.\")\n"
   ]
  },
  {
   "cell_type": "code",
   "execution_count": null,
   "metadata": {},
   "outputs": [],
   "source": [
    "mean_size = df['Size'].mean()\n",
    "\n",
    "small_store_sales = df[df['Size'] <= mean_size]['Weekly_Sales']\n",
    "large_store_sales = df[df['Size'] > mean_size]['Weekly_Sales']\n",
    "\n",
    "z_statistic, p_value = ztest(small_store_sales, large_store_sales, alternative='two-sided')\n",
    "print(z_statistic, p_value)\n",
    "alpha = 0.05  # significance level\n",
    "\n",
    "if p_value < alpha:\n",
    "    print(\"Reject null hypothesis: The mean weekly sales for stores with a size less than or equal to the mean store size are significantly different from the mean weekly sales for stores with a size greater than the mean store size.\")\n",
    "else:\n",
    "    print(\"Fail to reject null hypothesis: There is no significant evidence to suggest that the mean weekly sales for stores with a size less than or equal to the mean store size are different from the mean weekly sales for stores with a size greater than the mean store size.\")\n"
   ]
  },
  {
   "cell_type": "code",
   "execution_count": null,
   "metadata": {},
   "outputs": [],
   "source": [
    "mean_temperature = df['Temperature'].mean()\n",
    "\n",
    "high_temp_sales = df[df['Temperature'] > mean_temperature]['Weekly_Sales']\n",
    "low_temp_sales = df[df['Temperature'] <= mean_temperature]['Weekly_Sales']\n",
    "\n",
    "z_statistic, p_value = ztest(high_temp_sales, low_temp_sales)\n",
    "print(z_statistic, p_value)\n",
    "alpha = 0.05  # significance level\n",
    "\n",
    "if p_value < alpha:\n",
    "    print(\"Reject null hypothesis: The mean weekly sales during periods of high temperatures are significantly different from the mean weekly sales during periods of low temperatures.\")\n",
    "else:\n",
    "    print(\"Fail to reject null hypothesis: There is no significant evidence to suggest that the mean weekly sales during periods of high temperatures are different from the mean weekly sales during periods of low temperatures.\")\n"
   ]
  },
  {
   "cell_type": "code",
   "execution_count": null,
   "metadata": {},
   "outputs": [],
   "source": [
    "\n",
    "# Extract weekly sales for Type A and Type B stores\n",
    "type_a_sales = df[df['Type'] == 'A']['Weekly_Sales']\n",
    "type_b_sales = df[df['Type'] == 'B']['Weekly_Sales']\n",
    "\n",
    "# Perform z-test\n",
    "z_statistic, p_value = ztest(type_a_sales, type_b_sales)\n",
    "print(z_statistic, p_value)\n",
    "alpha = 0.05  # significance level\n",
    "\n",
    "if p_value < alpha:\n",
    "    print(\"Reject null hypothesis: The mean weekly sales for Type A stores are significantly different from the mean weekly sales for Type B stores.\")\n",
    "else:\n",
    "    print(\"Fail to reject null hypothesis: There is no significant evidence to suggest that the mean weekly sales for Type A stores are different from the mean weekly sales for Type B stores.\")\n"
   ]
  },
  {
   "attachments": {},
   "cell_type": "markdown",
   "metadata": {},
   "source": [
    "# Distributions of the data & Outliers"
   ]
  },
  {
   "cell_type": "markdown",
   "metadata": {},
   "source": [
    "## Distribution"
   ]
  },
  {
   "cell_type": "code",
   "execution_count": null,
   "metadata": {},
   "outputs": [],
   "source": [
    "# Columns to plot the distribution of Data\n",
    "cols = df.drop(['Weekly_Sales', 'Date'], axis=1).columns\n",
    "file_path = 'figures/'\n",
    "\n",
    "# Iterate over the columns and plot the distributions one at a time\n",
    "for col in cols:\n",
    "    if col in df.columns and df[col].notnull().any():\n",
    "        fig = px.histogram(df, x=col, nbins=50)\n",
    "        fig.update_layout(title=col, width=800, height=600)\n",
    "        fig.show()\n",
    "        # save_plot_as_image(fig, col, file_path, width=800, height=600)\n"
   ]
  },
  {
   "attachments": {},
   "cell_type": "markdown",
   "metadata": {},
   "source": [
    "Check the distribution of the target column "
   ]
  },
  {
   "cell_type": "code",
   "execution_count": null,
   "metadata": {},
   "outputs": [],
   "source": [
    "target = 'Weekly_Sales'\n",
    "\n",
    "# Create the distribution plot\n",
    "fig = px.histogram(df, x=target, nbins=40)\n",
    "\n",
    "# Update layout\n",
    "fig.update_layout(\n",
    "    title=target,\n",
    "    xaxis_title=target,\n",
    "    yaxis_title='Frequency',\n",
    "    width=800,\n",
    "    height=600\n",
    ")\n",
    "\n",
    "# Save the plot as an image\n",
    "# save_plot_as_image(fig, target, file_path, width=800, height=600)\n"
   ]
  },
  {
   "attachments": {},
   "cell_type": "markdown",
   "metadata": {},
   "source": [
    "## Outliers "
   ]
  },
  {
   "cell_type": "code",
   "execution_count": null,
   "metadata": {},
   "outputs": [],
   "source": [
    "df.drop(['Store', 'Dept', 'Date', 'IsHoliday', 'Size',\n",
    "        'Year_quarter', 'Month', 'Day', 'Year'], axis=1).columns\n"
   ]
  },
  {
   "cell_type": "code",
   "execution_count": null,
   "metadata": {},
   "outputs": [],
   "source": [
    "\n",
    "cols = df.drop(['Store', 'Dept', 'Type', 'Date', 'IsHoliday',\n",
    "                'Year_quarter', 'Month', 'Day', 'Year', 'Super_Bowl', 'Labour_Day', 'Thanksgiving_Day',\n",
    "       'Christmas'], axis=1).columns\n",
    "\n",
    "for col in cols:\n",
    "    if col in df.columns and df[col].notnull().any():\n",
    "        fig = go.Figure()\n",
    "\n",
    "        fig.add_trace(go.Box(\n",
    "            y=df[col],\n",
    "            name=col,\n",
    "            boxpoints='outliers',\n",
    "            boxmean=True  \n",
    "        ))\n",
    "\n",
    "        percentiles = np.percentile(df[col], [25, 50, 75])\n",
    "        median = np.median(df[col])\n",
    "        skewness = df[col].skew()\n",
    "\n",
    "        if skewness > 0:\n",
    "            skewness_text = 'Right Skew'\n",
    "        elif skewness < 0:\n",
    "            skewness_text = 'Left Skew'\n",
    "        else:\n",
    "            skewness_text = 'Symmetric'\n",
    "\n",
    "        stats_text = f\"Percentiles:<br>Q1={percentiles[0]:.2f}<br>Median={median:.2f}<br>Q3={percentiles[2]:.2f}<br>\"\n",
    "        stats_text += f\"Skewness: {skewness_text}\"\n",
    "\n",
    "        fig.add_annotation(\n",
    "            x=0.95, y=0.95,\n",
    "            xref='paper', yref='paper',\n",
    "            text=stats_text,\n",
    "            showarrow=False,\n",
    "            align='right',\n",
    "            font=dict(size=12),\n",
    "            bordercolor='black',\n",
    "            borderwidth=1,\n",
    "            bgcolor='white',\n",
    "            opacity=0.8\n",
    "        )\n",
    "\n",
    "        fig.update_layout(\n",
    "            title=col + \" - Outliers\",\n",
    "            yaxis=dict(title=col),\n",
    "            width=800,\n",
    "            height=600\n",
    "        )\n",
    "        fig.show()\n",
    "        # save_plot_as_image(fig, col + \"_boxplot\",\n",
    "        #                    file_path, width=800, height=600)\n"
   ]
  },
  {
   "cell_type": "markdown",
   "metadata": {},
   "source": [
    "# Modeling"
   ]
  },
  {
   "cell_type": "markdown",
   "metadata": {},
   "source": [
    "## Data Preparation "
   ]
  },
  {
   "cell_type": "code",
   "execution_count": 6,
   "metadata": {},
   "outputs": [],
   "source": [
    "# Applying outlier treatment, encoding and splitting the data into training and testing datasets\n",
    "df_clean = data_processor.outlier_treatment(df)\n",
    "df_clean_encode = data_processor.encoding(df_clean, cat_enc_type='numeric')\n",
    "X, y, X_train, X_test, y_train, y_test, scaler = data_processor.split_scale(df_clean_encode)"
   ]
  },
  {
   "cell_type": "code",
   "execution_count": 7,
   "metadata": {},
   "outputs": [
    {
     "data": {
      "text/plain": [
       "((294132, 21), (127438, 21), (294132,), (127438,))"
      ]
     },
     "execution_count": 7,
     "metadata": {},
     "output_type": "execute_result"
    }
   ],
   "source": [
    "X_train.shape, X_test.shape, y_train.shape, y_test.shape"
   ]
  },
  {
   "cell_type": "code",
   "execution_count": 8,
   "metadata": {},
   "outputs": [
    {
     "data": {
      "image/png": "[encoded data removed]",
      "text/plain": [
       "<Figure size 1600x600 with 1 Axes>"
      ]
     },
     "metadata": {},
     "output_type": "display_data"
    }
   ],
   "source": [
    "df_week = df_clean.resample('W').mean()  # Resample data as weekly\n",
    "\n",
    "plt.figure(figsize=(16, 6))\n",
    "df_week['Weekly_Sales'].plot()\n",
    "plt.title('Average Sales - Weekly')\n",
    "plt.xlabel('Date')\n",
    "plt.ylabel('Weekly Sales')\n",
    "plt.grid(True)\n",
    "plt.xticks(rotation=45) \n",
    "plt.show()"
   ]
  },
  {
   "cell_type": "code",
   "execution_count": 9,
   "metadata": {},
   "outputs": [],
   "source": [
    "def outlier_checker(df):\n",
    "\n",
    "    \"\"\"This function checks and prints the outliers in the dataset\"\"\"\n",
    "    outlier_percentages = {}\n",
    "\n",
    "    for column in df.select_dtypes(include=[np.number]):\n",
    "        Q1 = df[column].quantile(0.25)\n",
    "        Q3 = df[column].quantile(0.75)\n",
    "        IQR = Q3 - Q1\n",
    "        lower_whisker = Q1 - 1.5 * IQR\n",
    "        upper_whisker = Q3 + 1.5 * IQR\n",
    "        \n",
    "        num_outliers = ((df[column] < lower_whisker) | (df[column] > upper_whisker)).sum()\n",
    "        \n",
    "        percentage_outliers = (num_outliers / len(df)) * 100\n",
    "        \n",
    "        outlier_percentages[column] = percentage_outliers\n",
    "\n",
    "    for column, percentage in outlier_percentages.items():\n",
    "        print(f\"Percentage of outliers in {column}: {percentage:.2f}%\")"
   ]
  },
  {
   "cell_type": "code",
   "execution_count": 10,
   "metadata": {},
   "outputs": [
    {
     "name": "stdout",
     "output_type": "stream",
     "text": [
      "Percentage of outliers in Store: 0.00%\n",
      "Percentage of outliers in Dept: 0.00%\n",
      "Percentage of outliers in Weekly_Sales: 8.43%\n",
      "Percentage of outliers in IsHoliday: 7.04%\n",
      "Percentage of outliers in Type: 0.00%\n",
      "Percentage of outliers in Size: 0.00%\n",
      "Percentage of outliers in Temperature: 0.00%\n",
      "Percentage of outliers in Fuel_Price: 0.00%\n",
      "Percentage of outliers in MarkDown1: 0.00%\n",
      "Percentage of outliers in MarkDown2: 0.00%\n",
      "Percentage of outliers in MarkDown3: 0.00%\n",
      "Percentage of outliers in MarkDown4: 0.00%\n",
      "Percentage of outliers in MarkDown5: 0.00%\n",
      "Percentage of outliers in CPI: 0.00%\n",
      "Percentage of outliers in Unemployment: 0.00%\n",
      "Percentage of outliers in Week: 0.00%\n",
      "Percentage of outliers in Month: 0.00%\n",
      "Percentage of outliers in Year: 0.00%\n",
      "Percentage of outliers in Super_Bowl: 2.11%\n",
      "Percentage of outliers in Labour_Day: 2.10%\n",
      "Percentage of outliers in Thanksgiving_Day: 1.41%\n",
      "Percentage of outliers in Christmas: 1.41%\n"
     ]
    }
   ],
   "source": [
    "outlier_checker(df_clean_encode)"
   ]
  },
  {
   "cell_type": "markdown",
   "metadata": {},
   "source": [
    "## Feature Selection"
   ]
  },
  {
   "cell_type": "markdown",
   "metadata": {},
   "source": [
    "The selection of the features would be according to the best set of features selected by each algorithm that have the least MAE."
   ]
  },
  {
   "cell_type": "markdown",
   "metadata": {},
   "source": [
    "#### Feature Selection using RFE"
   ]
  },
  {
   "cell_type": "code",
   "execution_count": 240,
   "metadata": {},
   "outputs": [],
   "source": [
    "\n",
    "def select_features_with_rfe(X, y):\n",
    "    estimator = XGBRegressor()  # Choose an estimator suitable for your problem\n",
    "    max_features = X.shape[1]\n",
    "    best_score = float('inf')\n",
    "    best_features = None\n",
    "    \n",
    "    for n_features in range(1, max_features + 1):\n",
    "        rfe = RFE(estimator, n_features_to_select=n_features)\n",
    "        rfe.fit(X, y)\n",
    "        selected_features = rfe.support_\n",
    "        \n",
    "        # Evaluate model performance using cross-validation\n",
    "        kf = KFold(n_splits=5)  # Adjust the number of folds as needed\n",
    "        scores = []\n",
    "        \n",
    "        for train_index, val_index in kf.split(X):\n",
    "            X_train, X_val = X.iloc[train_index].reset_index(drop=True), X.iloc[val_index].reset_index(drop=True)\n",
    "            y_train, y_val = y.iloc[train_index].reset_index(drop=True), y.iloc[val_index].reset_index(drop=True)\n",
    "            \n",
    "            estimator.fit(X_train.loc[:, selected_features], y_train)\n",
    "            y_pred = estimator.predict(X_val.loc[:, selected_features])\n",
    "            score = mean_absolute_error(y_val, y_pred)\n",
    "            scores.append(score)\n",
    "        \n",
    "        avg_score = np.mean(scores)\n",
    "        \n",
    "        if avg_score < best_score:\n",
    "            best_score = avg_score\n",
    "            best_features = X.columns[selected_features]\n",
    "    \n",
    "    return best_features\n"
   ]
  },
  {
   "cell_type": "code",
   "execution_count": 241,
   "metadata": {},
   "outputs": [
    {
     "name": "stdout",
     "output_type": "stream",
     "text": [
      "Selected Features: ['Store', 'Dept', 'Type', 'Size', 'Week', 'Thanksgiving_Day']\n"
     ]
    }
   ],
   "source": [
    "selected_features_rfe = select_features_with_rfe(X, y)\n",
    "print(\"Selected Features:\", selected_features_rfe.to_list())"
   ]
  },
  {
   "cell_type": "code",
   "execution_count": 242,
   "metadata": {},
   "outputs": [
    {
     "name": "stdout",
     "output_type": "stream",
     "text": [
      "MAE: 2982.4174936813456\n"
     ]
    }
   ],
   "source": [
    "reg = XGBRegressor().fit(X_train[selected_features_rfe], y_train)\n",
    "print(f'MAE: {mean_absolute_error(y_test, reg.predict(X_test[selected_features_rfe]))}')\n",
    "feature_importance['RFE'] = [mean_absolute_error(y_test, reg.predict(X_test[selected_features_rfe])), selected_features_rfe]"
   ]
  },
  {
   "cell_type": "markdown",
   "metadata": {},
   "source": [
    "#### Feature Selection using Information Criterion"
   ]
  },
  {
   "cell_type": "code",
   "execution_count": 243,
   "metadata": {},
   "outputs": [],
   "source": [
    "def select_features_with_info_criterion(X, y, info_criterion='aic'):\n",
    "    estimator = XGBRegressor()  # Choose an estimator suitable for your problem\n",
    "    selector = SelectFromModel(estimator, threshold=-np.inf, max_features=None)\n",
    "    selector.fit(X, y)\n",
    "    \n",
    "    if info_criterion == 'aic':\n",
    "        criterion_values = -2 * selector.estimator_.score(X, y) + 2 * (selector.n_features_in_ - 1)\n",
    "    elif info_criterion == 'bic':\n",
    "        n_samples = X.shape[0]\n",
    "        criterion_values = -2 * selector.estimator_.score(X, y) + np.log(n_samples) * (selector.n_features_in_ - 1)\n",
    "    else:\n",
    "        raise ValueError(\"Invalid information criterion. Choose 'aic' or 'bic'.\")\n",
    "    \n",
    "    selected_features = selector.get_support()\n",
    "    \n",
    "    return selected_features, criterion_values"
   ]
  },
  {
   "cell_type": "code",
   "execution_count": 244,
   "metadata": {},
   "outputs": [
    {
     "name": "stdout",
     "output_type": "stream",
     "text": [
      "Selected Features: Index(['Store', 'Dept', 'IsHoliday', 'Type', 'Size', 'Temperature',\n",
      "       'Fuel_Price', 'MarkDown1', 'MarkDown2', 'MarkDown3', 'MarkDown4',\n",
      "       'MarkDown5', 'CPI', 'Unemployment', 'Week', 'Month', 'Year',\n",
      "       'Super_Bowl', 'Labour_Day', 'Thanksgiving_Day', 'Christmas'],\n",
      "      dtype='object')\n",
      "Bic values: 257.1296927604479\n"
     ]
    }
   ],
   "source": [
    "info_criterion = 'bic'\n",
    "\n",
    "selected_features_info, criterion_values = select_features_with_info_criterion(X, y, info_criterion)\n",
    "print(\"Selected Features:\", X.columns[selected_features_info])\n",
    "print(f\"{info_criterion.capitalize()} values:\", criterion_values)"
   ]
  },
  {
   "cell_type": "code",
   "execution_count": 245,
   "metadata": {},
   "outputs": [
    {
     "name": "stdout",
     "output_type": "stream",
     "text": [
      "MAE: 3493.404629625793\n"
     ]
    }
   ],
   "source": [
    "reg = XGBRegressor().fit(X_train[X.columns[selected_features_info]], y_train)\n",
    "print(f'MAE: {mean_absolute_error(y_test, reg.predict(X_test[X.columns[selected_features_info]]))}')\n",
    "feature_importance['info_criterion'] = [mean_absolute_error(y_test, reg.predict(X_test[selected_features_info])), selected_features_info]"
   ]
  },
  {
   "cell_type": "markdown",
   "metadata": {},
   "source": [
    "#### Feature Selection using Premutation Importance"
   ]
  },
  {
   "cell_type": "code",
   "execution_count": 246,
   "metadata": {},
   "outputs": [],
   "source": [
    "def select_features_with_permutation_importance(X, y, mae_threshold=None, percentage=None):\n",
    "    estimator = XGBRegressor()  # Choose an estimator suitable for your problem\n",
    "    estimator.fit(X, y)\n",
    "    result = permutation_importance(estimator, X, y, n_repeats=5, random_state=42)\n",
    "    feature_importances = result.importances_mean\n",
    "    \n",
    "    if mae_threshold is not None:\n",
    "        top_features_idx = np.where(feature_importances >= mae_threshold)[0]\n",
    "    elif percentage is not None:\n",
    "        num_features = int(X.shape[1] * percentage)\n",
    "        top_features_idx = np.argsort(feature_importances)[::-1][:num_features]\n",
    "    else:\n",
    "        raise ValueError(\"Either mae_threshold or percentage should be provided.\")\n",
    "    \n",
    "    selected_features = np.zeros(X.shape[1], dtype=bool)\n",
    "    selected_features[top_features_idx] = True\n",
    "    \n",
    "    return selected_features"
   ]
  },
  {
   "cell_type": "code",
   "execution_count": 247,
   "metadata": {},
   "outputs": [
    {
     "name": "stdout",
     "output_type": "stream",
     "text": [
      "Selected Features: Index(['Store', 'Dept', 'Size'], dtype='object')\n",
      "Selected Features: Index(['Store', 'Dept', 'IsHoliday', 'Type', 'Size', 'Temperature', 'CPI',\n",
      "       'Unemployment', 'Week', 'Thanksgiving_Day'],\n",
      "      dtype='object')\n",
      "Selected Features: Index(['Store', 'Dept', 'IsHoliday', 'Type', 'Size', 'Temperature',\n",
      "       'Fuel_Price', 'CPI', 'Unemployment', 'Week', 'Month', 'Year',\n",
      "       'Labour_Day', 'Thanksgiving_Day'],\n",
      "      dtype='object')\n"
     ]
    }
   ],
   "source": [
    "mae_threshold = 0.1\n",
    "selected_features = select_features_with_permutation_importance(X, y, mae_threshold=mae_threshold)\n",
    "print(\"Selected Features:\", X.columns[selected_features])\n",
    "\n",
    "percentage = 0.5\n",
    "selected_features = select_features_with_permutation_importance(X, y, percentage=percentage)\n",
    "print(\"Selected Features:\", X.columns[selected_features])\n",
    "\n",
    "percentage = 0.7\n",
    "selected_features_perm = select_features_with_permutation_importance(X, y, percentage=percentage)\n",
    "print(\"Selected Features:\", X.columns[selected_features_perm])"
   ]
  },
  {
   "cell_type": "code",
   "execution_count": 248,
   "metadata": {},
   "outputs": [
    {
     "name": "stdout",
     "output_type": "stream",
     "text": [
      "MAE: 3351.073372179121\n"
     ]
    }
   ],
   "source": [
    "reg = XGBRegressor().fit(X_train[X.columns[selected_features_perm]], y_train)\n",
    "print(f'MAE: {mean_absolute_error(y_test, reg.predict(X_test[X.columns[selected_features_perm]]))}')\n",
    "feature_importance['permutation'] = [mean_absolute_error(y_test, reg.predict(X_test[selected_features_perm])), selected_features_perm]"
   ]
  },
  {
   "cell_type": "markdown",
   "metadata": {},
   "source": [
    "#### Feature Selection using Tree models importance"
   ]
  },
  {
   "cell_type": "code",
   "execution_count": 249,
   "metadata": {},
   "outputs": [],
   "source": [
    "def select_features_with_tree_importance(X, y):\n",
    "    rf = RandomForestRegressor()\n",
    "    rf.fit(X, y)\n",
    "    \n",
    "    feature_importances = rf.feature_importances_\n",
    "    sorted_features_idx = np.argsort(feature_importances)[::-1]\n",
    "    \n",
    "    selected_features = np.zeros(X.shape[1], dtype=bool)\n",
    "    best_score = float('-inf')\n",
    "    best_selected_features = None\n",
    "    \n",
    "    for n_features in range(1, len(sorted_features_idx) + 1):\n",
    "        selected_features[sorted_features_idx[:n_features]] = True\n",
    "        selected_columns = X.columns[selected_features]\n",
    "        X_selected = X[selected_columns]\n",
    "        \n",
    "        model = XGBRegressor()  \n",
    "        model.fit(X_selected, y)\n",
    "        y_pred = model.predict(X_selected)\n",
    "        score = -mean_absolute_error(y, y_pred)  # Negate the MAE to maximize\n",
    "        \n",
    "        if score > best_score:\n",
    "            best_score = score\n",
    "            best_selected_features = np.copy(selected_features)\n",
    "    \n",
    "    return best_selected_features"
   ]
  },
  {
   "cell_type": "code",
   "execution_count": 250,
   "metadata": {},
   "outputs": [
    {
     "name": "stdout",
     "output_type": "stream",
     "text": [
      "Selected Features: Index(['Store', 'Dept', 'Type', 'Size', 'Temperature', 'CPI', 'Unemployment',\n",
      "       'Week', 'Thanksgiving_Day'],\n",
      "      dtype='object')\n"
     ]
    }
   ],
   "source": [
    "selected_features_tree = select_features_with_tree_importance(X, y)\n",
    "print(\"Selected Features:\", X.columns[selected_features_tree])"
   ]
  },
  {
   "cell_type": "code",
   "execution_count": 251,
   "metadata": {},
   "outputs": [
    {
     "name": "stdout",
     "output_type": "stream",
     "text": [
      "MAE: 3385.9444554602437\n"
     ]
    }
   ],
   "source": [
    "reg = XGBRegressor().fit(X_train[X.columns[selected_features_tree]], y_train)\n",
    "print(f'MAE: {mean_absolute_error(y_test, reg.predict(X_test[X.columns[selected_features_tree]]))}')\n",
    "feature_importance['tree'] = [mean_absolute_error(y_test, reg.predict(X_test[selected_features_tree])), selected_features_tree]"
   ]
  },
  {
   "cell_type": "markdown",
   "metadata": {},
   "source": [
    "#### Feature Selection using SelectKBest and Mutual Information Regression"
   ]
  },
  {
   "cell_type": "code",
   "execution_count": 258,
   "metadata": {},
   "outputs": [],
   "source": [
    "def select_features_SelectKBest(X_train, y_train, X_test, y_test):\n",
    "    feature_names = X_train.columns\n",
    "    best_mae = float('inf')\n",
    "    best_num_features = 0\n",
    "    best_features = None\n",
    "\n",
    "    for i in range(1, X_train.shape[1] + 1):\n",
    "        # Select top K features using SelectKBest\n",
    "        selector = SelectKBest(score_func=mutual_info_regression, k=i)\n",
    "        X_train_selected = selector.fit_transform(X_train, y_train)\n",
    "        X_test_selected = selector.transform(X_test)\n",
    "        selected_features_indices = selector.get_support(indices=True)\n",
    "        selected_feature_names = feature_names[selected_features_indices]\n",
    "\n",
    "        # Fit the model\n",
    "        model = XGBRegressor()\n",
    "        model.fit(X_train_selected, y_train)\n",
    "\n",
    "        # Evaluate the model\n",
    "        y_pred = model.predict(X_test_selected)\n",
    "\n",
    "        # Evaluate predictions\n",
    "        mae = mean_absolute_error(y_test, y_pred)\n",
    "        # print(f'MAE: {round(mae, 3)} for k value of: {i}')\n",
    "\n",
    "        if mae < best_mae:\n",
    "            best_mae = mae\n",
    "            best_num_features = i\n",
    "            best_features = selected_feature_names\n",
    "\n",
    "    # print(f\"Best MAE: {round(best_mae, 3)} for k value of: {best_num_features}\")\n",
    "    # print(\"Selected Features:\", best_features)\n",
    "\n",
    "    return best_features"
   ]
  },
  {
   "cell_type": "code",
   "execution_count": 259,
   "metadata": {},
   "outputs": [],
   "source": [
    "selected_features_selectKbest = select_features_SelectKBest(X_train, y_train, X_test, y_test)"
   ]
  },
  {
   "cell_type": "code",
   "execution_count": 267,
   "metadata": {},
   "outputs": [
    {
     "name": "stdout",
     "output_type": "stream",
     "text": [
      "MAE: 3133.3987839842207\n"
     ]
    }
   ],
   "source": [
    "reg = XGBRegressor().fit(X_train[selected_features_selectKbest], y_train)\n",
    "print(f'MAE: {mean_absolute_error(y_test, reg.predict(X_test[selected_features_selectKbest]))}')\n",
    "feature_importance['SelectKBest'] = [mean_absolute_error(y_test, reg.predict(X_test[selected_features_selectKbest])), selected_features_selectKbest]"
   ]
  },
  {
   "cell_type": "markdown",
   "metadata": {},
   "source": [
    "#### Selected Features\n",
    "\n",
    "**The least MAE found by the use of RFE method with a MAE of 2982.**\n",
    "\n",
    "`Selected Features`: ['Store', 'Dept', 'Type', 'Size', 'Week', 'Thanksgiving_Day']"
   ]
  },
  {
   "cell_type": "markdown",
   "metadata": {},
   "source": [
    "## Model Selection"
   ]
  },
  {
   "cell_type": "code",
   "execution_count": 11,
   "metadata": {},
   "outputs": [],
   "source": [
    "# Selecting the best features to train the models \n",
    "\n",
    "selected_features = ['Store', 'Dept', 'Type', 'Size', 'Week', 'Thanksgiving_Day']\n",
    "\n",
    "X_train = X_train[selected_features]\n",
    "X_test = X_test[selected_features]"
   ]
  },
  {
   "cell_type": "code",
   "execution_count": 12,
   "metadata": {},
   "outputs": [
    {
     "data": {
      "text/plain": [
       "((294132, 6), (127438, 6), (294132,), (127438,))"
      ]
     },
     "execution_count": 12,
     "metadata": {},
     "output_type": "execute_result"
    }
   ],
   "source": [
    "X_train.shape, X_test.shape, y_train.shape, y_test.shape"
   ]
  },
  {
   "cell_type": "code",
   "execution_count": 13,
   "metadata": {},
   "outputs": [],
   "source": [
    "def resample_plot(arr1, arr2, only_resample=False, only_plot=True, resample_and_plot=False):\n",
    "\n",
    "    \"\"\"This function resamples the dataset in a Weekly format to be able to display it better\"\"\"\n",
    "\n",
    "    if only_resample:\n",
    "        plot = False\n",
    "        return arr1.resmple('W').mean(), arr2.resample('W').mean()\n",
    "    \n",
    "    elif only_plot:\n",
    "        arr1.resample('W').mean().plot(figsize=(20,8), title= 'Weekly_Sales', fontsize=14)\n",
    "        arr2.resample('W').mean().plot(figsize=(20,8), title= 'Weekly_Sales', fontsize=14)\n",
    "        plt.legend(['Train', 'Test'])\n",
    "        plt.show()\n",
    "\n",
    "    elif resample_and_plot:\n",
    "        arr1.resample('W').mean().plot(figsize=(20,8), title= 'Weekly_Sales', fontsize=14)\n",
    "        arr2.resample('W').mean().plot(figsize=(20,8), title= 'Weekly_Sales', fontsize=14)\n",
    "        plt.legend(['Train', 'Test'])\n",
    "        plt.show()\n",
    "        return arr1.resmple('W').mean(), arr2.resample('W').mean()"
   ]
  },
  {
   "cell_type": "code",
   "execution_count": 14,
   "metadata": {},
   "outputs": [
    {
     "data": {
      "image/png": "[encoded data removed]",
      "text/plain": [
       "<Figure size 2000x800 with 1 Axes>"
      ]
     },
     "metadata": {},
     "output_type": "display_data"
    }
   ],
   "source": [
    "resample_plot(y_train, y_test)"
   ]
  },
  {
   "cell_type": "code",
   "execution_count": 481,
   "metadata": {},
   "outputs": [],
   "source": [
    "def train_fit_predict_score(X_train, X_test, y_train, y_test, model):\n",
    "    model.fit(X_train, y_train)\n",
    "    return model.score(X_test, y_test), model.predict(X_test)"
   ]
  },
  {
   "cell_type": "code",
   "execution_count": 17,
   "metadata": {},
   "outputs": [
    {
     "name": "stdout",
     "output_type": "stream",
     "text": [
      "RandomForestRegressor training is done....\n",
      "XGBRegressor training is done....\n",
      "LightGBM training is done....\n",
      "CatBoost training is done....\n"
     ]
    }
   ],
   "source": [
    "models = {'RandomForestRegressor': RandomForestRegressor(),\n",
    "          'XGBRegressor': XGBRegressor(),\n",
    "          'LightGBM': lgb.LGBMRegressor(),\n",
    "          'CatBoost': CatBoostRegressor(verbose=0),}\n",
    "\n",
    "scores = {}\n",
    "\n",
    "for name, model in models.items():\n",
    "    r2, y_pred = train_fit_predict_score(X_train, X_test, y_train, y_test, model)\n",
    "    mae = mean_absolute_error(y_test, y_pred)\n",
    "    scores[name] = mae\n",
    "    print(f'{name} training is done....')"
   ]
  },
  {
   "cell_type": "code",
   "execution_count": 18,
   "metadata": {},
   "outputs": [
    {
     "data": {
      "text/plain": [
       "{'RandomForestRegressor': 1841.5834540025144,\n",
       " 'XGBRegressor': 2982.4174936813456,\n",
       " 'LightGBM': 4064.9648764615104,\n",
       " 'CatBoost': 3276.06860685975}"
      ]
     },
     "execution_count": 18,
     "metadata": {},
     "output_type": "execute_result"
    }
   ],
   "source": [
    "scores"
   ]
  },
  {
   "cell_type": "markdown",
   "metadata": {},
   "source": [
    "#### Selected Models\n",
    "\n",
    "**Models with best score were `RandomForestRegressor`, `XGBRegressor`, and `CatBoost`**."
   ]
  },
  {
   "cell_type": "markdown",
   "metadata": {},
   "source": [
    "## Hyperparamter tuning for Best Models"
   ]
  },
  {
   "cell_type": "code",
   "execution_count": 482,
   "metadata": {},
   "outputs": [
    {
     "data": {
      "text/plain": [
       "(421570, 6)"
      ]
     },
     "execution_count": 482,
     "metadata": {},
     "output_type": "execute_result"
    }
   ],
   "source": [
    "X = X[X_train.columns]\n",
    "X.shape"
   ]
  },
  {
   "cell_type": "code",
   "execution_count": 483,
   "metadata": {},
   "outputs": [
    {
     "data": {
      "text/plain": [
       "((294132, 6), (294132,), (127438, 6), (127438,))"
      ]
     },
     "execution_count": 483,
     "metadata": {},
     "output_type": "execute_result"
    }
   ],
   "source": [
    "X_train.shape, y_train.shape, X_test.shape, y_test.shape"
   ]
  },
  {
   "cell_type": "markdown",
   "metadata": {},
   "source": [
    "#### Random Forest Regressor model paramters tuning"
   ]
  },
  {
   "cell_type": "code",
   "execution_count": 16,
   "metadata": {},
   "outputs": [],
   "source": [
    "param_grid = {\n",
    "    'n_estimators': [200, 300, 400, 500],\n",
    "    'max_depth': [5, 10, 15],\n",
    "    'min_samples_split': [2, 3, 5],\n",
    "    'min_samples_leaf': [1, 2, 5],\n",
    "}"
   ]
  },
  {
   "cell_type": "code",
   "execution_count": 18,
   "metadata": {},
   "outputs": [],
   "source": [
    "reg_rf = RandomForestRegressor()\n",
    "gridsearch = GridSearchCV(estimator=reg_rf, param_grid=param_grid, \n",
    "                          scoring='neg_mean_absolute_error', n_jobs=-1, cv=5, \n",
    "                          return_train_score=True, verbose=1)"
   ]
  },
  {
   "cell_type": "code",
   "execution_count": 20,
   "metadata": {},
   "outputs": [
    {
     "name": "stdout",
     "output_type": "stream",
     "text": [
      "Fitting 5 folds for each of 108 candidates, totalling 540 fits\n"
     ]
    },
    {
     "data": {
      "text/html": [
       "<style>#sk-container-id-1 {color: black;background-color: white;}#sk-container-id-1 pre{padding: 0;}#sk-container-id-1 div.sk-toggleable {background-color: white;}#sk-container-id-1 label.sk-toggleable__label {cursor: pointer;display: block;width: 100%;margin-bottom: 0;padding: 0.3em;box-sizing: border-box;text-align: center;}#sk-container-id-1 label.sk-toggleable__label-arrow:before {content: \"▸\";float: left;margin-right: 0.25em;color: #696969;}#sk-container-id-1 label.sk-toggleable__label-arrow:hover:before {color: black;}#sk-container-id-1 div.sk-estimator:hover label.sk-toggleable__label-arrow:before {color: black;}#sk-container-id-1 div.sk-toggleable__content {max-height: 0;max-width: 0;overflow: hidden;text-align: left;background-color: #f0f8ff;}#sk-container-id-1 div.sk-toggleable__content pre {margin: 0.2em;color: black;border-radius: 0.25em;background-color: #f0f8ff;}#sk-container-id-1 input.sk-toggleable__control:checked~div.sk-toggleable__content {max-height: 200px;max-width: 100%;overflow: auto;}#sk-container-id-1 input.sk-toggleable__control:checked~label.sk-toggleable__label-arrow:before {content: \"▾\";}#sk-container-id-1 div.sk-estimator input.sk-toggleable__control:checked~label.sk-toggleable__label {background-color: #d4ebff;}#sk-container-id-1 div.sk-label input.sk-toggleable__control:checked~label.sk-toggleable__label {background-color: #d4ebff;}#sk-container-id-1 input.sk-hidden--visually {border: 0;clip: rect(1px 1px 1px 1px);clip: rect(1px, 1px, 1px, 1px);height: 1px;margin: -1px;overflow: hidden;padding: 0;position: absolute;width: 1px;}#sk-container-id-1 div.sk-estimator {font-family: monospace;background-color: #f0f8ff;border: 1px dotted black;border-radius: 0.25em;box-sizing: border-box;margin-bottom: 0.5em;}#sk-container-id-1 div.sk-estimator:hover {background-color: #d4ebff;}#sk-container-id-1 div.sk-parallel-item::after {content: \"\";width: 100%;border-bottom: 1px solid gray;flex-grow: 1;}#sk-container-id-1 div.sk-label:hover label.sk-toggleable__label {background-color: #d4ebff;}#sk-container-id-1 div.sk-serial::before {content: \"\";position: absolute;border-left: 1px solid gray;box-sizing: border-box;top: 0;bottom: 0;left: 50%;z-index: 0;}#sk-container-id-1 div.sk-serial {display: flex;flex-direction: column;align-items: center;background-color: white;padding-right: 0.2em;padding-left: 0.2em;position: relative;}#sk-container-id-1 div.sk-item {position: relative;z-index: 1;}#sk-container-id-1 div.sk-parallel {display: flex;align-items: stretch;justify-content: center;background-color: white;position: relative;}#sk-container-id-1 div.sk-item::before, #sk-container-id-1 div.sk-parallel-item::before {content: \"\";position: absolute;border-left: 1px solid gray;box-sizing: border-box;top: 0;bottom: 0;left: 50%;z-index: -1;}#sk-container-id-1 div.sk-parallel-item {display: flex;flex-direction: column;z-index: 1;position: relative;background-color: white;}#sk-container-id-1 div.sk-parallel-item:first-child::after {align-self: flex-end;width: 50%;}#sk-container-id-1 div.sk-parallel-item:last-child::after {align-self: flex-start;width: 50%;}#sk-container-id-1 div.sk-parallel-item:only-child::after {width: 0;}#sk-container-id-1 div.sk-dashed-wrapped {border: 1px dashed gray;margin: 0 0.4em 0.5em 0.4em;box-sizing: border-box;padding-bottom: 0.4em;background-color: white;}#sk-container-id-1 div.sk-label label {font-family: monospace;font-weight: bold;display: inline-block;line-height: 1.2em;}#sk-container-id-1 div.sk-label-container {text-align: center;}#sk-container-id-1 div.sk-container {/* jupyter's `normalize.less` sets `[hidden] { display: none; }` but bootstrap.min.css set `[hidden] { display: none !important; }` so we also need the `!important` here to be able to override the default hidden behavior on the sphinx rendered scikit-learn.org. See: https://github.com/scikit-learn/scikit-learn/issues/21755 */display: inline-block !important;position: relative;}#sk-container-id-1 div.sk-text-repr-fallback {display: none;}</style><div id=\"sk-container-id-1\" class=\"sk-top-container\"><div class=\"sk-text-repr-fallback\"><pre>GridSearchCV(cv=5, estimator=RandomForestRegressor(), n_jobs=-1,\n",
       "             param_grid={&#x27;max_depth&#x27;: [5, 10, 15],\n",
       "                         &#x27;min_samples_leaf&#x27;: [1, 2, 5],\n",
       "                         &#x27;min_samples_split&#x27;: [2, 3, 5],\n",
       "                         &#x27;n_estimators&#x27;: [200, 300, 400, 500]},\n",
       "             return_train_score=True, scoring=&#x27;neg_mean_absolute_error&#x27;,\n",
       "             verbose=1)</pre><b>In a Jupyter environment, please rerun this cell to show the HTML representation or trust the notebook. <br />On GitHub, the HTML representation is unable to render, please try loading this page with nbviewer.org.</b></div><div class=\"sk-container\" hidden><div class=\"sk-item sk-dashed-wrapped\"><div class=\"sk-label-container\"><div class=\"sk-label sk-toggleable\"><input class=\"sk-toggleable__control sk-hidden--visually\" id=\"sk-estimator-id-1\" type=\"checkbox\" ><label for=\"sk-estimator-id-1\" class=\"sk-toggleable__label sk-toggleable__label-arrow\">GridSearchCV</label><div class=\"sk-toggleable__content\"><pre>GridSearchCV(cv=5, estimator=RandomForestRegressor(), n_jobs=-1,\n",
       "             param_grid={&#x27;max_depth&#x27;: [5, 10, 15],\n",
       "                         &#x27;min_samples_leaf&#x27;: [1, 2, 5],\n",
       "                         &#x27;min_samples_split&#x27;: [2, 3, 5],\n",
       "                         &#x27;n_estimators&#x27;: [200, 300, 400, 500]},\n",
       "             return_train_score=True, scoring=&#x27;neg_mean_absolute_error&#x27;,\n",
       "             verbose=1)</pre></div></div></div><div class=\"sk-parallel\"><div class=\"sk-parallel-item\"><div class=\"sk-item\"><div class=\"sk-label-container\"><div class=\"sk-label sk-toggleable\"><input class=\"sk-toggleable__control sk-hidden--visually\" id=\"sk-estimator-id-2\" type=\"checkbox\" ><label for=\"sk-estimator-id-2\" class=\"sk-toggleable__label sk-toggleable__label-arrow\">estimator: RandomForestRegressor</label><div class=\"sk-toggleable__content\"><pre>RandomForestRegressor()</pre></div></div></div><div class=\"sk-serial\"><div class=\"sk-item\"><div class=\"sk-estimator sk-toggleable\"><input class=\"sk-toggleable__control sk-hidden--visually\" id=\"sk-estimator-id-3\" type=\"checkbox\" ><label for=\"sk-estimator-id-3\" class=\"sk-toggleable__label sk-toggleable__label-arrow\">RandomForestRegressor</label><div class=\"sk-toggleable__content\"><pre>RandomForestRegressor()</pre></div></div></div></div></div></div></div></div></div></div>"
      ],
      "text/plain": [
       "GridSearchCV(cv=5, estimator=RandomForestRegressor(), n_jobs=-1,\n",
       "             param_grid={'max_depth': [5, 10, 15],\n",
       "                         'min_samples_leaf': [1, 2, 5],\n",
       "                         'min_samples_split': [2, 3, 5],\n",
       "                         'n_estimators': [200, 300, 400, 500]},\n",
       "             return_train_score=True, scoring='neg_mean_absolute_error',\n",
       "             verbose=1)"
      ]
     },
     "execution_count": 20,
     "metadata": {},
     "output_type": "execute_result"
    }
   ],
   "source": [
    "gridsearch.fit(X, y)"
   ]
  },
  {
   "cell_type": "code",
   "execution_count": 21,
   "metadata": {},
   "outputs": [
    {
     "data": {
      "text/plain": [
       "{'max_depth': 15,\n",
       " 'min_samples_leaf': 1,\n",
       " 'min_samples_split': 2,\n",
       " 'n_estimators': 400}"
      ]
     },
     "execution_count": 21,
     "metadata": {},
     "output_type": "execute_result"
    }
   ],
   "source": [
    "gridsearch.best_params_"
   ]
  },
  {
   "cell_type": "code",
   "execution_count": 22,
   "metadata": {},
   "outputs": [
    {
     "data": {
      "text/plain": [
       "-2265.455086559362"
      ]
     },
     "execution_count": 22,
     "metadata": {},
     "output_type": "execute_result"
    }
   ],
   "source": [
    "gridsearch.best_score_"
   ]
  },
  {
   "cell_type": "markdown",
   "metadata": {},
   "source": [
    "#### XGBoost Regression Model hyperparameter tuning"
   ]
  },
  {
   "cell_type": "code",
   "execution_count": 19,
   "metadata": {},
   "outputs": [],
   "source": [
    "param_grid = {\n",
    "    'learning_rate': [0.1, 0.2],\n",
    "    'max_depth': [3, 5],\n",
    "    'subsample': [0.8, 1.0],\n",
    "    'colsample_bytree': [0.8, 1.0],\n",
    "    'n_estimators': [200, 300, 400]\n",
    "}"
   ]
  },
  {
   "cell_type": "code",
   "execution_count": 20,
   "metadata": {},
   "outputs": [],
   "source": [
    "reg_XGB = XGBRegressor()\n",
    "gridsearch = GridSearchCV(estimator=reg_XGB, param_grid=param_grid, \n",
    "                          scoring='neg_mean_absolute_error', n_jobs=-1, cv=5, \n",
    "                          return_train_score=True, verbose=1)"
   ]
  },
  {
   "cell_type": "code",
   "execution_count": 21,
   "metadata": {},
   "outputs": [
    {
     "name": "stdout",
     "output_type": "stream",
     "text": [
      "Fitting 5 folds for each of 48 candidates, totalling 240 fits\n"
     ]
    },
    {
     "data": {
      "text/html": [
       "<style>#sk-container-id-1 {color: black;background-color: white;}#sk-container-id-1 pre{padding: 0;}#sk-container-id-1 div.sk-toggleable {background-color: white;}#sk-container-id-1 label.sk-toggleable__label {cursor: pointer;display: block;width: 100%;margin-bottom: 0;padding: 0.3em;box-sizing: border-box;text-align: center;}#sk-container-id-1 label.sk-toggleable__label-arrow:before {content: \"▸\";float: left;margin-right: 0.25em;color: #696969;}#sk-container-id-1 label.sk-toggleable__label-arrow:hover:before {color: black;}#sk-container-id-1 div.sk-estimator:hover label.sk-toggleable__label-arrow:before {color: black;}#sk-container-id-1 div.sk-toggleable__content {max-height: 0;max-width: 0;overflow: hidden;text-align: left;background-color: #f0f8ff;}#sk-container-id-1 div.sk-toggleable__content pre {margin: 0.2em;color: black;border-radius: 0.25em;background-color: #f0f8ff;}#sk-container-id-1 input.sk-toggleable__control:checked~div.sk-toggleable__content {max-height: 200px;max-width: 100%;overflow: auto;}#sk-container-id-1 input.sk-toggleable__control:checked~label.sk-toggleable__label-arrow:before {content: \"▾\";}#sk-container-id-1 div.sk-estimator input.sk-toggleable__control:checked~label.sk-toggleable__label {background-color: #d4ebff;}#sk-container-id-1 div.sk-label input.sk-toggleable__control:checked~label.sk-toggleable__label {background-color: #d4ebff;}#sk-container-id-1 input.sk-hidden--visually {border: 0;clip: rect(1px 1px 1px 1px);clip: rect(1px, 1px, 1px, 1px);height: 1px;margin: -1px;overflow: hidden;padding: 0;position: absolute;width: 1px;}#sk-container-id-1 div.sk-estimator {font-family: monospace;background-color: #f0f8ff;border: 1px dotted black;border-radius: 0.25em;box-sizing: border-box;margin-bottom: 0.5em;}#sk-container-id-1 div.sk-estimator:hover {background-color: #d4ebff;}#sk-container-id-1 div.sk-parallel-item::after {content: \"\";width: 100%;border-bottom: 1px solid gray;flex-grow: 1;}#sk-container-id-1 div.sk-label:hover label.sk-toggleable__label {background-color: #d4ebff;}#sk-container-id-1 div.sk-serial::before {content: \"\";position: absolute;border-left: 1px solid gray;box-sizing: border-box;top: 0;bottom: 0;left: 50%;z-index: 0;}#sk-container-id-1 div.sk-serial {display: flex;flex-direction: column;align-items: center;background-color: white;padding-right: 0.2em;padding-left: 0.2em;position: relative;}#sk-container-id-1 div.sk-item {position: relative;z-index: 1;}#sk-container-id-1 div.sk-parallel {display: flex;align-items: stretch;justify-content: center;background-color: white;position: relative;}#sk-container-id-1 div.sk-item::before, #sk-container-id-1 div.sk-parallel-item::before {content: \"\";position: absolute;border-left: 1px solid gray;box-sizing: border-box;top: 0;bottom: 0;left: 50%;z-index: -1;}#sk-container-id-1 div.sk-parallel-item {display: flex;flex-direction: column;z-index: 1;position: relative;background-color: white;}#sk-container-id-1 div.sk-parallel-item:first-child::after {align-self: flex-end;width: 50%;}#sk-container-id-1 div.sk-parallel-item:last-child::after {align-self: flex-start;width: 50%;}#sk-container-id-1 div.sk-parallel-item:only-child::after {width: 0;}#sk-container-id-1 div.sk-dashed-wrapped {border: 1px dashed gray;margin: 0 0.4em 0.5em 0.4em;box-sizing: border-box;padding-bottom: 0.4em;background-color: white;}#sk-container-id-1 div.sk-label label {font-family: monospace;font-weight: bold;display: inline-block;line-height: 1.2em;}#sk-container-id-1 div.sk-label-container {text-align: center;}#sk-container-id-1 div.sk-container {/* jupyter's `normalize.less` sets `[hidden] { display: none; }` but bootstrap.min.css set `[hidden] { display: none !important; }` so we also need the `!important` here to be able to override the default hidden behavior on the sphinx rendered scikit-learn.org. See: https://github.com/scikit-learn/scikit-learn/issues/21755 */display: inline-block !important;position: relative;}#sk-container-id-1 div.sk-text-repr-fallback {display: none;}</style><div id=\"sk-container-id-1\" class=\"sk-top-container\"><div class=\"sk-text-repr-fallback\"><pre>GridSearchCV(cv=5,\n",
       "             estimator=XGBRegressor(base_score=None, booster=None,\n",
       "                                    callbacks=None, colsample_bylevel=None,\n",
       "                                    colsample_bynode=None,\n",
       "                                    colsample_bytree=None,\n",
       "                                    early_stopping_rounds=None,\n",
       "                                    enable_categorical=False, eval_metric=None,\n",
       "                                    feature_types=None, gamma=None, gpu_id=None,\n",
       "                                    grow_policy=None, importance_type=None,\n",
       "                                    interaction_constraints=None,\n",
       "                                    learning_rate=None, m...\n",
       "                                    min_child_weight=None, missing=nan,\n",
       "                                    monotone_constraints=None, n_estimators=100,\n",
       "                                    n_jobs=None, num_parallel_tree=None,\n",
       "                                    predictor=None, random_state=None, ...),\n",
       "             n_jobs=-1,\n",
       "             param_grid={&#x27;colsample_bytree&#x27;: [0.8, 1.0],\n",
       "                         &#x27;learning_rate&#x27;: [0.1, 0.2], &#x27;max_depth&#x27;: [3, 5],\n",
       "                         &#x27;n_estimators&#x27;: [200, 300, 400],\n",
       "                         &#x27;subsample&#x27;: [0.8, 1.0]},\n",
       "             return_train_score=True, scoring=&#x27;neg_mean_absolute_error&#x27;,\n",
       "             verbose=1)</pre><b>In a Jupyter environment, please rerun this cell to show the HTML representation or trust the notebook. <br />On GitHub, the HTML representation is unable to render, please try loading this page with nbviewer.org.</b></div><div class=\"sk-container\" hidden><div class=\"sk-item sk-dashed-wrapped\"><div class=\"sk-label-container\"><div class=\"sk-label sk-toggleable\"><input class=\"sk-toggleable__control sk-hidden--visually\" id=\"sk-estimator-id-1\" type=\"checkbox\" ><label for=\"sk-estimator-id-1\" class=\"sk-toggleable__label sk-toggleable__label-arrow\">GridSearchCV</label><div class=\"sk-toggleable__content\"><pre>GridSearchCV(cv=5,\n",
       "             estimator=XGBRegressor(base_score=None, booster=None,\n",
       "                                    callbacks=None, colsample_bylevel=None,\n",
       "                                    colsample_bynode=None,\n",
       "                                    colsample_bytree=None,\n",
       "                                    early_stopping_rounds=None,\n",
       "                                    enable_categorical=False, eval_metric=None,\n",
       "                                    feature_types=None, gamma=None, gpu_id=None,\n",
       "                                    grow_policy=None, importance_type=None,\n",
       "                                    interaction_constraints=None,\n",
       "                                    learning_rate=None, m...\n",
       "                                    min_child_weight=None, missing=nan,\n",
       "                                    monotone_constraints=None, n_estimators=100,\n",
       "                                    n_jobs=None, num_parallel_tree=None,\n",
       "                                    predictor=None, random_state=None, ...),\n",
       "             n_jobs=-1,\n",
       "             param_grid={&#x27;colsample_bytree&#x27;: [0.8, 1.0],\n",
       "                         &#x27;learning_rate&#x27;: [0.1, 0.2], &#x27;max_depth&#x27;: [3, 5],\n",
       "                         &#x27;n_estimators&#x27;: [200, 300, 400],\n",
       "                         &#x27;subsample&#x27;: [0.8, 1.0]},\n",
       "             return_train_score=True, scoring=&#x27;neg_mean_absolute_error&#x27;,\n",
       "             verbose=1)</pre></div></div></div><div class=\"sk-parallel\"><div class=\"sk-parallel-item\"><div class=\"sk-item\"><div class=\"sk-label-container\"><div class=\"sk-label sk-toggleable\"><input class=\"sk-toggleable__control sk-hidden--visually\" id=\"sk-estimator-id-2\" type=\"checkbox\" ><label for=\"sk-estimator-id-2\" class=\"sk-toggleable__label sk-toggleable__label-arrow\">estimator: XGBRegressor</label><div class=\"sk-toggleable__content\"><pre>XGBRegressor(base_score=None, booster=None, callbacks=None,\n",
       "             colsample_bylevel=None, colsample_bynode=None,\n",
       "             colsample_bytree=None, early_stopping_rounds=None,\n",
       "             enable_categorical=False, eval_metric=None, feature_types=None,\n",
       "             gamma=None, gpu_id=None, grow_policy=None, importance_type=None,\n",
       "             interaction_constraints=None, learning_rate=None, max_bin=None,\n",
       "             max_cat_threshold=None, max_cat_to_onehot=None,\n",
       "             max_delta_step=None, max_depth=None, max_leaves=None,\n",
       "             min_child_weight=None, missing=nan, monotone_constraints=None,\n",
       "             n_estimators=100, n_jobs=None, num_parallel_tree=None,\n",
       "             predictor=None, random_state=None, ...)</pre></div></div></div><div class=\"sk-serial\"><div class=\"sk-item\"><div class=\"sk-estimator sk-toggleable\"><input class=\"sk-toggleable__control sk-hidden--visually\" id=\"sk-estimator-id-3\" type=\"checkbox\" ><label for=\"sk-estimator-id-3\" class=\"sk-toggleable__label sk-toggleable__label-arrow\">XGBRegressor</label><div class=\"sk-toggleable__content\"><pre>XGBRegressor(base_score=None, booster=None, callbacks=None,\n",
       "             colsample_bylevel=None, colsample_bynode=None,\n",
       "             colsample_bytree=None, early_stopping_rounds=None,\n",
       "             enable_categorical=False, eval_metric=None, feature_types=None,\n",
       "             gamma=None, gpu_id=None, grow_policy=None, importance_type=None,\n",
       "             interaction_constraints=None, learning_rate=None, max_bin=None,\n",
       "             max_cat_threshold=None, max_cat_to_onehot=None,\n",
       "             max_delta_step=None, max_depth=None, max_leaves=None,\n",
       "             min_child_weight=None, missing=nan, monotone_constraints=None,\n",
       "             n_estimators=100, n_jobs=None, num_parallel_tree=None,\n",
       "             predictor=None, random_state=None, ...)</pre></div></div></div></div></div></div></div></div></div></div>"
      ],
      "text/plain": [
       "GridSearchCV(cv=5,\n",
       "             estimator=XGBRegressor(base_score=None, booster=None,\n",
       "                                    callbacks=None, colsample_bylevel=None,\n",
       "                                    colsample_bynode=None,\n",
       "                                    colsample_bytree=None,\n",
       "                                    early_stopping_rounds=None,\n",
       "                                    enable_categorical=False, eval_metric=None,\n",
       "                                    feature_types=None, gamma=None, gpu_id=None,\n",
       "                                    grow_policy=None, importance_type=None,\n",
       "                                    interaction_constraints=None,\n",
       "                                    learning_rate=None, m...\n",
       "                                    min_child_weight=None, missing=nan,\n",
       "                                    monotone_constraints=None, n_estimators=100,\n",
       "                                    n_jobs=None, num_parallel_tree=None,\n",
       "                                    predictor=None, random_state=None, ...),\n",
       "             n_jobs=-1,\n",
       "             param_grid={'colsample_bytree': [0.8, 1.0],\n",
       "                         'learning_rate': [0.1, 0.2], 'max_depth': [3, 5],\n",
       "                         'n_estimators': [200, 300, 400],\n",
       "                         'subsample': [0.8, 1.0]},\n",
       "             return_train_score=True, scoring='neg_mean_absolute_error',\n",
       "             verbose=1)"
      ]
     },
     "execution_count": 21,
     "metadata": {},
     "output_type": "execute_result"
    }
   ],
   "source": [
    "gridsearch.fit(X, y)"
   ]
  },
  {
   "cell_type": "code",
   "execution_count": 22,
   "metadata": {},
   "outputs": [
    {
     "data": {
      "text/plain": [
       "{'colsample_bytree': 1.0,\n",
       " 'learning_rate': 0.2,\n",
       " 'max_depth': 5,\n",
       " 'n_estimators': 400,\n",
       " 'subsample': 1.0}"
      ]
     },
     "execution_count": 22,
     "metadata": {},
     "output_type": "execute_result"
    }
   ],
   "source": [
    "gridsearch.best_params_"
   ]
  },
  {
   "cell_type": "code",
   "execution_count": 23,
   "metadata": {},
   "outputs": [
    {
     "data": {
      "text/plain": [
       "-2953.3070835476847"
      ]
     },
     "execution_count": 23,
     "metadata": {},
     "output_type": "execute_result"
    }
   ],
   "source": [
    "gridsearch.best_score_"
   ]
  },
  {
   "cell_type": "markdown",
   "metadata": {},
   "source": [
    "#### Catboost Regression hyperparamter tuning"
   ]
  },
  {
   "cell_type": "code",
   "execution_count": 24,
   "metadata": {},
   "outputs": [],
   "source": [
    "param_grid = {\n",
    "    'learning_rate': [0.01, 0.1, 1],\n",
    "    'depth': [3, 5, 7],\n",
    "    'subsample': [0.6, 0.8],\n",
    "    'colsample_bylevel': [0.6, 0.8],\n",
    "    'iterations': [200, 300, 400]\n",
    "}"
   ]
  },
  {
   "cell_type": "code",
   "execution_count": 25,
   "metadata": {},
   "outputs": [],
   "source": [
    "from catboost import CatBoostRegressor"
   ]
  },
  {
   "cell_type": "code",
   "execution_count": 26,
   "metadata": {},
   "outputs": [],
   "source": [
    "reg_cbr = CatBoostRegressor()\n",
    "gridsearch = GridSearchCV(estimator=reg_cbr, param_grid=param_grid, \n",
    "                          scoring='neg_mean_absolute_error', n_jobs=-1, cv=5, \n",
    "                          return_train_score=True, verbose=1)"
   ]
  },
  {
   "cell_type": "code",
   "execution_count": 27,
   "metadata": {},
   "outputs": [
    {
     "name": "stdout",
     "output_type": "stream",
     "text": [
      "Fitting 5 folds for each of 108 candidates, totalling 540 fits\n",
      "0:\tlearn: 17286.4436378\ttotal: 153ms\tremaining: 1m 1s\n",
      "1:\tlearn: 13777.8504399\ttotal: 171ms\tremaining: 34.1s\n",
      "2:\tlearn: 12302.0388696\ttotal: 189ms\tremaining: 25.1s\n",
      "3:\tlearn: 11745.1232942\ttotal: 205ms\tremaining: 20.3s\n",
      "4:\tlearn: 11149.7664757\ttotal: 221ms\tremaining: 17.5s\n",
      "5:\tlearn: 10756.6183104\ttotal: 235ms\tremaining: 15.4s\n",
      "6:\tlearn: 10394.0925369\ttotal: 252ms\tremaining: 14.1s\n",
      "7:\tlearn: 10130.1854830\ttotal: 268ms\tremaining: 13.1s\n",
      "8:\tlearn: 9857.5321703\ttotal: 284ms\tremaining: 12.3s\n",
      "9:\tlearn: 9711.2122854\ttotal: 301ms\tremaining: 11.7s\n",
      "10:\tlearn: 9559.7547581\ttotal: 317ms\tremaining: 11.2s\n",
      "11:\tlearn: 9438.0715414\ttotal: 332ms\tremaining: 10.7s\n",
      "12:\tlearn: 9305.0168315\ttotal: 349ms\tremaining: 10.4s\n",
      "13:\tlearn: 9231.4846241\ttotal: 367ms\tremaining: 10.1s\n",
      "14:\tlearn: 8971.4867026\ttotal: 384ms\tremaining: 9.85s\n",
      "15:\tlearn: 8864.5511691\ttotal: 403ms\tremaining: 9.67s\n",
      "16:\tlearn: 8684.8145670\ttotal: 422ms\tremaining: 9.52s\n",
      "17:\tlearn: 8478.6097945\ttotal: 442ms\tremaining: 9.38s\n",
      "18:\tlearn: 8397.5218862\ttotal: 458ms\tremaining: 9.19s\n",
      "19:\tlearn: 8320.5151944\ttotal: 476ms\tremaining: 9.04s\n",
      "20:\tlearn: 8237.3870086\ttotal: 492ms\tremaining: 8.87s\n",
      "21:\tlearn: 8191.3291412\ttotal: 507ms\tremaining: 8.7s\n",
      "22:\tlearn: 8056.4136638\ttotal: 521ms\tremaining: 8.55s\n",
      "23:\tlearn: 7941.7643612\ttotal: 538ms\tremaining: 8.43s\n",
      "24:\tlearn: 7892.6752884\ttotal: 554ms\tremaining: 8.3s\n",
      "25:\tlearn: 7844.9939705\ttotal: 570ms\tremaining: 8.2s\n",
      "26:\tlearn: 7791.4676983\ttotal: 586ms\tremaining: 8.1s\n",
      "27:\tlearn: 7748.0794395\ttotal: 604ms\tremaining: 8.02s\n",
      "28:\tlearn: 7622.9864834\ttotal: 621ms\tremaining: 7.95s\n",
      "29:\tlearn: 7567.2197791\ttotal: 638ms\tremaining: 7.87s\n",
      "30:\tlearn: 7531.6614077\ttotal: 656ms\tremaining: 7.8s\n",
      "31:\tlearn: 7506.9230496\ttotal: 671ms\tremaining: 7.71s\n",
      "32:\tlearn: 7470.9018858\ttotal: 687ms\tremaining: 7.64s\n",
      "33:\tlearn: 7440.0712896\ttotal: 703ms\tremaining: 7.56s\n",
      "34:\tlearn: 7408.5816738\ttotal: 718ms\tremaining: 7.49s\n",
      "35:\tlearn: 7379.6842459\ttotal: 733ms\tremaining: 7.42s\n",
      "36:\tlearn: 7352.1726126\ttotal: 750ms\tremaining: 7.36s\n",
      "37:\tlearn: 7330.8924349\ttotal: 766ms\tremaining: 7.3s\n",
      "38:\tlearn: 7315.4446982\ttotal: 782ms\tremaining: 7.24s\n",
      "39:\tlearn: 7296.3888556\ttotal: 798ms\tremaining: 7.18s\n",
      "40:\tlearn: 7264.8561282\ttotal: 814ms\tremaining: 7.13s\n",
      "41:\tlearn: 7237.5479774\ttotal: 832ms\tremaining: 7.09s\n",
      "42:\tlearn: 7206.0589205\ttotal: 848ms\tremaining: 7.04s\n",
      "43:\tlearn: 7159.6797276\ttotal: 864ms\tremaining: 6.99s\n",
      "44:\tlearn: 7135.1526994\ttotal: 880ms\tremaining: 6.94s\n",
      "45:\tlearn: 7095.5519411\ttotal: 894ms\tremaining: 6.88s\n",
      "46:\tlearn: 7037.3643918\ttotal: 909ms\tremaining: 6.83s\n",
      "47:\tlearn: 7024.8557488\ttotal: 925ms\tremaining: 6.78s\n",
      "48:\tlearn: 7013.1083103\ttotal: 942ms\tremaining: 6.75s\n",
      "49:\tlearn: 6979.1520236\ttotal: 959ms\tremaining: 6.71s\n",
      "50:\tlearn: 6902.6314846\ttotal: 975ms\tremaining: 6.67s\n",
      "51:\tlearn: 6877.3288499\ttotal: 991ms\tremaining: 6.63s\n",
      "52:\tlearn: 6861.0253394\ttotal: 1.01s\tremaining: 6.59s\n",
      "53:\tlearn: 6841.7523444\ttotal: 1.02s\tremaining: 6.56s\n",
      "54:\tlearn: 6830.1876713\ttotal: 1.04s\tremaining: 6.53s\n",
      "55:\tlearn: 6809.9439705\ttotal: 1.06s\tremaining: 6.5s\n",
      "56:\tlearn: 6787.6740391\ttotal: 1.07s\tremaining: 6.46s\n",
      "57:\tlearn: 6752.9845157\ttotal: 1.09s\tremaining: 6.42s\n",
      "58:\tlearn: 6681.2646884\ttotal: 1.1s\tremaining: 6.39s\n",
      "59:\tlearn: 6659.0559869\ttotal: 1.12s\tremaining: 6.36s\n",
      "60:\tlearn: 6639.2230928\ttotal: 1.14s\tremaining: 6.32s\n",
      "61:\tlearn: 6612.3594160\ttotal: 1.15s\tremaining: 6.29s\n",
      "62:\tlearn: 6595.2805029\ttotal: 1.17s\tremaining: 6.25s\n",
      "63:\tlearn: 6581.5995278\ttotal: 1.19s\tremaining: 6.23s\n",
      "64:\tlearn: 6556.7060288\ttotal: 1.2s\tremaining: 6.2s\n",
      "65:\tlearn: 6529.3476819\ttotal: 1.22s\tremaining: 6.16s\n",
      "66:\tlearn: 6499.2861475\ttotal: 1.23s\tremaining: 6.12s\n",
      "67:\tlearn: 6453.5698879\ttotal: 1.25s\tremaining: 6.1s\n",
      "68:\tlearn: 6445.8238753\ttotal: 1.26s\tremaining: 6.07s\n",
      "69:\tlearn: 6423.6436576\ttotal: 1.28s\tremaining: 6.04s\n",
      "70:\tlearn: 6395.1175124\ttotal: 1.3s\tremaining: 6.01s\n",
      "71:\tlearn: 6373.7024904\ttotal: 1.31s\tremaining: 5.99s\n",
      "72:\tlearn: 6356.8372672\ttotal: 1.33s\tremaining: 5.96s\n",
      "73:\tlearn: 6316.6522185\ttotal: 1.35s\tremaining: 5.93s\n",
      "74:\tlearn: 6305.5658288\ttotal: 1.36s\tremaining: 5.9s\n",
      "75:\tlearn: 6265.6616622\ttotal: 1.38s\tremaining: 5.88s\n",
      "76:\tlearn: 6249.3940825\ttotal: 1.39s\tremaining: 5.84s\n",
      "77:\tlearn: 6222.7618818\ttotal: 1.41s\tremaining: 5.82s\n",
      "78:\tlearn: 6200.9426452\ttotal: 1.43s\tremaining: 5.79s\n",
      "79:\tlearn: 6189.5007093\ttotal: 1.44s\tremaining: 5.76s\n",
      "80:\tlearn: 6146.4220688\ttotal: 1.46s\tremaining: 5.74s\n",
      "81:\tlearn: 6112.9007247\ttotal: 1.47s\tremaining: 5.71s\n",
      "82:\tlearn: 6087.3737015\ttotal: 1.49s\tremaining: 5.69s\n",
      "83:\tlearn: 6066.5745145\ttotal: 1.51s\tremaining: 5.67s\n",
      "84:\tlearn: 6043.5591203\ttotal: 1.52s\tremaining: 5.65s\n",
      "85:\tlearn: 6026.5522449\ttotal: 1.54s\tremaining: 5.62s\n",
      "86:\tlearn: 5919.8339217\ttotal: 1.55s\tremaining: 5.59s\n",
      "87:\tlearn: 5886.9704118\ttotal: 1.57s\tremaining: 5.58s\n",
      "88:\tlearn: 5874.7067726\ttotal: 1.59s\tremaining: 5.55s\n",
      "89:\tlearn: 5858.2117185\ttotal: 1.6s\tremaining: 5.53s\n",
      "90:\tlearn: 5842.1193990\ttotal: 1.62s\tremaining: 5.5s\n",
      "91:\tlearn: 5828.6299480\ttotal: 1.64s\tremaining: 5.47s\n",
      "92:\tlearn: 5815.6748173\ttotal: 1.65s\tremaining: 5.45s\n",
      "93:\tlearn: 5797.6829805\ttotal: 1.67s\tremaining: 5.43s\n",
      "94:\tlearn: 5791.4302119\ttotal: 1.68s\tremaining: 5.4s\n",
      "95:\tlearn: 5786.0912496\ttotal: 1.7s\tremaining: 5.38s\n",
      "96:\tlearn: 5769.5763551\ttotal: 1.71s\tremaining: 5.35s\n",
      "97:\tlearn: 5756.9002585\ttotal: 1.73s\tremaining: 5.33s\n",
      "98:\tlearn: 5743.8696295\ttotal: 1.75s\tremaining: 5.31s\n",
      "99:\tlearn: 5722.6523273\ttotal: 1.76s\tremaining: 5.29s\n",
      "100:\tlearn: 5710.2955937\ttotal: 1.78s\tremaining: 5.26s\n",
      "101:\tlearn: 5669.6191817\ttotal: 1.79s\tremaining: 5.24s\n",
      "102:\tlearn: 5640.9106438\ttotal: 1.81s\tremaining: 5.22s\n",
      "103:\tlearn: 5632.4484367\ttotal: 1.83s\tremaining: 5.2s\n",
      "104:\tlearn: 5603.5334035\ttotal: 1.84s\tremaining: 5.17s\n",
      "105:\tlearn: 5586.3912093\ttotal: 1.86s\tremaining: 5.15s\n",
      "106:\tlearn: 5575.6081573\ttotal: 1.87s\tremaining: 5.12s\n",
      "107:\tlearn: 5564.1149630\ttotal: 1.89s\tremaining: 5.1s\n",
      "108:\tlearn: 5557.6746765\ttotal: 1.9s\tremaining: 5.08s\n",
      "109:\tlearn: 5535.8619471\ttotal: 1.92s\tremaining: 5.05s\n",
      "110:\tlearn: 5528.8063073\ttotal: 1.93s\tremaining: 5.03s\n",
      "111:\tlearn: 5517.1678707\ttotal: 1.95s\tremaining: 5.01s\n",
      "112:\tlearn: 5487.0942461\ttotal: 1.96s\tremaining: 4.99s\n",
      "113:\tlearn: 5479.7692464\ttotal: 1.98s\tremaining: 4.97s\n",
      "114:\tlearn: 5473.2010000\ttotal: 2s\tremaining: 4.94s\n",
      "115:\tlearn: 5460.8370483\ttotal: 2.01s\tremaining: 4.92s\n",
      "116:\tlearn: 5450.5993993\ttotal: 2.03s\tremaining: 4.9s\n",
      "117:\tlearn: 5441.7431324\ttotal: 2.04s\tremaining: 4.88s\n",
      "118:\tlearn: 5426.6670981\ttotal: 2.06s\tremaining: 4.86s\n",
      "119:\tlearn: 5422.6057365\ttotal: 2.08s\tremaining: 4.84s\n",
      "120:\tlearn: 5411.8934897\ttotal: 2.09s\tremaining: 4.82s\n",
      "121:\tlearn: 5407.2471741\ttotal: 2.11s\tremaining: 4.8s\n",
      "122:\tlearn: 5402.3432374\ttotal: 2.12s\tremaining: 4.78s\n",
      "123:\tlearn: 5395.0077615\ttotal: 2.14s\tremaining: 4.76s\n",
      "124:\tlearn: 5388.4547614\ttotal: 2.15s\tremaining: 4.74s\n",
      "125:\tlearn: 5375.4933329\ttotal: 2.17s\tremaining: 4.72s\n",
      "126:\tlearn: 5364.6700102\ttotal: 2.18s\tremaining: 4.7s\n",
      "127:\tlearn: 5349.9393078\ttotal: 2.2s\tremaining: 4.67s\n",
      "128:\tlearn: 5333.2953677\ttotal: 2.21s\tremaining: 4.65s\n",
      "129:\tlearn: 5326.3954275\ttotal: 2.23s\tremaining: 4.63s\n",
      "130:\tlearn: 5319.4072319\ttotal: 2.25s\tremaining: 4.61s\n",
      "131:\tlearn: 5311.0075365\ttotal: 2.26s\tremaining: 4.59s\n",
      "132:\tlearn: 5303.2967167\ttotal: 2.28s\tremaining: 4.58s\n",
      "133:\tlearn: 5293.6768523\ttotal: 2.3s\tremaining: 4.56s\n",
      "134:\tlearn: 5283.4498695\ttotal: 2.31s\tremaining: 4.54s\n",
      "135:\tlearn: 5266.6276740\ttotal: 2.33s\tremaining: 4.52s\n",
      "136:\tlearn: 5252.0303086\ttotal: 2.35s\tremaining: 4.5s\n",
      "137:\tlearn: 5245.0168599\ttotal: 2.36s\tremaining: 4.49s\n",
      "138:\tlearn: 5239.5197495\ttotal: 2.38s\tremaining: 4.47s\n",
      "139:\tlearn: 5235.8321691\ttotal: 2.4s\tremaining: 4.45s\n",
      "140:\tlearn: 5220.3556579\ttotal: 2.41s\tremaining: 4.43s\n",
      "141:\tlearn: 5214.1627385\ttotal: 2.43s\tremaining: 4.41s\n",
      "142:\tlearn: 5202.6591963\ttotal: 2.44s\tremaining: 4.39s\n",
      "143:\tlearn: 5198.9094451\ttotal: 2.46s\tremaining: 4.37s\n",
      "144:\tlearn: 5191.8003831\ttotal: 2.48s\tremaining: 4.35s\n",
      "145:\tlearn: 5174.8740840\ttotal: 2.49s\tremaining: 4.33s\n",
      "146:\tlearn: 5167.6296130\ttotal: 2.5s\tremaining: 4.31s\n",
      "147:\tlearn: 5158.3675228\ttotal: 2.52s\tremaining: 4.29s\n",
      "148:\tlearn: 5153.5080863\ttotal: 2.54s\tremaining: 4.27s\n",
      "149:\tlearn: 5145.0684405\ttotal: 2.55s\tremaining: 4.25s\n",
      "150:\tlearn: 5135.8842916\ttotal: 2.56s\tremaining: 4.23s\n",
      "151:\tlearn: 5129.8364046\ttotal: 2.58s\tremaining: 4.21s\n",
      "152:\tlearn: 5115.0488959\ttotal: 2.6s\tremaining: 4.19s\n",
      "153:\tlearn: 5105.5635281\ttotal: 2.61s\tremaining: 4.17s\n",
      "154:\tlearn: 5090.2396508\ttotal: 2.63s\tremaining: 4.15s\n",
      "155:\tlearn: 5086.6226843\ttotal: 2.64s\tremaining: 4.13s\n",
      "156:\tlearn: 5080.5338553\ttotal: 2.66s\tremaining: 4.11s\n",
      "157:\tlearn: 5073.0813573\ttotal: 2.67s\tremaining: 4.09s\n",
      "158:\tlearn: 5069.6224982\ttotal: 2.69s\tremaining: 4.07s\n",
      "159:\tlearn: 5061.4952408\ttotal: 2.7s\tremaining: 4.05s\n",
      "160:\tlearn: 5054.3189920\ttotal: 2.72s\tremaining: 4.04s\n",
      "161:\tlearn: 5035.7369732\ttotal: 2.73s\tremaining: 4.02s\n",
      "162:\tlearn: 5027.1903597\ttotal: 2.75s\tremaining: 4s\n",
      "163:\tlearn: 5020.0215718\ttotal: 2.77s\tremaining: 3.98s\n",
      "164:\tlearn: 5015.8316780\ttotal: 2.78s\tremaining: 3.96s\n",
      "165:\tlearn: 5009.3990371\ttotal: 2.8s\tremaining: 3.94s\n",
      "166:\tlearn: 5001.7034226\ttotal: 2.81s\tremaining: 3.93s\n",
      "167:\tlearn: 4991.1487954\ttotal: 2.83s\tremaining: 3.91s\n",
      "168:\tlearn: 4982.3380475\ttotal: 2.84s\tremaining: 3.89s\n",
      "169:\tlearn: 4978.0271578\ttotal: 2.86s\tremaining: 3.87s\n",
      "170:\tlearn: 4971.5064898\ttotal: 2.88s\tremaining: 3.85s\n",
      "171:\tlearn: 4964.8968523\ttotal: 2.89s\tremaining: 3.83s\n",
      "172:\tlearn: 4954.9806147\ttotal: 2.91s\tremaining: 3.81s\n",
      "173:\tlearn: 4946.2234791\ttotal: 2.92s\tremaining: 3.8s\n",
      "174:\tlearn: 4940.3058594\ttotal: 2.94s\tremaining: 3.78s\n",
      "175:\tlearn: 4933.2938499\ttotal: 2.95s\tremaining: 3.76s\n",
      "176:\tlearn: 4926.3318973\ttotal: 2.97s\tremaining: 3.74s\n",
      "177:\tlearn: 4922.1516502\ttotal: 2.98s\tremaining: 3.72s\n",
      "178:\tlearn: 4917.7609178\ttotal: 3s\tremaining: 3.7s\n",
      "179:\tlearn: 4910.6810327\ttotal: 3.01s\tremaining: 3.68s\n",
      "180:\tlearn: 4906.6120980\ttotal: 3.03s\tremaining: 3.66s\n",
      "181:\tlearn: 4896.8598196\ttotal: 3.04s\tremaining: 3.65s\n",
      "182:\tlearn: 4889.3932260\ttotal: 3.06s\tremaining: 3.63s\n",
      "183:\tlearn: 4878.4831086\ttotal: 3.08s\tremaining: 3.61s\n",
      "184:\tlearn: 4870.0126206\ttotal: 3.09s\tremaining: 3.59s\n",
      "185:\tlearn: 4858.7004502\ttotal: 3.11s\tremaining: 3.57s\n",
      "186:\tlearn: 4850.8920523\ttotal: 3.12s\tremaining: 3.56s\n",
      "187:\tlearn: 4847.3242122\ttotal: 3.13s\tremaining: 3.54s\n",
      "188:\tlearn: 4839.1245534\ttotal: 3.15s\tremaining: 3.52s\n",
      "189:\tlearn: 4830.3599228\ttotal: 3.17s\tremaining: 3.5s\n",
      "190:\tlearn: 4826.8173460\ttotal: 3.18s\tremaining: 3.48s\n",
      "191:\tlearn: 4810.6829270\ttotal: 3.2s\tremaining: 3.46s\n",
      "192:\tlearn: 4798.0808665\ttotal: 3.21s\tremaining: 3.44s\n",
      "193:\tlearn: 4794.5840331\ttotal: 3.23s\tremaining: 3.43s\n",
      "194:\tlearn: 4788.5459074\ttotal: 3.24s\tremaining: 3.41s\n",
      "195:\tlearn: 4780.2645397\ttotal: 3.26s\tremaining: 3.39s\n",
      "196:\tlearn: 4778.0568385\ttotal: 3.28s\tremaining: 3.38s\n",
      "197:\tlearn: 4759.3680966\ttotal: 3.29s\tremaining: 3.36s\n",
      "198:\tlearn: 4752.2913207\ttotal: 3.31s\tremaining: 3.34s\n",
      "199:\tlearn: 4743.7464101\ttotal: 3.32s\tremaining: 3.32s\n",
      "200:\tlearn: 4737.7762634\ttotal: 3.34s\tremaining: 3.3s\n",
      "201:\tlearn: 4731.3769272\ttotal: 3.35s\tremaining: 3.29s\n",
      "202:\tlearn: 4724.6440243\ttotal: 3.37s\tremaining: 3.27s\n",
      "203:\tlearn: 4719.7389874\ttotal: 3.38s\tremaining: 3.25s\n",
      "204:\tlearn: 4709.9699972\ttotal: 3.4s\tremaining: 3.24s\n",
      "205:\tlearn: 4706.1179559\ttotal: 3.42s\tremaining: 3.22s\n",
      "206:\tlearn: 4701.6225348\ttotal: 3.43s\tremaining: 3.2s\n",
      "207:\tlearn: 4697.2961761\ttotal: 3.45s\tremaining: 3.19s\n",
      "208:\tlearn: 4694.6391444\ttotal: 3.47s\tremaining: 3.17s\n",
      "209:\tlearn: 4689.8760070\ttotal: 3.48s\tremaining: 3.15s\n",
      "210:\tlearn: 4683.0735023\ttotal: 3.5s\tremaining: 3.13s\n",
      "211:\tlearn: 4679.0610518\ttotal: 3.51s\tremaining: 3.11s\n",
      "212:\tlearn: 4676.4116393\ttotal: 3.53s\tremaining: 3.1s\n",
      "213:\tlearn: 4670.9810408\ttotal: 3.54s\tremaining: 3.08s\n",
      "214:\tlearn: 4669.0651994\ttotal: 3.56s\tremaining: 3.06s\n",
      "215:\tlearn: 4667.3012222\ttotal: 3.58s\tremaining: 3.04s\n",
      "216:\tlearn: 4658.3099924\ttotal: 3.59s\tremaining: 3.03s\n",
      "217:\tlearn: 4653.6798962\ttotal: 3.61s\tremaining: 3.01s\n",
      "218:\tlearn: 4647.4735161\ttotal: 3.62s\tremaining: 2.99s\n",
      "219:\tlearn: 4637.5560082\ttotal: 3.64s\tremaining: 2.98s\n",
      "220:\tlearn: 4634.6931085\ttotal: 3.65s\tremaining: 2.96s\n",
      "221:\tlearn: 4630.2911188\ttotal: 3.67s\tremaining: 2.94s\n",
      "222:\tlearn: 4626.1013424\ttotal: 3.69s\tremaining: 2.92s\n",
      "223:\tlearn: 4624.0352795\ttotal: 3.7s\tremaining: 2.91s\n",
      "224:\tlearn: 4619.1460007\ttotal: 3.72s\tremaining: 2.89s\n",
      "225:\tlearn: 4613.4332053\ttotal: 3.73s\tremaining: 2.87s\n",
      "226:\tlearn: 4598.2288615\ttotal: 3.75s\tremaining: 2.86s\n",
      "227:\tlearn: 4596.0835279\ttotal: 3.76s\tremaining: 2.84s\n",
      "228:\tlearn: 4594.5284448\ttotal: 3.78s\tremaining: 2.82s\n",
      "229:\tlearn: 4575.2591983\ttotal: 3.79s\tremaining: 2.8s\n",
      "230:\tlearn: 4569.9225006\ttotal: 3.81s\tremaining: 2.79s\n",
      "231:\tlearn: 4557.9637720\ttotal: 3.83s\tremaining: 2.77s\n",
      "232:\tlearn: 4554.1497296\ttotal: 3.84s\tremaining: 2.75s\n",
      "233:\tlearn: 4549.1174207\ttotal: 3.86s\tremaining: 2.74s\n",
      "234:\tlearn: 4543.3546141\ttotal: 3.87s\tremaining: 2.72s\n",
      "235:\tlearn: 4533.5253690\ttotal: 3.89s\tremaining: 2.7s\n",
      "236:\tlearn: 4531.2901940\ttotal: 3.91s\tremaining: 2.69s\n",
      "237:\tlearn: 4527.9740322\ttotal: 3.92s\tremaining: 2.67s\n",
      "238:\tlearn: 4523.7549623\ttotal: 3.94s\tremaining: 2.65s\n",
      "239:\tlearn: 4511.5917198\ttotal: 3.95s\tremaining: 2.63s\n",
      "240:\tlearn: 4503.8434207\ttotal: 3.97s\tremaining: 2.62s\n",
      "241:\tlearn: 4501.4703307\ttotal: 3.98s\tremaining: 2.6s\n",
      "242:\tlearn: 4494.8051948\ttotal: 4s\tremaining: 2.58s\n",
      "243:\tlearn: 4484.8191915\ttotal: 4.01s\tremaining: 2.56s\n",
      "244:\tlearn: 4482.1373111\ttotal: 4.03s\tremaining: 2.55s\n",
      "245:\tlearn: 4477.8868813\ttotal: 4.04s\tremaining: 2.53s\n",
      "246:\tlearn: 4468.6936328\ttotal: 4.06s\tremaining: 2.52s\n",
      "247:\tlearn: 4453.2565115\ttotal: 4.08s\tremaining: 2.5s\n",
      "248:\tlearn: 4451.9136061\ttotal: 4.09s\tremaining: 2.48s\n",
      "249:\tlearn: 4448.4413574\ttotal: 4.11s\tremaining: 2.46s\n",
      "250:\tlearn: 4443.6117955\ttotal: 4.12s\tremaining: 2.45s\n",
      "251:\tlearn: 4441.1367949\ttotal: 4.14s\tremaining: 2.43s\n",
      "252:\tlearn: 4438.5222235\ttotal: 4.15s\tremaining: 2.41s\n",
      "253:\tlearn: 4436.3537814\ttotal: 4.17s\tremaining: 2.4s\n",
      "254:\tlearn: 4430.6270876\ttotal: 4.18s\tremaining: 2.38s\n",
      "255:\tlearn: 4427.0664284\ttotal: 4.2s\tremaining: 2.36s\n",
      "256:\tlearn: 4423.3136251\ttotal: 4.21s\tremaining: 2.35s\n",
      "257:\tlearn: 4418.5047810\ttotal: 4.23s\tremaining: 2.33s\n",
      "258:\tlearn: 4414.9349403\ttotal: 4.25s\tremaining: 2.31s\n",
      "259:\tlearn: 4412.0623341\ttotal: 4.27s\tremaining: 2.3s\n",
      "260:\tlearn: 4408.0028256\ttotal: 4.28s\tremaining: 2.28s\n",
      "261:\tlearn: 4402.2662610\ttotal: 4.3s\tremaining: 2.26s\n",
      "262:\tlearn: 4395.5754029\ttotal: 4.31s\tremaining: 2.25s\n",
      "263:\tlearn: 4391.7312670\ttotal: 4.33s\tremaining: 2.23s\n",
      "264:\tlearn: 4388.8738290\ttotal: 4.35s\tremaining: 2.21s\n",
      "265:\tlearn: 4384.7992503\ttotal: 4.36s\tremaining: 2.2s\n",
      "266:\tlearn: 4381.8471748\ttotal: 4.38s\tremaining: 2.18s\n",
      "267:\tlearn: 4379.4551564\ttotal: 4.39s\tremaining: 2.16s\n",
      "268:\tlearn: 4376.4830667\ttotal: 4.41s\tremaining: 2.15s\n",
      "269:\tlearn: 4368.7470854\ttotal: 4.43s\tremaining: 2.13s\n",
      "270:\tlearn: 4362.5203600\ttotal: 4.44s\tremaining: 2.12s\n",
      "271:\tlearn: 4359.8998281\ttotal: 4.46s\tremaining: 2.1s\n",
      "272:\tlearn: 4355.4039243\ttotal: 4.48s\tremaining: 2.08s\n",
      "273:\tlearn: 4345.5589615\ttotal: 4.5s\tremaining: 2.07s\n",
      "274:\tlearn: 4341.7492613\ttotal: 4.51s\tremaining: 2.05s\n",
      "275:\tlearn: 4340.5399570\ttotal: 4.53s\tremaining: 2.03s\n",
      "276:\tlearn: 4337.1300686\ttotal: 4.54s\tremaining: 2.02s\n",
      "277:\tlearn: 4332.5345637\ttotal: 4.56s\tremaining: 2s\n",
      "278:\tlearn: 4331.4830844\ttotal: 4.57s\tremaining: 1.98s\n",
      "279:\tlearn: 4329.2058948\ttotal: 4.59s\tremaining: 1.97s\n",
      "280:\tlearn: 4325.5802535\ttotal: 4.61s\tremaining: 1.95s\n",
      "281:\tlearn: 4321.3899272\ttotal: 4.62s\tremaining: 1.93s\n",
      "282:\tlearn: 4320.0823705\ttotal: 4.64s\tremaining: 1.92s\n",
      "283:\tlearn: 4317.9935284\ttotal: 4.65s\tremaining: 1.9s\n",
      "284:\tlearn: 4315.3510033\ttotal: 4.67s\tremaining: 1.88s\n",
      "285:\tlearn: 4312.7388365\ttotal: 4.69s\tremaining: 1.87s\n",
      "286:\tlearn: 4303.8976848\ttotal: 4.7s\tremaining: 1.85s\n",
      "287:\tlearn: 4300.4337742\ttotal: 4.72s\tremaining: 1.83s\n",
      "288:\tlearn: 4294.4966282\ttotal: 4.73s\tremaining: 1.82s\n",
      "289:\tlearn: 4292.5599848\ttotal: 4.75s\tremaining: 1.8s\n",
      "290:\tlearn: 4289.9020502\ttotal: 4.76s\tremaining: 1.78s\n",
      "291:\tlearn: 4288.6457444\ttotal: 4.78s\tremaining: 1.77s\n",
      "292:\tlearn: 4285.7211028\ttotal: 4.79s\tremaining: 1.75s\n",
      "293:\tlearn: 4282.3684502\ttotal: 4.8s\tremaining: 1.73s\n",
      "294:\tlearn: 4279.6041360\ttotal: 4.82s\tremaining: 1.72s\n",
      "295:\tlearn: 4277.0331234\ttotal: 4.84s\tremaining: 1.7s\n",
      "296:\tlearn: 4274.6123037\ttotal: 4.85s\tremaining: 1.68s\n",
      "297:\tlearn: 4270.2692692\ttotal: 4.87s\tremaining: 1.67s\n",
      "298:\tlearn: 4268.2547061\ttotal: 4.88s\tremaining: 1.65s\n",
      "299:\tlearn: 4265.9992031\ttotal: 4.9s\tremaining: 1.63s\n",
      "300:\tlearn: 4262.2909631\ttotal: 4.92s\tremaining: 1.62s\n",
      "301:\tlearn: 4258.8256923\ttotal: 4.93s\tremaining: 1.6s\n",
      "302:\tlearn: 4257.2376037\ttotal: 4.95s\tremaining: 1.58s\n",
      "303:\tlearn: 4238.6794981\ttotal: 4.96s\tremaining: 1.57s\n",
      "304:\tlearn: 4236.1870914\ttotal: 4.98s\tremaining: 1.55s\n",
      "305:\tlearn: 4234.4121117\ttotal: 4.99s\tremaining: 1.53s\n",
      "306:\tlearn: 4231.9603050\ttotal: 5.01s\tremaining: 1.52s\n",
      "307:\tlearn: 4229.9253490\ttotal: 5.03s\tremaining: 1.5s\n",
      "308:\tlearn: 4225.2251054\ttotal: 5.04s\tremaining: 1.48s\n",
      "309:\tlearn: 4218.7017195\ttotal: 5.06s\tremaining: 1.47s\n",
      "310:\tlearn: 4215.2352990\ttotal: 5.07s\tremaining: 1.45s\n",
      "311:\tlearn: 4213.0765227\ttotal: 5.09s\tremaining: 1.44s\n",
      "312:\tlearn: 4211.4551372\ttotal: 5.11s\tremaining: 1.42s\n",
      "313:\tlearn: 4206.6037992\ttotal: 5.12s\tremaining: 1.4s\n",
      "314:\tlearn: 4199.4255777\ttotal: 5.14s\tremaining: 1.39s\n",
      "315:\tlearn: 4197.8404298\ttotal: 5.15s\tremaining: 1.37s\n",
      "316:\tlearn: 4195.8145456\ttotal: 5.17s\tremaining: 1.35s\n",
      "317:\tlearn: 4194.3654226\ttotal: 5.19s\tremaining: 1.34s\n",
      "318:\tlearn: 4190.3138034\ttotal: 5.2s\tremaining: 1.32s\n",
      "319:\tlearn: 4187.6507387\ttotal: 5.22s\tremaining: 1.3s\n",
      "320:\tlearn: 4183.4315176\ttotal: 5.23s\tremaining: 1.29s\n",
      "321:\tlearn: 4181.9847898\ttotal: 5.25s\tremaining: 1.27s\n",
      "322:\tlearn: 4178.8030144\ttotal: 5.27s\tremaining: 1.25s\n",
      "323:\tlearn: 4177.0951784\ttotal: 5.28s\tremaining: 1.24s\n",
      "324:\tlearn: 4169.4239522\ttotal: 5.3s\tremaining: 1.22s\n",
      "325:\tlearn: 4163.6009203\ttotal: 5.32s\tremaining: 1.21s\n",
      "326:\tlearn: 4162.3522516\ttotal: 5.33s\tremaining: 1.19s\n",
      "327:\tlearn: 4151.4699211\ttotal: 5.35s\tremaining: 1.17s\n",
      "328:\tlearn: 4148.1776766\ttotal: 5.37s\tremaining: 1.16s\n",
      "329:\tlearn: 4145.0013507\ttotal: 5.38s\tremaining: 1.14s\n",
      "330:\tlearn: 4142.9038552\ttotal: 5.4s\tremaining: 1.13s\n",
      "331:\tlearn: 4140.2480033\ttotal: 5.42s\tremaining: 1.11s\n",
      "332:\tlearn: 4135.7010246\ttotal: 5.43s\tremaining: 1.09s\n",
      "333:\tlearn: 4134.2703970\ttotal: 5.45s\tremaining: 1.08s\n",
      "334:\tlearn: 4126.3646975\ttotal: 5.46s\tremaining: 1.06s\n",
      "335:\tlearn: 4124.9151801\ttotal: 5.48s\tremaining: 1.04s\n",
      "336:\tlearn: 4122.7667676\ttotal: 5.5s\tremaining: 1.03s\n",
      "337:\tlearn: 4121.7385733\ttotal: 5.51s\tremaining: 1.01s\n",
      "338:\tlearn: 4117.5548812\ttotal: 5.53s\tremaining: 995ms\n",
      "339:\tlearn: 4115.6015013\ttotal: 5.55s\tremaining: 979ms\n",
      "340:\tlearn: 4113.5075549\ttotal: 5.56s\tremaining: 962ms\n",
      "341:\tlearn: 4110.6223767\ttotal: 5.58s\tremaining: 946ms\n",
      "342:\tlearn: 4106.1666409\ttotal: 5.59s\tremaining: 929ms\n",
      "343:\tlearn: 4104.7782266\ttotal: 5.61s\tremaining: 913ms\n",
      "344:\tlearn: 4103.3200761\ttotal: 5.62s\tremaining: 897ms\n",
      "345:\tlearn: 4102.6000565\ttotal: 5.64s\tremaining: 880ms\n",
      "346:\tlearn: 4098.3014871\ttotal: 5.66s\tremaining: 864ms\n",
      "347:\tlearn: 4096.6255666\ttotal: 5.67s\tremaining: 847ms\n",
      "348:\tlearn: 4094.7123477\ttotal: 5.69s\tremaining: 831ms\n",
      "349:\tlearn: 4092.9715390\ttotal: 5.7s\tremaining: 815ms\n",
      "350:\tlearn: 4089.4230573\ttotal: 5.72s\tremaining: 798ms\n",
      "351:\tlearn: 4087.2049424\ttotal: 5.74s\tremaining: 782ms\n",
      "352:\tlearn: 4085.6234518\ttotal: 5.75s\tremaining: 766ms\n",
      "353:\tlearn: 4083.8141727\ttotal: 5.77s\tremaining: 750ms\n",
      "354:\tlearn: 4082.9201410\ttotal: 5.79s\tremaining: 733ms\n",
      "355:\tlearn: 4081.4812035\ttotal: 5.8s\tremaining: 717ms\n",
      "356:\tlearn: 4079.6221754\ttotal: 5.82s\tremaining: 701ms\n",
      "357:\tlearn: 4078.2317430\ttotal: 5.83s\tremaining: 684ms\n",
      "358:\tlearn: 4075.6288647\ttotal: 5.85s\tremaining: 668ms\n",
      "359:\tlearn: 4073.2333578\ttotal: 5.87s\tremaining: 652ms\n",
      "360:\tlearn: 4071.0064143\ttotal: 5.88s\tremaining: 635ms\n",
      "361:\tlearn: 4067.3219074\ttotal: 5.9s\tremaining: 619ms\n",
      "362:\tlearn: 4065.8465796\ttotal: 5.91s\tremaining: 603ms\n",
      "363:\tlearn: 4062.7173815\ttotal: 5.93s\tremaining: 586ms\n",
      "364:\tlearn: 4055.4836371\ttotal: 5.95s\tremaining: 570ms\n",
      "365:\tlearn: 4053.6160041\ttotal: 5.97s\tremaining: 554ms\n",
      "366:\tlearn: 4048.7048461\ttotal: 5.98s\tremaining: 538ms\n",
      "367:\tlearn: 4047.1898654\ttotal: 6s\tremaining: 522ms\n",
      "368:\tlearn: 4043.3697313\ttotal: 6.02s\tremaining: 505ms\n",
      "369:\tlearn: 4041.8533783\ttotal: 6.03s\tremaining: 489ms\n",
      "370:\tlearn: 4039.8590932\ttotal: 6.05s\tremaining: 473ms\n",
      "371:\tlearn: 4034.7017540\ttotal: 6.06s\tremaining: 456ms\n",
      "372:\tlearn: 4032.5735916\ttotal: 6.08s\tremaining: 440ms\n",
      "373:\tlearn: 4031.2825910\ttotal: 6.09s\tremaining: 424ms\n",
      "374:\tlearn: 4029.2842300\ttotal: 6.11s\tremaining: 407ms\n",
      "375:\tlearn: 4027.1558857\ttotal: 6.13s\tremaining: 391ms\n",
      "376:\tlearn: 4024.1590130\ttotal: 6.14s\tremaining: 375ms\n",
      "377:\tlearn: 4020.1924036\ttotal: 6.16s\tremaining: 358ms\n",
      "378:\tlearn: 4017.3294825\ttotal: 6.17s\tremaining: 342ms\n",
      "379:\tlearn: 4014.5704417\ttotal: 6.19s\tremaining: 326ms\n",
      "380:\tlearn: 4012.0258174\ttotal: 6.21s\tremaining: 309ms\n",
      "381:\tlearn: 4009.1639072\ttotal: 6.22s\tremaining: 293ms\n",
      "382:\tlearn: 4007.5071042\ttotal: 6.24s\tremaining: 277ms\n",
      "383:\tlearn: 4005.5903360\ttotal: 6.25s\tremaining: 261ms\n",
      "384:\tlearn: 4002.7579091\ttotal: 6.27s\tremaining: 244ms\n",
      "385:\tlearn: 4001.3691646\ttotal: 6.29s\tremaining: 228ms\n",
      "386:\tlearn: 3997.8882618\ttotal: 6.3s\tremaining: 212ms\n",
      "387:\tlearn: 3995.2076771\ttotal: 6.32s\tremaining: 195ms\n",
      "388:\tlearn: 3991.6800227\ttotal: 6.33s\tremaining: 179ms\n",
      "389:\tlearn: 3991.0433777\ttotal: 6.35s\tremaining: 163ms\n",
      "390:\tlearn: 3987.1799482\ttotal: 6.37s\tremaining: 147ms\n",
      "391:\tlearn: 3984.5253842\ttotal: 6.38s\tremaining: 130ms\n",
      "392:\tlearn: 3979.9771490\ttotal: 6.4s\tremaining: 114ms\n",
      "393:\tlearn: 3976.0039702\ttotal: 6.42s\tremaining: 97.7ms\n",
      "394:\tlearn: 3974.8441179\ttotal: 6.43s\tremaining: 81.4ms\n",
      "395:\tlearn: 3969.8174424\ttotal: 6.45s\tremaining: 65.1ms\n",
      "396:\tlearn: 3968.2029889\ttotal: 6.46s\tremaining: 48.9ms\n",
      "397:\tlearn: 3966.4229140\ttotal: 6.48s\tremaining: 32.6ms\n",
      "398:\tlearn: 3964.9900613\ttotal: 6.5s\tremaining: 16.3ms\n",
      "399:\tlearn: 3962.4868269\ttotal: 6.51s\tremaining: 0us\n"
     ]
    },
    {
     "data": {
      "text/html": [
       "<style>#sk-container-id-2 {color: black;background-color: white;}#sk-container-id-2 pre{padding: 0;}#sk-container-id-2 div.sk-toggleable {background-color: white;}#sk-container-id-2 label.sk-toggleable__label {cursor: pointer;display: block;width: 100%;margin-bottom: 0;padding: 0.3em;box-sizing: border-box;text-align: center;}#sk-container-id-2 label.sk-toggleable__label-arrow:before {content: \"▸\";float: left;margin-right: 0.25em;color: #696969;}#sk-container-id-2 label.sk-toggleable__label-arrow:hover:before {color: black;}#sk-container-id-2 div.sk-estimator:hover label.sk-toggleable__label-arrow:before {color: black;}#sk-container-id-2 div.sk-toggleable__content {max-height: 0;max-width: 0;overflow: hidden;text-align: left;background-color: #f0f8ff;}#sk-container-id-2 div.sk-toggleable__content pre {margin: 0.2em;color: black;border-radius: 0.25em;background-color: #f0f8ff;}#sk-container-id-2 input.sk-toggleable__control:checked~div.sk-toggleable__content {max-height: 200px;max-width: 100%;overflow: auto;}#sk-container-id-2 input.sk-toggleable__control:checked~label.sk-toggleable__label-arrow:before {content: \"▾\";}#sk-container-id-2 div.sk-estimator input.sk-toggleable__control:checked~label.sk-toggleable__label {background-color: #d4ebff;}#sk-container-id-2 div.sk-label input.sk-toggleable__control:checked~label.sk-toggleable__label {background-color: #d4ebff;}#sk-container-id-2 input.sk-hidden--visually {border: 0;clip: rect(1px 1px 1px 1px);clip: rect(1px, 1px, 1px, 1px);height: 1px;margin: -1px;overflow: hidden;padding: 0;position: absolute;width: 1px;}#sk-container-id-2 div.sk-estimator {font-family: monospace;background-color: #f0f8ff;border: 1px dotted black;border-radius: 0.25em;box-sizing: border-box;margin-bottom: 0.5em;}#sk-container-id-2 div.sk-estimator:hover {background-color: #d4ebff;}#sk-container-id-2 div.sk-parallel-item::after {content: \"\";width: 100%;border-bottom: 1px solid gray;flex-grow: 1;}#sk-container-id-2 div.sk-label:hover label.sk-toggleable__label {background-color: #d4ebff;}#sk-container-id-2 div.sk-serial::before {content: \"\";position: absolute;border-left: 1px solid gray;box-sizing: border-box;top: 0;bottom: 0;left: 50%;z-index: 0;}#sk-container-id-2 div.sk-serial {display: flex;flex-direction: column;align-items: center;background-color: white;padding-right: 0.2em;padding-left: 0.2em;position: relative;}#sk-container-id-2 div.sk-item {position: relative;z-index: 1;}#sk-container-id-2 div.sk-parallel {display: flex;align-items: stretch;justify-content: center;background-color: white;position: relative;}#sk-container-id-2 div.sk-item::before, #sk-container-id-2 div.sk-parallel-item::before {content: \"\";position: absolute;border-left: 1px solid gray;box-sizing: border-box;top: 0;bottom: 0;left: 50%;z-index: -1;}#sk-container-id-2 div.sk-parallel-item {display: flex;flex-direction: column;z-index: 1;position: relative;background-color: white;}#sk-container-id-2 div.sk-parallel-item:first-child::after {align-self: flex-end;width: 50%;}#sk-container-id-2 div.sk-parallel-item:last-child::after {align-self: flex-start;width: 50%;}#sk-container-id-2 div.sk-parallel-item:only-child::after {width: 0;}#sk-container-id-2 div.sk-dashed-wrapped {border: 1px dashed gray;margin: 0 0.4em 0.5em 0.4em;box-sizing: border-box;padding-bottom: 0.4em;background-color: white;}#sk-container-id-2 div.sk-label label {font-family: monospace;font-weight: bold;display: inline-block;line-height: 1.2em;}#sk-container-id-2 div.sk-label-container {text-align: center;}#sk-container-id-2 div.sk-container {/* jupyter's `normalize.less` sets `[hidden] { display: none; }` but bootstrap.min.css set `[hidden] { display: none !important; }` so we also need the `!important` here to be able to override the default hidden behavior on the sphinx rendered scikit-learn.org. See: https://github.com/scikit-learn/scikit-learn/issues/21755 */display: inline-block !important;position: relative;}#sk-container-id-2 div.sk-text-repr-fallback {display: none;}</style><div id=\"sk-container-id-2\" class=\"sk-top-container\"><div class=\"sk-text-repr-fallback\"><pre>GridSearchCV(cv=5,\n",
       "             estimator=&lt;catboost.core.CatBoostRegressor object at 0x000001EE1E3290D0&gt;,\n",
       "             n_jobs=-1,\n",
       "             param_grid={&#x27;colsample_bylevel&#x27;: [0.6, 0.8], &#x27;depth&#x27;: [3, 5, 7],\n",
       "                         &#x27;iterations&#x27;: [200, 300, 400],\n",
       "                         &#x27;learning_rate&#x27;: [0.01, 0.1, 1],\n",
       "                         &#x27;subsample&#x27;: [0.6, 0.8]},\n",
       "             return_train_score=True, scoring=&#x27;neg_mean_absolute_error&#x27;,\n",
       "             verbose=1)</pre><b>In a Jupyter environment, please rerun this cell to show the HTML representation or trust the notebook. <br />On GitHub, the HTML representation is unable to render, please try loading this page with nbviewer.org.</b></div><div class=\"sk-container\" hidden><div class=\"sk-item sk-dashed-wrapped\"><div class=\"sk-label-container\"><div class=\"sk-label sk-toggleable\"><input class=\"sk-toggleable__control sk-hidden--visually\" id=\"sk-estimator-id-4\" type=\"checkbox\" ><label for=\"sk-estimator-id-4\" class=\"sk-toggleable__label sk-toggleable__label-arrow\">GridSearchCV</label><div class=\"sk-toggleable__content\"><pre>GridSearchCV(cv=5,\n",
       "             estimator=&lt;catboost.core.CatBoostRegressor object at 0x000001EE1E3290D0&gt;,\n",
       "             n_jobs=-1,\n",
       "             param_grid={&#x27;colsample_bylevel&#x27;: [0.6, 0.8], &#x27;depth&#x27;: [3, 5, 7],\n",
       "                         &#x27;iterations&#x27;: [200, 300, 400],\n",
       "                         &#x27;learning_rate&#x27;: [0.01, 0.1, 1],\n",
       "                         &#x27;subsample&#x27;: [0.6, 0.8]},\n",
       "             return_train_score=True, scoring=&#x27;neg_mean_absolute_error&#x27;,\n",
       "             verbose=1)</pre></div></div></div><div class=\"sk-parallel\"><div class=\"sk-parallel-item\"><div class=\"sk-item\"><div class=\"sk-label-container\"><div class=\"sk-label sk-toggleable\"><input class=\"sk-toggleable__control sk-hidden--visually\" id=\"sk-estimator-id-5\" type=\"checkbox\" ><label for=\"sk-estimator-id-5\" class=\"sk-toggleable__label sk-toggleable__label-arrow\">estimator: CatBoostRegressor</label><div class=\"sk-toggleable__content\"><pre>&lt;catboost.core.CatBoostRegressor object at 0x000001EE1E3290D0&gt;</pre></div></div></div><div class=\"sk-serial\"><div class=\"sk-item\"><div class=\"sk-estimator sk-toggleable\"><input class=\"sk-toggleable__control sk-hidden--visually\" id=\"sk-estimator-id-6\" type=\"checkbox\" ><label for=\"sk-estimator-id-6\" class=\"sk-toggleable__label sk-toggleable__label-arrow\">CatBoostRegressor</label><div class=\"sk-toggleable__content\"><pre>&lt;catboost.core.CatBoostRegressor object at 0x000001EE1E3290D0&gt;</pre></div></div></div></div></div></div></div></div></div></div>"
      ],
      "text/plain": [
       "GridSearchCV(cv=5,\n",
       "             estimator=<catboost.core.CatBoostRegressor object at 0x000001EE1E3290D0>,\n",
       "             n_jobs=-1,\n",
       "             param_grid={'colsample_bylevel': [0.6, 0.8], 'depth': [3, 5, 7],\n",
       "                         'iterations': [200, 300, 400],\n",
       "                         'learning_rate': [0.01, 0.1, 1],\n",
       "                         'subsample': [0.6, 0.8]},\n",
       "             return_train_score=True, scoring='neg_mean_absolute_error',\n",
       "             verbose=1)"
      ]
     },
     "execution_count": 27,
     "metadata": {},
     "output_type": "execute_result"
    }
   ],
   "source": [
    "gridsearch.fit(X, y)"
   ]
  },
  {
   "cell_type": "code",
   "execution_count": 28,
   "metadata": {},
   "outputs": [
    {
     "data": {
      "text/plain": [
       "{'colsample_bylevel': 0.8,\n",
       " 'depth': 7,\n",
       " 'iterations': 400,\n",
       " 'learning_rate': 1,\n",
       " 'subsample': 0.8}"
      ]
     },
     "execution_count": 28,
     "metadata": {},
     "output_type": "execute_result"
    }
   ],
   "source": [
    "gridsearch.best_params_"
   ]
  },
  {
   "cell_type": "code",
   "execution_count": 29,
   "metadata": {},
   "outputs": [
    {
     "data": {
      "text/plain": [
       "-2620.055155247922"
      ]
     },
     "execution_count": 29,
     "metadata": {},
     "output_type": "execute_result"
    }
   ],
   "source": [
    "gridsearch.best_score_"
   ]
  },
  {
   "cell_type": "markdown",
   "metadata": {},
   "source": [
    "## Model Evaluation"
   ]
  },
  {
   "cell_type": "markdown",
   "metadata": {},
   "source": [
    "#### Loading test data \n",
    "\n",
    "**That contains all the features, but does not contain the target column**"
   ]
  },
  {
   "cell_type": "code",
   "execution_count": 15,
   "metadata": {},
   "outputs": [],
   "source": [
    "model1 = RandomForestRegressor(n_estimators=200, min_samples_split=2, min_samples_leaf=1,\n",
    "                              max_depth=7, bootstrap=True, random_state=0).fit(X_train, y_train)"
   ]
  },
  {
   "cell_type": "code",
   "execution_count": 16,
   "metadata": {},
   "outputs": [],
   "source": [
    "model2 = XGBRegressor(n_estimators=300, colsample_bytree=1.0, \n",
    "                      learning_rate=0.2, subsample=0.8, max_depth=5, random_state=0).fit(X_train, y_train)"
   ]
  },
  {
   "cell_type": "code",
   "execution_count": 17,
   "metadata": {},
   "outputs": [],
   "source": [
    "model3 = CatBoostRegressor(iterations=400, colsample_bylevel=0.8, depth=7, \n",
    "                           subsample=0.8, learning_rate=1, verbose=0, random_state=0).fit(X_train, y_train)"
   ]
  },
  {
   "cell_type": "code",
   "execution_count": 18,
   "metadata": {},
   "outputs": [
    {
     "data": {
      "text/html": [
       "<style>#sk-container-id-1 {color: black;background-color: white;}#sk-container-id-1 pre{padding: 0;}#sk-container-id-1 div.sk-toggleable {background-color: white;}#sk-container-id-1 label.sk-toggleable__label {cursor: pointer;display: block;width: 100%;margin-bottom: 0;padding: 0.3em;box-sizing: border-box;text-align: center;}#sk-container-id-1 label.sk-toggleable__label-arrow:before {content: \"▸\";float: left;margin-right: 0.25em;color: #696969;}#sk-container-id-1 label.sk-toggleable__label-arrow:hover:before {color: black;}#sk-container-id-1 div.sk-estimator:hover label.sk-toggleable__label-arrow:before {color: black;}#sk-container-id-1 div.sk-toggleable__content {max-height: 0;max-width: 0;overflow: hidden;text-align: left;background-color: #f0f8ff;}#sk-container-id-1 div.sk-toggleable__content pre {margin: 0.2em;color: black;border-radius: 0.25em;background-color: #f0f8ff;}#sk-container-id-1 input.sk-toggleable__control:checked~div.sk-toggleable__content {max-height: 200px;max-width: 100%;overflow: auto;}#sk-container-id-1 input.sk-toggleable__control:checked~label.sk-toggleable__label-arrow:before {content: \"▾\";}#sk-container-id-1 div.sk-estimator input.sk-toggleable__control:checked~label.sk-toggleable__label {background-color: #d4ebff;}#sk-container-id-1 div.sk-label input.sk-toggleable__control:checked~label.sk-toggleable__label {background-color: #d4ebff;}#sk-container-id-1 input.sk-hidden--visually {border: 0;clip: rect(1px 1px 1px 1px);clip: rect(1px, 1px, 1px, 1px);height: 1px;margin: -1px;overflow: hidden;padding: 0;position: absolute;width: 1px;}#sk-container-id-1 div.sk-estimator {font-family: monospace;background-color: #f0f8ff;border: 1px dotted black;border-radius: 0.25em;box-sizing: border-box;margin-bottom: 0.5em;}#sk-container-id-1 div.sk-estimator:hover {background-color: #d4ebff;}#sk-container-id-1 div.sk-parallel-item::after {content: \"\";width: 100%;border-bottom: 1px solid gray;flex-grow: 1;}#sk-container-id-1 div.sk-label:hover label.sk-toggleable__label {background-color: #d4ebff;}#sk-container-id-1 div.sk-serial::before {content: \"\";position: absolute;border-left: 1px solid gray;box-sizing: border-box;top: 0;bottom: 0;left: 50%;z-index: 0;}#sk-container-id-1 div.sk-serial {display: flex;flex-direction: column;align-items: center;background-color: white;padding-right: 0.2em;padding-left: 0.2em;position: relative;}#sk-container-id-1 div.sk-item {position: relative;z-index: 1;}#sk-container-id-1 div.sk-parallel {display: flex;align-items: stretch;justify-content: center;background-color: white;position: relative;}#sk-container-id-1 div.sk-item::before, #sk-container-id-1 div.sk-parallel-item::before {content: \"\";position: absolute;border-left: 1px solid gray;box-sizing: border-box;top: 0;bottom: 0;left: 50%;z-index: -1;}#sk-container-id-1 div.sk-parallel-item {display: flex;flex-direction: column;z-index: 1;position: relative;background-color: white;}#sk-container-id-1 div.sk-parallel-item:first-child::after {align-self: flex-end;width: 50%;}#sk-container-id-1 div.sk-parallel-item:last-child::after {align-self: flex-start;width: 50%;}#sk-container-id-1 div.sk-parallel-item:only-child::after {width: 0;}#sk-container-id-1 div.sk-dashed-wrapped {border: 1px dashed gray;margin: 0 0.4em 0.5em 0.4em;box-sizing: border-box;padding-bottom: 0.4em;background-color: white;}#sk-container-id-1 div.sk-label label {font-family: monospace;font-weight: bold;display: inline-block;line-height: 1.2em;}#sk-container-id-1 div.sk-label-container {text-align: center;}#sk-container-id-1 div.sk-container {/* jupyter's `normalize.less` sets `[hidden] { display: none; }` but bootstrap.min.css set `[hidden] { display: none !important; }` so we also need the `!important` here to be able to override the default hidden behavior on the sphinx rendered scikit-learn.org. See: https://github.com/scikit-learn/scikit-learn/issues/21755 */display: inline-block !important;position: relative;}#sk-container-id-1 div.sk-text-repr-fallback {display: none;}</style><div id=\"sk-container-id-1\" class=\"sk-top-container\"><div class=\"sk-text-repr-fallback\"><pre>StackingRegressor(estimators=[(&#x27;rf&#x27;,\n",
       "                               RandomForestRegressor(max_depth=7,\n",
       "                                                     n_estimators=200,\n",
       "                                                     random_state=0)),\n",
       "                              (&#x27;xgb&#x27;,\n",
       "                               XGBRegressor(base_score=None, booster=None,\n",
       "                                            callbacks=None,\n",
       "                                            colsample_bylevel=None,\n",
       "                                            colsample_bynode=None,\n",
       "                                            colsample_bytree=1.0,\n",
       "                                            early_stopping_rounds=None,\n",
       "                                            enable_categorical=False,\n",
       "                                            eval_metric=None,\n",
       "                                            feature_types=None, gamma=None,\n",
       "                                            gpu_id=None, grow_...\n",
       "                                            max_cat_threshold=None,\n",
       "                                            max_cat_to_onehot=None,\n",
       "                                            max_delta_step=None, max_depth=5,\n",
       "                                            max_leaves=None,\n",
       "                                            min_child_weight=None, missing=nan,\n",
       "                                            monotone_constraints=None,\n",
       "                                            n_estimators=300, n_jobs=None,\n",
       "                                            num_parallel_tree=None,\n",
       "                                            predictor=None, random_state=0, ...)),\n",
       "                              (&#x27;catboost&#x27;,\n",
       "                               &lt;catboost.core.CatBoostRegressor object at 0x0000025BA0DE0F40&gt;)],\n",
       "                  final_estimator=LinearRegression())</pre><b>In a Jupyter environment, please rerun this cell to show the HTML representation or trust the notebook. <br />On GitHub, the HTML representation is unable to render, please try loading this page with nbviewer.org.</b></div><div class=\"sk-container\" hidden><div class=\"sk-item sk-dashed-wrapped\"><div class=\"sk-label-container\"><div class=\"sk-label sk-toggleable\"><input class=\"sk-toggleable__control sk-hidden--visually\" id=\"sk-estimator-id-1\" type=\"checkbox\" ><label for=\"sk-estimator-id-1\" class=\"sk-toggleable__label sk-toggleable__label-arrow\">StackingRegressor</label><div class=\"sk-toggleable__content\"><pre>StackingRegressor(estimators=[(&#x27;rf&#x27;,\n",
       "                               RandomForestRegressor(max_depth=7,\n",
       "                                                     n_estimators=200,\n",
       "                                                     random_state=0)),\n",
       "                              (&#x27;xgb&#x27;,\n",
       "                               XGBRegressor(base_score=None, booster=None,\n",
       "                                            callbacks=None,\n",
       "                                            colsample_bylevel=None,\n",
       "                                            colsample_bynode=None,\n",
       "                                            colsample_bytree=1.0,\n",
       "                                            early_stopping_rounds=None,\n",
       "                                            enable_categorical=False,\n",
       "                                            eval_metric=None,\n",
       "                                            feature_types=None, gamma=None,\n",
       "                                            gpu_id=None, grow_...\n",
       "                                            max_cat_threshold=None,\n",
       "                                            max_cat_to_onehot=None,\n",
       "                                            max_delta_step=None, max_depth=5,\n",
       "                                            max_leaves=None,\n",
       "                                            min_child_weight=None, missing=nan,\n",
       "                                            monotone_constraints=None,\n",
       "                                            n_estimators=300, n_jobs=None,\n",
       "                                            num_parallel_tree=None,\n",
       "                                            predictor=None, random_state=0, ...)),\n",
       "                              (&#x27;catboost&#x27;,\n",
       "                               &lt;catboost.core.CatBoostRegressor object at 0x0000025BA0DE0F40&gt;)],\n",
       "                  final_estimator=LinearRegression())</pre></div></div></div><div class=\"sk-serial\"><div class=\"sk-item\"><div class=\"sk-parallel\"><div class=\"sk-parallel-item\"><div class=\"sk-item\"><div class=\"sk-label-container\"><div class=\"sk-label sk-toggleable\"><label>rf</label></div></div><div class=\"sk-serial\"><div class=\"sk-item\"><div class=\"sk-estimator sk-toggleable\"><input class=\"sk-toggleable__control sk-hidden--visually\" id=\"sk-estimator-id-2\" type=\"checkbox\" ><label for=\"sk-estimator-id-2\" class=\"sk-toggleable__label sk-toggleable__label-arrow\">RandomForestRegressor</label><div class=\"sk-toggleable__content\"><pre>RandomForestRegressor(max_depth=7, n_estimators=200, random_state=0)</pre></div></div></div></div></div></div><div class=\"sk-parallel-item\"><div class=\"sk-item\"><div class=\"sk-label-container\"><div class=\"sk-label sk-toggleable\"><label>xgb</label></div></div><div class=\"sk-serial\"><div class=\"sk-item\"><div class=\"sk-estimator sk-toggleable\"><input class=\"sk-toggleable__control sk-hidden--visually\" id=\"sk-estimator-id-3\" type=\"checkbox\" ><label for=\"sk-estimator-id-3\" class=\"sk-toggleable__label sk-toggleable__label-arrow\">XGBRegressor</label><div class=\"sk-toggleable__content\"><pre>XGBRegressor(base_score=None, booster=None, callbacks=None,\n",
       "             colsample_bylevel=None, colsample_bynode=None,\n",
       "             colsample_bytree=1.0, early_stopping_rounds=None,\n",
       "             enable_categorical=False, eval_metric=None, feature_types=None,\n",
       "             gamma=None, gpu_id=None, grow_policy=None, importance_type=None,\n",
       "             interaction_constraints=None, learning_rate=0.2, max_bin=None,\n",
       "             max_cat_threshold=None, max_cat_to_onehot=None,\n",
       "             max_delta_step=None, max_depth=5, max_leaves=None,\n",
       "             min_child_weight=None, missing=nan, monotone_constraints=None,\n",
       "             n_estimators=300, n_jobs=None, num_parallel_tree=None,\n",
       "             predictor=None, random_state=0, ...)</pre></div></div></div></div></div></div><div class=\"sk-parallel-item\"><div class=\"sk-item\"><div class=\"sk-label-container\"><div class=\"sk-label sk-toggleable\"><label>catboost</label></div></div><div class=\"sk-serial\"><div class=\"sk-item\"><div class=\"sk-estimator sk-toggleable\"><input class=\"sk-toggleable__control sk-hidden--visually\" id=\"sk-estimator-id-4\" type=\"checkbox\" ><label for=\"sk-estimator-id-4\" class=\"sk-toggleable__label sk-toggleable__label-arrow\">CatBoostRegressor</label><div class=\"sk-toggleable__content\"><pre>&lt;catboost.core.CatBoostRegressor object at 0x0000025BA0DE0F40&gt;</pre></div></div></div></div></div></div></div></div><div class=\"sk-item\"><div class=\"sk-parallel\"><div class=\"sk-parallel-item\"><div class=\"sk-item\"><div class=\"sk-label-container\"><div class=\"sk-label sk-toggleable\"><label>final_estimator</label></div></div><div class=\"sk-serial\"><div class=\"sk-item\"><div class=\"sk-estimator sk-toggleable\"><input class=\"sk-toggleable__control sk-hidden--visually\" id=\"sk-estimator-id-5\" type=\"checkbox\" ><label for=\"sk-estimator-id-5\" class=\"sk-toggleable__label sk-toggleable__label-arrow\">LinearRegression</label><div class=\"sk-toggleable__content\"><pre>LinearRegression()</pre></div></div></div></div></div></div></div></div></div></div></div></div>"
      ],
      "text/plain": [
       "StackingRegressor(estimators=[('rf',\n",
       "                               RandomForestRegressor(max_depth=7,\n",
       "                                                     n_estimators=200,\n",
       "                                                     random_state=0)),\n",
       "                              ('xgb',\n",
       "                               XGBRegressor(base_score=None, booster=None,\n",
       "                                            callbacks=None,\n",
       "                                            colsample_bylevel=None,\n",
       "                                            colsample_bynode=None,\n",
       "                                            colsample_bytree=1.0,\n",
       "                                            early_stopping_rounds=None,\n",
       "                                            enable_categorical=False,\n",
       "                                            eval_metric=None,\n",
       "                                            feature_types=None, gamma=None,\n",
       "                                            gpu_id=None, grow_...\n",
       "                                            max_cat_threshold=None,\n",
       "                                            max_cat_to_onehot=None,\n",
       "                                            max_delta_step=None, max_depth=5,\n",
       "                                            max_leaves=None,\n",
       "                                            min_child_weight=None, missing=nan,\n",
       "                                            monotone_constraints=None,\n",
       "                                            n_estimators=300, n_jobs=None,\n",
       "                                            num_parallel_tree=None,\n",
       "                                            predictor=None, random_state=0, ...)),\n",
       "                              ('catboost',\n",
       "                               <catboost.core.CatBoostRegressor object at 0x0000025BA0DE0F40>)],\n",
       "                  final_estimator=LinearRegression())"
      ]
     },
     "execution_count": 18,
     "metadata": {},
     "output_type": "execute_result"
    }
   ],
   "source": [
    "from sklearn.linear_model import LinearRegression\n",
    "# Create the stacking ensemble with one of the models as the meta-model\n",
    "estimators = [('rf', model1), ('xgb', model2), ('catboost', model3)]\n",
    "meta_model = model1  # Choose one of the models as the meta-model\n",
    "stacking_model = StackingRegressor(estimators, final_estimator=LinearRegression())\n",
    "\n",
    "# Fit the stacking ensemble to the training data\n",
    "stacking_model.fit(X_train, y_train)"
   ]
  },
  {
   "cell_type": "markdown",
   "metadata": {},
   "source": [
    "#### Models R^2 and MAE scores"
   ]
  },
  {
   "cell_type": "code",
   "execution_count": 19,
   "metadata": {},
   "outputs": [],
   "source": [
    "def printing_scores_mae(r2_train, r2_test, mae, model_name):\n",
    "    print(f'{model_name} Trianing set R^2 score : {r2_train}')\n",
    "    print(f'{model_name} Testing set R^2 score : {r2_test}')\n",
    "    print(f'{model_name} Testing set MAE score : {mae}')"
   ]
  },
  {
   "cell_type": "code",
   "execution_count": 20,
   "metadata": {},
   "outputs": [
    {
     "name": "stdout",
     "output_type": "stream",
     "text": [
      "Random Forest Trianing set R^2 score : 0.7624544989532017\n",
      "Random Forest Testing set R^2 score : 0.7944343821047011\n",
      "Random Forest Testing set MAE score : 6285.190734384476\n"
     ]
    }
   ],
   "source": [
    "printing_scores_mae(model1.score(X_train, y_train), model1.score(X_test, y_test), mean_absolute_error(y_test, model1.predict(X_test)), 'Random Forest')"
   ]
  },
  {
   "cell_type": "code",
   "execution_count": 21,
   "metadata": {},
   "outputs": [
    {
     "name": "stdout",
     "output_type": "stream",
     "text": [
      "XGBoost Trianing set R^2 score : 0.948074451685192\n",
      "XGBoost Testing set R^2 score : 0.9455679333285798\n",
      "XGBoost Testing set MAE score : 3063.3751180348117\n"
     ]
    }
   ],
   "source": [
    "printing_scores_mae(model2.score(X_train, y_train), model2.score(X_test, y_test), mean_absolute_error(y_test, model2.predict(X_test)), 'XGBoost')"
   ]
  },
  {
   "cell_type": "code",
   "execution_count": 22,
   "metadata": {},
   "outputs": [
    {
     "name": "stdout",
     "output_type": "stream",
     "text": [
      "CatBoost Trianing set R^2 score : 0.9696453537237703\n",
      "CatBoost Testing set R^2 score : 0.9602074074282643\n",
      "CatBoost Testing set MAE score : 2591.3319105548103\n"
     ]
    }
   ],
   "source": [
    "printing_scores_mae(model3.score(X_train, y_train), model3.score(X_test, y_test), mean_absolute_error(y_test, model3.predict(X_test)), 'CatBoost')"
   ]
  },
  {
   "cell_type": "code",
   "execution_count": 23,
   "metadata": {},
   "outputs": [
    {
     "name": "stdout",
     "output_type": "stream",
     "text": [
      "Stacking Regressor Trianing set R^2 score : 0.9694356436537296\n",
      "Stacking Regressor Testing set R^2 score : 0.9604433105437998\n",
      "Stacking Regressor Testing set MAE score : 2543.353521579216\n"
     ]
    }
   ],
   "source": [
    "printing_scores_mae(stacking_model.score(X_train, y_train), stacking_model.score(X_test, y_test), mean_absolute_error(y_test, stacking_model.predict(X_test)), 'Stacking Regressor')"
   ]
  },
  {
   "cell_type": "code",
   "execution_count": 24,
   "metadata": {},
   "outputs": [],
   "source": [
    "def predict_plot(y_train, X_test, y_test, reg, test_data):\n",
    "    y_pred = reg.predict(X_test)\n",
    "    y_pred = pd.DataFrame(y_pred,index = X_test.index,columns=['Prediction'])\n",
    "\n",
    "    y_pred_new = reg.predict(test_data)\n",
    "    y_pred_new = pd.DataFrame(y_pred_new,index = test_data.index,columns=['Prediction'])\n",
    "\n",
    "    plt.figure(figsize=(20,6))\n",
    "    plt.title('Prediction of Weekly Sales', fontsize=20)\n",
    "    plt.plot(y_train.resample('W').mean(), label='Training data')\n",
    "    plt.plot(y_test.resample('W').mean(), label='Test data with target')\n",
    "    plt.plot(y_pred_new.resample('W').mean(), label='Prediction of test data without target')\n",
    "    plt.plot(y_pred.resample('W').mean(), label='Prediction of test data with target')\n",
    "    plt.legend(loc='best')\n",
    "    plt.xlabel('Date', fontsize=14)\n",
    "    plt.ylabel('Weekly Sales', fontsize=14)\n",
    "    plt.show()"
   ]
  },
  {
   "cell_type": "code",
   "execution_count": 25,
   "metadata": {},
   "outputs": [
    {
     "ename": "NameError",
     "evalue": "name 'test_data' is not defined",
     "output_type": "error",
     "traceback": [
      "\u001b[1;31m---------------------------------------------------------------------------\u001b[0m",
      "\u001b[1;31mNameError\u001b[0m                                 Traceback (most recent call last)",
      "Cell \u001b[1;32mIn[25], line 1\u001b[0m\n\u001b[1;32m----> 1\u001b[0m predict_plot(y_train, X_test, y_test, model1, test_data)\n",
      "\u001b[1;31mNameError\u001b[0m: name 'test_data' is not defined"
     ]
    }
   ],
   "source": [
    "predict_plot(y_train, X_test, y_test, model1, test_data)"
   ]
  },
  {
   "cell_type": "code",
   "execution_count": 26,
   "metadata": {},
   "outputs": [
    {
     "ename": "NameError",
     "evalue": "name 'test_data' is not defined",
     "output_type": "error",
     "traceback": [
      "\u001b[1;31m---------------------------------------------------------------------------\u001b[0m",
      "\u001b[1;31mNameError\u001b[0m                                 Traceback (most recent call last)",
      "Cell \u001b[1;32mIn[26], line 1\u001b[0m\n\u001b[1;32m----> 1\u001b[0m predict_plot(y_train, X_test, y_test, model2, test_data)\n",
      "\u001b[1;31mNameError\u001b[0m: name 'test_data' is not defined"
     ]
    }
   ],
   "source": [
    "predict_plot(y_train, X_test, y_test, model2, test_data)"
   ]
  },
  {
   "cell_type": "code",
   "execution_count": 501,
   "metadata": {},
   "outputs": [
    {
     "data": {
      "image/png": "[encoded data removed]",
      "text/plain": [
       "<Figure size 2000x600 with 1 Axes>"
      ]
     },
     "metadata": {},
     "output_type": "display_data"
    }
   ],
   "source": [
    "predict_plot(y_train, X_test, y_test, model3, test_data)"
   ]
  },
  {
   "cell_type": "code",
   "execution_count": 502,
   "metadata": {},
   "outputs": [
    {
     "data": {
      "image/png": "[encoded data removed]",
      "text/plain": [
       "<Figure size 2000x600 with 1 Axes>"
      ]
     },
     "metadata": {},
     "output_type": "display_data"
    }
   ],
   "source": [
    "predict_plot(y_train, X_test, y_test, stacking_model, test_data)"
   ]
  },
  {
   "cell_type": "markdown",
   "metadata": {},
   "source": [
    "#### Stacking Model Cross Validation Score using KFolds"
   ]
  },
  {
   "cell_type": "code",
   "execution_count": 82,
   "metadata": {},
   "outputs": [
    {
     "name": "stdout",
     "output_type": "stream",
     "text": [
      "-2299.308853640527\n"
     ]
    }
   ],
   "source": [
    "kfold = KFold(n_splits=5)\n",
    "scores = cross_val_score(stacking_model, X, y, cv=kfold, scoring =\"neg_mean_absolute_error\", n_jobs=-1)\n",
    "print(scores.mean())"
   ]
  },
  {
   "cell_type": "markdown",
   "metadata": {},
   "source": [
    "## Model Exporting"
   ]
  },
  {
   "cell_type": "code",
   "execution_count": 29,
   "metadata": {},
   "outputs": [],
   "source": [
    "import joblib"
   ]
  },
  {
   "cell_type": "code",
   "execution_count": 30,
   "metadata": {},
   "outputs": [],
   "source": [
    "def model_export(model, file_name):\n",
    "    with open(file_name, 'wb') as file:\n",
    "        joblib.dump(model, file, compress=True)\n",
    "        file.close()\n",
    "\n",
    "def model_load(file_name):\n",
    "    with open(file_name, 'rb') as file:\n",
    "        return joblib.load(file)"
   ]
  },
  {
   "cell_type": "code",
   "execution_count": 31,
   "metadata": {},
   "outputs": [],
   "source": [
    "## Saving models\n",
    "\n",
    "model_export(model1, 'RandomForest_model.joblib')\n",
    "model_export(model2, 'XGBRegressor_model.joblib')\n",
    "model_export(model3, 'CatBoostRegressor_model.joblib')\n",
    "\n",
    "model_export(stacking_model, 'Stacked_model.joblib')"
   ]
  },
  {
   "cell_type": "code",
   "execution_count": 512,
   "metadata": {},
   "outputs": [],
   "source": [
    "## Loading models\n",
    "# rf = model_load('RandomForest_model.joblib')\n",
    "# xgb = model_load('XGBRegressor_model.joblib')\n",
    "# cb = model_load('CatBoostRegressor_model.joblib')\n",
    "# sm = model_load('Stacked_model.joblib')"
   ]
  },
  {
   "cell_type": "code",
   "execution_count": null,
   "metadata": {},
   "outputs": [],
   "source": []
  }
 ],
 "metadata": {
  "kernelspec": {
   "display_name": "Python 3 (ipykernel)",
   "language": "python",
   "name": "python3"
  },
  "language_info": {
   "codemirror_mode": {
    "name": "ipython",
    "version": 3
   },
   "file_extension": ".py",
   "mimetype": "text/x-python",
   "name": "python",
   "nbconvert_exporter": "python",
   "pygments_lexer": "ipython3",
   "version": "3.9.16"
  }
 },
 "nbformat": 4,
 "nbformat_minor": 2
}
